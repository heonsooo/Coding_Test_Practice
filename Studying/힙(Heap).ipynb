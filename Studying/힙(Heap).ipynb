{
 "cells": [
  {
   "cell_type": "markdown",
   "metadata": {},
   "source": [
    "# 힙큐(heapq)"
   ]
  },
  {
   "cell_type": "code",
   "execution_count": 17,
   "metadata": {},
   "outputs": [
    {
     "name": "stdout",
     "output_type": "stream",
     "text": [
      "[3, 5]\n",
      "[1, 3, 9, 5]\n",
      "1 \n",
      " [3, 5, 9]\n"
     ]
    }
   ],
   "source": [
    "import heapq\n",
    "\n",
    "heap = []\n",
    "\n",
    " # heapq.heappush(리스트, 원소) -> 자동으로 sort되어서 저장\n",
    "heapq.heappush(heap,5)\n",
    "heapq.heappush(heap,3)\n",
    "print(heap) \n",
    "\n",
    "heapq.heappush(heap,9)\n",
    "heapq.heappush(heap,1)\n",
    "\n",
    "print(heap)\n",
    "a = heapq.heappop(heap)\n",
    "print(a, '\\n', heap)\n"
   ]
  },
  {
   "cell_type": "code",
   "execution_count": 18,
   "metadata": {},
   "outputs": [
    {
     "name": "stdout",
     "output_type": "stream",
     "text": [
      "[1, 3, 5, 8, 6, 52, 7, 50]\n",
      "[5, 6, 7, 8, 50, 52]\n"
     ]
    }
   ],
   "source": [
    "num = [6,8,52,1,3,5,7,50]\n",
    "\n",
    "# 기존 존재하는 리스트를  heap으로 만들기\n",
    "heapq.heapify(num)\n",
    "\n",
    "# 최솟값이 첫번째 인덱스로 정렬\n",
    "print(num)\n",
    "\n",
    "# 최솟값 빼주기 \n",
    "heapq.heappop(num)\n",
    "heapq.heappop(num)\n",
    "print(num)"
   ]
  }
 ],
 "metadata": {
  "kernelspec": {
   "display_name": "Python 3",
   "language": "python",
   "name": "python3"
  },
  "language_info": {
   "codemirror_mode": {
    "name": "ipython",
    "version": 3
   },
   "file_extension": ".py",
   "mimetype": "text/x-python",
   "name": "python",
   "nbconvert_exporter": "python",
   "pygments_lexer": "ipython3",
   "version": "3.7.6"
  }
 },
 "nbformat": 4,
 "nbformat_minor": 4
}
