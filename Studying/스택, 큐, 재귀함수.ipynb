{
 "cells": [
  {
   "cell_type": "markdown",
   "metadata": {},
   "source": [
    "# Stack \n",
    "- 선입후출"
   ]
  },
  {
   "cell_type": "code",
   "execution_count": 1,
   "metadata": {},
   "outputs": [
    {
     "name": "stdout",
     "output_type": "stream",
     "text": [
      "[7, 13, 6, 9, 1]\n",
      "[1, 9, 6, 13, 7]\n"
     ]
    }
   ],
   "source": [
    "stack = []\n",
    "\n",
    "stack.append(7)\n",
    "stack.append(13)\n",
    "stack.append(6)\n",
    "stack.append(8)\n",
    "stack.pop()\n",
    "stack.append(9)\n",
    "stack.append(1)\n",
    "stack.pop\n",
    "\n",
    "print(stack)\n",
    "print(stack[::-1])"
   ]
  },
  {
   "cell_type": "markdown",
   "metadata": {},
   "source": [
    "# Queue\n",
    "- 선입선출"
   ]
  },
  {
   "cell_type": "code",
   "execution_count": 2,
   "metadata": {},
   "outputs": [
    {
     "name": "stdout",
     "output_type": "stream",
     "text": [
      "deque([7, 9, 34, 17])\n",
      "deque([17, 34, 9, 7])\n"
     ]
    }
   ],
   "source": [
    "from collections import deque\n",
    "\n",
    "# deque가 시간복잡도에서 더 효율적임 O(N)\n",
    "queue = deque()\n",
    "\n",
    "queue.append(5)\n",
    "queue.append(4)\n",
    "queue.append(7)\n",
    "queue.append(9)\n",
    "queue.popleft()\n",
    "queue.append(34)\n",
    "queue.append(17)\n",
    "queue.popleft()\n",
    "\n",
    "print(queue)\n",
    "queue.reverse()\n",
    "print(queue)"
   ]
  },
  {
   "cell_type": "markdown",
   "metadata": {},
   "source": [
    "# 재귀함수\n",
    "- 자기 자신을 다시 호출하는 함수\n",
    "- 반드시 종료조건 명시해야함"
   ]
  },
  {
   "cell_type": "code",
   "execution_count": 4,
   "metadata": {},
   "outputs": [
    {
     "name": "stdout",
     "output_type": "stream",
     "text": [
      "34 번째 재귀함수에서 35 번째 재귀함수를 호출합니다.\n",
      "35 번째 재귀함수에서 36 번째 재귀함수를 호출합니다.\n",
      "36 번째 재귀함수에서 37 번째 재귀함수를 호출합니다.\n",
      "37 번째 재귀함수에서 38 번째 재귀함수를 호출합니다.\n",
      "38 번째 재귀함수에서 39 번째 재귀함수를 호출합니다.\n",
      "39 번째 재귀함수에서 40 번째 재귀함수를 호출합니다.\n",
      "40 번째 재귀함수에서 41 번째 재귀함수를 호출합니다.\n",
      "41 번째 재귀함수에서 42 번째 재귀함수를 호출합니다.\n",
      "42 번째 재귀함수에서 43 번째 재귀함수를 호출합니다.\n",
      "43 번째 재귀함수에서 44 번째 재귀함수를 호출합니다.\n",
      "44 번째 재귀함수에서 45 번째 재귀함수를 호출합니다.\n",
      "45 번째 재귀함수에서 46 번째 재귀함수를 호출합니다.\n",
      "46 번째 재귀함수에서 47 번째 재귀함수를 호출합니다.\n",
      "47 번째 재귀함수에서 48 번째 재귀함수를 호출합니다.\n",
      "48 번째 재귀함수에서 49 번째 재귀함수를 호출합니다.\n",
      "49 번째 재귀함수에서 50 번째 재귀함수를 호출합니다.\n",
      "49 번째 재귀함수를 종료합니다.\n",
      "48 번째 재귀함수를 종료합니다.\n",
      "47 번째 재귀함수를 종료합니다.\n",
      "46 번째 재귀함수를 종료합니다.\n",
      "45 번째 재귀함수를 종료합니다.\n",
      "44 번째 재귀함수를 종료합니다.\n",
      "43 번째 재귀함수를 종료합니다.\n",
      "42 번째 재귀함수를 종료합니다.\n",
      "41 번째 재귀함수를 종료합니다.\n",
      "40 번째 재귀함수를 종료합니다.\n",
      "39 번째 재귀함수를 종료합니다.\n",
      "38 번째 재귀함수를 종료합니다.\n",
      "37 번째 재귀함수를 종료합니다.\n",
      "36 번째 재귀함수를 종료합니다.\n",
      "35 번째 재귀함수를 종료합니다.\n",
      "34 번째 재귀함수를 종료합니다.\n"
     ]
    }
   ],
   "source": [
    "def recursive_function(i):\n",
    "    \n",
    "    if i == 50:\n",
    "        return\n",
    "    print(i, '번째 재귀함수에서', i+1, '번째 재귀함수를 호출합니다.')\n",
    "    recursive_function(i+1)\n",
    "    \n",
    "    print(i, '번째 재귀함수를 종료합니다.')\n",
    "recursive_function(34)"
   ]
  },
  {
   "cell_type": "markdown",
   "metadata": {},
   "source": [
    "# 재귀함수 예제 1\n",
    "##  factorial (=팩토리얼 )\n"
   ]
  },
  {
   "cell_type": "code",
   "execution_count": 7,
   "metadata": {},
   "outputs": [
    {
     "data": {
      "text/plain": [
       "3628800"
      ]
     },
     "execution_count": 7,
     "metadata": {},
     "output_type": "execute_result"
    }
   ],
   "source": [
    "def factorial(n):\n",
    "    if n <= 1:\n",
    "        return 1\n",
    "    return n*factorial(n-1)\n",
    "\n",
    "factorial(10)"
   ]
  },
  {
   "cell_type": "markdown",
   "metadata": {},
   "source": [
    "# 재귀함수 예제  2\n",
    "##  최대공약수 계산 (유클리드 호제법)\n",
    "\n"
   ]
  },
  {
   "cell_type": "code",
   "execution_count": 10,
   "metadata": {},
   "outputs": [
    {
     "name": "stdout",
     "output_type": "stream",
     "text": [
      "5\n"
     ]
    }
   ],
   "source": [
    "def gcd(a,b):\n",
    "    if a%b ==0:\n",
    "        return b\n",
    "    else:\n",
    "        return gcd(b, a%b)\n",
    "\n",
    "print(gcd(15,5))"
   ]
  },
  {
   "cell_type": "code",
   "execution_count": null,
   "metadata": {},
   "outputs": [],
   "source": []
  }
 ],
 "metadata": {
  "kernelspec": {
   "display_name": "Python 3",
   "language": "python",
   "name": "python3"
  },
  "language_info": {
   "codemirror_mode": {
    "name": "ipython",
    "version": 3
   },
   "file_extension": ".py",
   "mimetype": "text/x-python",
   "name": "python",
   "nbconvert_exporter": "python",
   "pygments_lexer": "ipython3",
   "version": "3.7.6"
  }
 },
 "nbformat": 4,
 "nbformat_minor": 4
}
