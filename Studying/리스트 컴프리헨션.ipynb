{
 "cells": [
  {
   "cell_type": "markdown",
   "metadata": {},
   "source": [
    "## List Comprehension\n",
    "- 리스트 컴프리헨션은 간단하게 새로운 리스트를 만드는 방법이다.\n",
    "- 리스트와 for문을 한 줄에 사용할 수 잇는 장점이 있다.\n",
    "\n",
    "### List Compregension의 장점\n",
    "- 1) 문법적 간단함\n",
    "- 2) 런타임 시간이 더 짧다. -> 효율적인 연산을 사용한다."
   ]
  },
  {
   "cell_type": "code",
   "execution_count": 1,
   "metadata": {},
   "outputs": [
    {
     "name": "stdout",
     "output_type": "stream",
     "text": [
      "[0, 1, 2, 3, 4, 5, 6, 7, 8, 9]\n"
     ]
    }
   ],
   "source": [
    "result = []\n",
    "for i in range(10):\n",
    "    result.append(i)\n",
    "    \n",
    "print(result)"
   ]
  },
  {
   "cell_type": "code",
   "execution_count": 2,
   "metadata": {},
   "outputs": [
    {
     "name": "stdout",
     "output_type": "stream",
     "text": [
      "[0, 1, 2, 3, 4, 5, 6, 7, 8, 9]\n"
     ]
    }
   ],
   "source": [
    "result = [i for i in range(10)]\n",
    "print(result)"
   ]
  },
  {
   "cell_type": "markdown",
   "metadata": {},
   "source": [
    "이처럼 3줄의 코드를 1줄로 함축하여 포괄할 수 있다.   \n",
    "append를 사용하지 않고 훨씬 더 간결하게 표현이 가능하다!"
   ]
  },
  {
   "cell_type": "markdown",
   "metadata": {},
   "source": [
    "---"
   ]
  },
  {
   "cell_type": "code",
   "execution_count": 4,
   "metadata": {
    "scrolled": false
   },
   "outputs": [
    {
     "data": {
      "text/plain": [
       "[1, 3, 5, 7, 9]"
      ]
     },
     "execution_count": 4,
     "metadata": {},
     "output_type": "execute_result"
    }
   ],
   "source": [
    "result = []\n",
    "for i in range(10):\n",
    "    if i%2 == 1:\n",
    "        result.append(i)\n",
    "        \n",
    "result"
   ]
  },
  {
   "cell_type": "code",
   "execution_count": 7,
   "metadata": {},
   "outputs": [
    {
     "data": {
      "text/plain": [
       "[1, 3, 5, 7, 9]"
      ]
     },
     "execution_count": 7,
     "metadata": {},
     "output_type": "execute_result"
    }
   ],
   "source": [
    "result = [i for i in range(10) if i%2 ==1]\n",
    "\n",
    "result"
   ]
  },
  {
   "cell_type": "markdown",
   "metadata": {},
   "source": [
    "리스트 컴프리헨션문 끝에 조건문을 삽입하는 것도 가능하다!"
   ]
  },
  {
   "cell_type": "code",
   "execution_count": 14,
   "metadata": {},
   "outputs": [
    {
     "data": {
      "text/plain": [
       "[0, 1, 20, 300, 4, 50, 600, 7, 80, 900]"
      ]
     },
     "execution_count": 14,
     "metadata": {},
     "output_type": "execute_result"
    }
   ],
   "source": [
    "result = []\n",
    "for i in range(10):\n",
    "    if i%3 == 1:\n",
    "        result.append(i)\n",
    "    elif i%3 == 2:\n",
    "        result.append(i*10)\n",
    "    else:\n",
    "        result.append(i*100)\n",
    "        \n",
    "result"
   ]
  },
  {
   "cell_type": "code",
   "execution_count": 13,
   "metadata": {},
   "outputs": [
    {
     "data": {
      "text/plain": [
       "[0, 1, 20, 300, 4, 50, 600, 7, 80, 900]"
      ]
     },
     "execution_count": 13,
     "metadata": {},
     "output_type": "execute_result"
    }
   ],
   "source": [
    "result = [i if i%3 == 1 else i*10 if i%3 == 2 else i*100 for i in range(10)]\n",
    "result"
   ]
  },
  {
   "cell_type": "code",
   "execution_count": 53,
   "metadata": {},
   "outputs": [
    {
     "name": "stdout",
     "output_type": "stream",
     "text": [
      "['x1', 'y2', 'z3']\n",
      "['x1', 'x2', 'x3', 'y1', 'y2', 'y3', 'z1', 'z2', 'z3']\n",
      "[['x1', 'y1', 'z1'], ['x2', 'y2', 'z2'], ['x3', 'y3', 'z3']]\n"
     ]
    }
   ],
   "source": [
    "alp = ['x', 'y', 'z']\n",
    "num = ['1','2','3']\n",
    "\n",
    "alp_num1 = [ a+n for a,n in zip(alp,num)]\n",
    "\n",
    "alp_num2 = [a+n for a in alp for n in num]\n",
    "\n",
    "alp_num3 = [[a+n for a in alp] for n in num]\n",
    "\n",
    "print(alp_num1)\n",
    "print(alp_num2)\n",
    "print(alp_num3)\n"
   ]
  },
  {
   "cell_type": "markdown",
   "metadata": {},
   "source": [
    "alp_num1 : zip을 통한 for문    \n",
    "alp_num2 : 중첩 for문의 리스트 컴프리헨션  \n",
    "alp_num3 : 이차원 리스트 코드의 리스트 컴프리헨션이다.  "
   ]
  },
  {
   "cell_type": "markdown",
   "metadata": {},
   "source": [
    "split() : 문자열을 리스트형으로!   \n",
    "split('o') : 문자 'o'를 기준으로 나누어서 list (이때 해당 문자는 포함되지 않음)  \n",
    "\n",
    "  \n",
    "#### '__'.join() : 리스트를 문자열로!  \n",
    "-  join 앞에 문자열을 입력하면,  \n",
    "- 리스트 요소 사이에 특정 문자열을 붙여 연결한다.  \n",
    "           "
   ]
  },
  {
   "cell_type": "code",
   "execution_count": 87,
   "metadata": {},
   "outputs": [
    {
     "name": "stdout",
     "output_type": "stream",
     "text": [
      "Good Morning World!\n",
      "['Good', 'Morning', 'World!']\n",
      "['G', '', 'd M', 'rning W', 'rld!']\n",
      "GoodMorningWorld!\n",
      "Good Morning World!\n"
     ]
    }
   ],
   "source": [
    "word1 = 'Good Morning World!'\n",
    "print(word1)\n",
    "split_by_null = word1.split()\n",
    "split_by_o = word1.split('o')\n",
    "print(split_by_null)\n",
    "print(split_by_o)\n",
    "\n",
    "word2 = 'hello'\n",
    "join_null = ''.join(split_by_null)\n",
    "join_space = ' '.join(split_by_null)\n",
    "print(join_null)\n",
    "print(join_space)"
   ]
  },
  {
   "cell_type": "code",
   "execution_count": null,
   "metadata": {},
   "outputs": [],
   "source": []
  }
 ],
 "metadata": {
  "kernelspec": {
   "display_name": "Python 3",
   "language": "python",
   "name": "python3"
  },
  "language_info": {
   "codemirror_mode": {
    "name": "ipython",
    "version": 3
   },
   "file_extension": ".py",
   "mimetype": "text/x-python",
   "name": "python",
   "nbconvert_exporter": "python",
   "pygments_lexer": "ipython3",
   "version": "3.7.6"
  }
 },
 "nbformat": 4,
 "nbformat_minor": 4
}
