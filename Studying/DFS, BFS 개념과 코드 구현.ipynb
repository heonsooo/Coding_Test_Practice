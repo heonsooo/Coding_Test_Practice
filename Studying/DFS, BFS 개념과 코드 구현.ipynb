{
 "cells": [
  {
   "cell_type": "markdown",
   "metadata": {},
   "source": [
    "# DFS\n",
    "## 깊이 우선 탐색\n",
    "\n",
    "1) 깊은 부분을 우선적으로 탐색하는 알고리즘  \n",
    "2) 스택 자료 혹은 재귀함수 이용  \n",
    "3) 탐색 시작 노드를 스택에 삽입하고 방문처리   \n",
    "4) 스택의 최상단 노드에 방문하지 않은 인접한 노드가 하나라도 있으면,그 노드를 스택에 넣고 방문 처리      \n",
    "5) 방문하지 않은 인접노드가 없으면 스택에서 최상단 노드 꺼낸다.   \n",
    "6) 더 이상 4번 5번의 과정을 수행 할 수 없을 때까지 반복.    "
   ]
  },
  {
   "cell_type": "code",
   "execution_count": 11,
   "metadata": {},
   "outputs": [
    {
     "name": "stdout",
     "output_type": "stream",
     "text": [
      "1 2 7 6 8 3 4 5 [False, True, True, True, True, True, True, True, True]\n"
     ]
    }
   ],
   "source": [
    "# DFS 메서드 정의\n",
    "def dfs(graph , v , visited):\n",
    "    \n",
    "    #현재 노드를 방문처리 한다.\n",
    "    visited[v] = True\n",
    "    \n",
    "    print(v , end =' ')\n",
    "    \n",
    "    #현재 노드와 연결된 다른 노드를 재귀적으로 방문\n",
    "    for i in graph[v]:\n",
    "        # 연결 노드에 방문하지 않았다면(False라면), 방문\n",
    "        if visited[i] is False :\n",
    "            dfs(graph, i, visited)\n",
    "    \n",
    "\n",
    "# 각 노드가 연결된 정보를 2차원 리스트로 표현\n",
    "graph = [ \n",
    "    [],         # 0번 노드 \n",
    "    [2,3,8],    # 1번 노드에 연결된 노드들 \n",
    "    [1,7],      # 2번 노드에 연결된 노드들 \n",
    "    [1,4,5],\n",
    "    [3,5],\n",
    "    [3,4],\n",
    "    [7],\n",
    "    [2,6,8],\n",
    "    [1,7]\n",
    "]\n",
    "\n",
    "visited = [False]*9\n",
    "\n",
    "dfs(graph, 1, visited)\n",
    "\n",
    "print(visited)"
   ]
  },
  {
   "cell_type": "markdown",
   "metadata": {},
   "source": [
    "# BFS \n",
    "#### 너비 우선 탐색 (Breadth - First - Search)\n",
    "- 특정 조건에서 최단경로 문제 푸는데 사용  \n",
    "  \n",
    "    \n",
    "    \n",
    "1) 가까운 노드부터 우선적으로 탐색하는 알고리즘   \n",
    "2) 큐 자료구조 이용한다.  \n",
    "3) 탐색 시작노드를 큐에 삽입하고 방문처리한다.    \n",
    "4) 큐에서 노드를 꺼낸 뒤에 해당 노드의 인접 노드 중에서      \n",
    "   방문하지 않은 노드를 모두 큐에 삽입하고 방문처리한다.   \n",
    "5) 더 이상 4번의 과정을 수행할 수 없을 때까지 반복한다.   \n"
   ]
  },
  {
   "cell_type": "code",
   "execution_count": 12,
   "metadata": {},
   "outputs": [
    {
     "name": "stdout",
     "output_type": "stream",
     "text": [
      "1 2 3 8 7 4 5 6 "
     ]
    }
   ],
   "source": [
    "from collections import deque\n",
    "\n",
    "# bfs 메서드 정의\n",
    "def bfs(graph ,start, visited):\n",
    "    # 큐 (Queue) 구현을 위해 deque 라이브러리 사용\n",
    "    queue = deque([start])\n",
    "    \n",
    "    # 현재 노드를 방문처리한다.\n",
    "    visited[start] = True\n",
    "    \n",
    "    #큐가 빌 때까지 반복\n",
    "    \n",
    "    while queue :\n",
    "        \n",
    "        #큐에서 하나의 원소를 뽑아 출력하기\n",
    "        v = queue.popleft()\n",
    "        print(v, end = ' ')\n",
    "        \n",
    "        #아직 방문하지 않은 인접한 원소들을 큐에 삽입한다.\n",
    "        for i in graph[v]:\n",
    "            if not visited[i]:\n",
    "                queue.append(i)\n",
    "                visited[i] = True\n",
    "                \n",
    "                \n",
    "# 각 노드가 연결된 정보를 표현 (2차원 리스트)\n",
    "graph = [\n",
    "    [],\n",
    "    [2,3,8],\n",
    "    [1,7],\n",
    "    [1,4,5],\n",
    "    [3,5],\n",
    "    [3,4],\n",
    "    [7],\n",
    "    [2,6,8],\n",
    "    [1,7]\n",
    "]\n",
    "\n",
    "# 각 노드가 방문된 정보를 표현 ( 1차원 리스트)\n",
    "visited = [False]*9\n",
    "\n",
    "\n",
    "# 정의된 BFS 함수 호출\n",
    "bfs(graph, 1, visited)"
   ]
  },
  {
   "cell_type": "code",
   "execution_count": null,
   "metadata": {},
   "outputs": [],
   "source": []
  },
  {
   "cell_type": "code",
   "execution_count": null,
   "metadata": {},
   "outputs": [],
   "source": []
  }
 ],
 "metadata": {
  "kernelspec": {
   "display_name": "Python 3",
   "language": "python",
   "name": "python3"
  },
  "language_info": {
   "codemirror_mode": {
    "name": "ipython",
    "version": 3
   },
   "file_extension": ".py",
   "mimetype": "text/x-python",
   "name": "python",
   "nbconvert_exporter": "python",
   "pygments_lexer": "ipython3",
   "version": "3.7.6"
  }
 },
 "nbformat": 4,
 "nbformat_minor": 4
}
