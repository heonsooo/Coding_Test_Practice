{
 "cells": [
  {
   "cell_type": "markdown",
   "metadata": {},
   "source": [
    "# 순차탐색"
   ]
  },
  {
   "cell_type": "code",
   "execution_count": 9,
   "metadata": {},
   "outputs": [
    {
     "name": "stdout",
     "output_type": "stream",
     "text": [
      "원소 개수를 입력한 다음 한 칸 띄고 찾을 문자열을 입력하세요: \n",
      "7 손흥민\n",
      "앞서 적은 원소 개수만큼 문자열을 입력하세요. 띄어쓰기 한 칸으로 구분\n",
      "7 손흥민 10 헤리케인 9 베일 11\n",
      "2\n"
     ]
    }
   ],
   "source": [
    "def sequential_search(n, target, array):\n",
    "    \n",
    "    for i in range(n):\n",
    "        if array[i] == target:\n",
    "            return i+1 \n",
    "        \n",
    "print('원소 개수를 입력한 다음 한 칸 띄고 찾을 문자열을 입력하세요: ')\n",
    "input_data = input().split()\n",
    "n = int(input_data[0])\n",
    "target = input_data[1]\n",
    "\n",
    "print('앞서 적은 원소 개수만큼 문자열을 입력하세요. 띄어쓰기 한 칸으로 구분')\n",
    "array = input().split()\n",
    "\n",
    "\n",
    "print(sequential_search(n,target,array))"
   ]
  },
  {
   "cell_type": "markdown",
   "metadata": {},
   "source": [
    "# 이진탐색 "
   ]
  },
  {
   "cell_type": "code",
   "execution_count": 4,
   "metadata": {},
   "outputs": [
    {
     "name": "stdout",
     "output_type": "stream",
     "text": [
      "10 7\n",
      "1 3 5 7 9 11 13 15 71 82\n",
      "4\n"
     ]
    }
   ],
   "source": [
    "def binary_search(array, target, start, end):\n",
    "    array.sort()\n",
    "    if start > end :\n",
    "        return None\n",
    "    # 중간지점 \n",
    "    mid = (start+end) // 2\n",
    "    \n",
    "    if array[mid] == target:\n",
    "        return mid \n",
    "    \n",
    "    # 중간점의 값보다 찾고자 하는 값이 작은 경우 왼쪽 확인 \n",
    "    elif array[mid] > target :\n",
    "        return binary_search(array, target, start, mid-1)\n",
    "    \n",
    "    else :\n",
    "        return binary_search(array, target, mid+1, end)\n",
    "    \n",
    "    \n",
    "n,target= list(map(int, input('개수와 목표 숫자를 입력하세요:').split()))\n",
    "array = list(map(int, input('배열을 입력하세요 : ').split()))\n",
    "\n",
    "result= binary_search(array, target, 0, n-1 )\n",
    "\n",
    "if result == None:\n",
    "    print('원소가 존재하지 않습니다.')\n",
    "    \n",
    "else :\n",
    "    print('targe의 위치는 : ',result +1)"
   ]
  },
  {
   "cell_type": "markdown",
   "metadata": {},
   "source": [
    "# 반복문 이용 이진탐색"
   ]
  },
  {
   "cell_type": "code",
   "execution_count": 7,
   "metadata": {},
   "outputs": [
    {
     "name": "stdout",
     "output_type": "stream",
     "text": [
      "6 13\n",
      "9 8 7 6 5 4\n",
      "원소가 존재하지 않습니다.\n"
     ]
    }
   ],
   "source": [
    "def binary_search(array, target, start, end):\n",
    "    while start <= end:\n",
    "        mid = (start+ end )// 2\n",
    "        if array[mid] == target:\n",
    "            return mid\n",
    "        \n",
    "        elif array[mid] > target:\n",
    "            end = mid -1 \n",
    "            \n",
    "        else:\n",
    "            start = mid +1 \n",
    "    return None\n",
    "\n",
    "n, target = list(map(int, input().split()))\n",
    "array = list(map(int, input().split()))\n",
    "\n",
    "result = binary_search(array, target, 0, n-1)\n",
    "\n",
    "if result == None :\n",
    "    print('원소가 존재하지 않습니다.')\n",
    "    \n",
    "else:\n",
    "    print(result +1)"
   ]
  }
 ],
 "metadata": {
  "kernelspec": {
   "display_name": "Python 3",
   "language": "python",
   "name": "python3"
  },
  "language_info": {
   "codemirror_mode": {
    "name": "ipython",
    "version": 3
   },
   "file_extension": ".py",
   "mimetype": "text/x-python",
   "name": "python",
   "nbconvert_exporter": "python",
   "pygments_lexer": "ipython3",
   "version": "3.7.6"
  }
 },
 "nbformat": 4,
 "nbformat_minor": 4
}
