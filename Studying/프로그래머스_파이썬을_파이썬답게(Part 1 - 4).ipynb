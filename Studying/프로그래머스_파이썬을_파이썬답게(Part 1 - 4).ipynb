{
 "cells": [
  {
   "cell_type": "markdown",
   "metadata": {},
   "source": [
    "# 몫과 나머지 \n",
    "##  divmod(분자 , 분모) = 몫 , 나머지"
   ]
  },
  {
   "cell_type": "code",
   "execution_count": 3,
   "metadata": {},
   "outputs": [
    {
     "name": "stdout",
     "output_type": "stream",
     "text": [
      "1 2\n",
      "1 2\n"
     ]
    }
   ],
   "source": [
    "a = 7\n",
    "b = 5\n",
    "\n",
    "print(a//b , a%b)\n",
    "print( *divmod(a, b) )"
   ]
  },
  {
   "cell_type": "markdown",
   "metadata": {},
   "source": [
    "# n진법으로 표기된 string을 10진법 숫자로 변환하기 - int 함수\n",
    "  \n",
    "### int( 문자열 숫자 , n진법) = 10진법"
   ]
  },
  {
   "cell_type": "code",
   "execution_count": 7,
   "metadata": {},
   "outputs": [
    {
     "name": "stdout",
     "output_type": "stream",
     "text": [
      "9진법 -> 10진법 =  4002\n",
      "8진법 -> 10진법 =  2846\n",
      "7진법 -> 10진법 =  1938\n"
     ]
    }
   ],
   "source": [
    "num = '5436'\n",
    "base9 = 9\n",
    "base8 = 8\n",
    "base7 = 7\n",
    "\n",
    "print('9진법 -> 10진법 = ',int(num , base9))\n",
    "print('8진법 -> 10진법 = ',int(num , base8))\n",
    "print('7진법 -> 10진법 = ',int(num , base7))"
   ]
  },
  {
   "cell_type": "markdown",
   "metadata": {},
   "source": [
    "# 문자열 정렬하기 - \n",
    "\n",
    "\n",
    "- 문자열.ljust(문자열 길이)\n",
    "- 문자열.center(문자열 길이)\n",
    "- 문자열.rjust(문자열 길이)\n",
    "            \n"
   ]
  },
  {
   "cell_type": "code",
   "execution_count": 9,
   "metadata": {},
   "outputs": [
    {
     "name": "stdout",
     "output_type": "stream",
     "text": [
      "왼쪽   정렬 :  안녕하세요     \n",
      "가운데 정렬 :    안녕하세요   \n",
      "오른쪽 정렬 :       안녕하세요\n"
     ]
    }
   ],
   "source": [
    "s = '안녕하세요'\n",
    "n = 10\n",
    "\n",
    "print('왼쪽   정렬 : ',s.ljust(n))\n",
    "print('가운데 정렬 : ',s.center(n))\n",
    "print('오른쪽 정렬 : ',s.rjust(n))"
   ]
  },
  {
   "cell_type": "markdown",
   "metadata": {},
   "source": [
    "# 알파벳 출력하기\n",
    "\n",
    "- 소문자 : string.ascii_lowercase\n",
    "- 대문자 : string.ascii_uppercase\n",
    "- 소문자, 대문자 : string.ascii_letters\n",
    "- 정수 : string.digits\n"
   ]
  },
  {
   "cell_type": "code",
   "execution_count": 11,
   "metadata": {},
   "outputs": [
    {
     "name": "stdout",
     "output_type": "stream",
     "text": [
      "abcdefghijklmnopqrstuvwxyz\n",
      "ABCDEFGHIJKLMNOPQRSTUVWXYZ\n",
      "abcdefghijklmnopqrstuvwxyzABCDEFGHIJKLMNOPQRSTUVWXYZ\n",
      "0123456789\n"
     ]
    }
   ],
   "source": [
    "import string \n",
    "\n",
    "\n",
    "# 소문자 abcdefghijklmnopqrstuvwxyz\n",
    "print(string.ascii_lowercase) \n",
    "\n",
    "# 대문자 ABCDEFGHIJKLMNOPQRSTUVWXYZ\n",
    "print(string.ascii_uppercase)\n",
    "\n",
    "#대소문자 모두 abcdefghijklmnopqrstuvwxyzABCDEFGHIJKLMNOPQRSTUVWXYZ\n",
    "print(string.ascii_letters)\n",
    "\n",
    "# 숫자 0123456789\n",
    "print(string.digits) \n",
    "\n"
   ]
  },
  {
   "cell_type": "markdown",
   "metadata": {},
   "source": [
    "# 2차원 리스트 뒤집기\n",
    "\n"
   ]
  },
  {
   "cell_type": "code",
   "execution_count": 30,
   "metadata": {},
   "outputs": [
    {
     "name": "stdout",
     "output_type": "stream",
     "text": [
      "[[1, 4, 7], [2, 5, 8], [3, 6, 9]]\n",
      "[1, 2, 3] [4, 5, 6] [7, 8, 9]\n",
      "[[1, 4, 7], [2, 5, 8], [3, 6, 9]]\n",
      "[[1, 4, 7], [2, 5, 8], [3, 6, 9]]\n",
      "[[1, 4, 7], [2, 5, 8], [3, 6, 9]]\n"
     ]
    }
   ],
   "source": [
    "mylist =[ [1,2,3], [4,5,6], [7,8,9] ]\n",
    "\n",
    "# numpy 이용한 transpose\n",
    "import numpy as np\n",
    "answer = np.transpose(mylist)\n",
    "print(answer.tolist())\n",
    "\n",
    "# *list를 하게 되면, 2차원 list에서 각 list만 출력할 수 있습니다.\n",
    "print(*mylist)\n",
    "new_list = list(map(list, zip(*mylist)))\n",
    "print(new_list)\n",
    "\n",
    "new_list2=[]\n",
    "for i,z,k in zip(mylist[0],mylist[1],mylist[2]):\n",
    "    new_list2.append([i,z,k])\n",
    "print(new_list2)\n",
    "\n",
    "\n",
    "new_list3 =[[i,z,k] for i,z,k in zip(mylist[0],mylist[1],mylist[2])]\n",
    "print(new_list3)\n",
    "\n"
   ]
  },
  {
   "cell_type": "markdown",
   "metadata": {},
   "source": [
    "# 모든 멤버의 type 변환하기 - map\n",
    "\n",
    "- 자열 배열 ['1', '100', '33']을 정수 배열 [1, 100, 33]로 바꾸기\n",
    "- 부동소숫점 튜플 (3.14, 3.5, 22.6)을 정수 배열 (3, 3, 22)로 바꾸기\n",
    "\n"
   ]
  },
  {
   "cell_type": "code",
   "execution_count": 39,
   "metadata": {},
   "outputs": [
    {
     "name": "stdout",
     "output_type": "stream",
     "text": [
      "[1, 100, 33]\n",
      "[1, 100, 33]\n",
      "['1', '100', '33']\n"
     ]
    }
   ],
   "source": [
    "list1 = ['1', '100', '33']\n",
    "list2 = []\n",
    "for i in list1:\n",
    "    list2.append(int(i))\n",
    "print(list2)\n",
    "\n",
    "\n",
    "list_str = ['1', '100', '33']\n",
    "list_int = [1, 100 ,33]\n",
    "str_to_int = list(map(int, list_str))\n",
    "int_to_str = list(map(str, list_int))\n",
    "\n",
    "print(str_to_int)\n",
    "print(int_to_str)"
   ]
  },
  {
   "cell_type": "code",
   "execution_count": 43,
   "metadata": {},
   "outputs": [
    {
     "name": "stdout",
     "output_type": "stream",
     "text": [
      "[1, 1] \n",
      " [2, 2, 1] \n",
      " [1, 1] \n",
      " [2, 2, 1]\n"
     ]
    }
   ],
   "source": [
    "mylist1 = [[1],[2]]\n",
    "mylist2 = [[1, 2], [3, 4], [5]]\n",
    "\n",
    "# for문 이용\n",
    "answer1 = [len(j) for j in mylist1]\n",
    "answer2 = [len(j) for j in mylist2]\n",
    "\n",
    "# map 이용\n",
    "answer_map1 = list(map(len, mylist1))\n",
    "answer_map2 = list(map(len, mylist2))\n",
    "\n",
    "print(answer1 ,'\\n',answer2,'\\n',answer_map1,'\\n',answer_map2)"
   ]
  }
 ],
 "metadata": {
  "kernelspec": {
   "display_name": "Python 3",
   "language": "python",
   "name": "python3"
  },
  "language_info": {
   "codemirror_mode": {
    "name": "ipython",
    "version": 3
   },
   "file_extension": ".py",
   "mimetype": "text/x-python",
   "name": "python",
   "nbconvert_exporter": "python",
   "pygments_lexer": "ipython3",
   "version": "3.7.6"
  }
 },
 "nbformat": 4,
 "nbformat_minor": 4
}
