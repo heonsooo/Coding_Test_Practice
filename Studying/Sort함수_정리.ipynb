{
 "cells": [
  {
   "cell_type": "markdown",
   "metadata": {},
   "source": [
    "# 정렬\n",
    "  \n"
   ]
  },
  {
   "cell_type": "markdown",
   "metadata": {},
   "source": [
    "- 간단한 오름차순 정렬\n",
    "- sorted() 함수를 호출하면 됩니다. \n",
    "- 새로운 정렬된 리스트를 반환합니다.\n",
    "\n",
    "\n",
    "처음 A, B 리스트가 주어졌을때,  \n",
    "  \n",
    "A.sort() 는 기존 리스트 자체를 정렬하는 함수입니다.  \n",
    "A = A.sort()를 출력시, None을 출력합니다.\n",
    "\n",
    "따라서 기존 리스트를 유지하고 싶다면,  \n",
    "새로운 변수에 할당해야합니다.   \n",
    "B1 = sorted(B) 를 사용해야합니다.\n"
   ]
  },
  {
   "cell_type": "code",
   "execution_count": 20,
   "metadata": {},
   "outputs": [
    {
     "name": "stdout",
     "output_type": "stream",
     "text": [
      "[5, 6, 8, 9, 41]\n",
      "None\n",
      "[5, 6, 8, 9, 41]\n"
     ]
    }
   ],
   "source": [
    "A = [9,8,5,6,41]\n",
    "B = [9,8,5,6,41]\n",
    "\n",
    "A.sort()\n",
    "print(A)\n",
    "\n",
    "A1 = A.sort()\n",
    "print(A1)\n",
    "\n",
    "B1 = sorted(B)\n",
    "print(B1)\n",
    "\n"
   ]
  },
  {
   "cell_type": "markdown",
   "metadata": {},
   "source": [
    "## 오름차순과 내림차순 \n",
    "- reverse = True 사용"
   ]
  },
  {
   "cell_type": "code",
   "execution_count": 37,
   "metadata": {},
   "outputs": [
    {
     "name": "stdout",
     "output_type": "stream",
     "text": [
      "[5, 6, 8, 9, 41]\n",
      "[41, 9, 8, 6, 5]\n",
      "[5, 6, 8, 9, 41]\n",
      "[41, 9, 8, 6, 5]\n"
     ]
    }
   ],
   "source": [
    "A = [9,8,5,6,41]\n",
    "B = [9,8,5,6,41]\n",
    "\n",
    "# 오름차순\n",
    "A.sort()\n",
    "print(A)\n",
    "\n",
    "# 내림차순\n",
    "A.sort(reverse = True)\n",
    "print(A)\n",
    "\n",
    "# 오름차순\n",
    "B1 = sorted(B)\n",
    "print(B1)\n",
    "\n",
    "# 내림차순\n",
    "B1 = sorted(B,reverse = True)\n",
    "print(B1)\n"
   ]
  },
  {
   "cell_type": "markdown",
   "metadata": {},
   "source": [
    "# key 함수\n",
    "- key함수는 객체의 인덱스 중 일부를 키로 사용하여 복잡한 객체를 정렬하는 것입니다"
   ]
  },
  {
   "cell_type": "code",
   "execution_count": 69,
   "metadata": {},
   "outputs": [
    {
     "name": "stdout",
     "output_type": "stream",
     "text": [
      "['기쁜 하루', '반가워요', '안녕하세요', '좋은 하루']\n",
      "['좋은 하루', '안녕하세요', '반가워요', '기쁜 하루']\n",
      "*****\n",
      "['Good Morning', 'Good evening', 'Hello', 'Hi']\n",
      "['Hi', 'Hello', 'Good evening', 'Good Morning']\n"
     ]
    }
   ],
   "source": [
    "C = ['안녕하세요', '반가워요', '좋은 하루', '기쁜 하루']\n",
    "C_alpha = ['Hi', 'Hello', 'Good Morning', 'Good evening']\n",
    "C1 = sorted(C, key=str)\n",
    "C2= sorted(C_alpha, key=str)\n",
    "\n",
    "C11 = sorted(C, key=str,reverse = True)\n",
    "C21= sorted(C_alpha, key=str, reverse = True)\n",
    "\n",
    "print(C1)\n",
    "print(C11)\n",
    "print('*'*5)\n",
    "print(C2)\n",
    "print(C21)\n"
   ]
  },
  {
   "cell_type": "markdown",
   "metadata": {},
   "source": [
    "## 튜플 정렬\n",
    "- itemgetter 이용"
   ]
  },
  {
   "cell_type": "code",
   "execution_count": 79,
   "metadata": {},
   "outputs": [
    {
     "name": "stdout",
     "output_type": "stream",
     "text": [
      "문자순:  [('Kim', 'C+', 23), ('Lee', 'B', 22), ('Son', 'A', 24)] \n",
      "등급순:  [('Son', 'A', 24), ('Lee', 'B', 22), ('Kim', 'C+', 23)] \n",
      "나이순:  [('Lee', 'B', 22), ('Kim', 'C+', 23), ('Son', 'A', 24)]\n"
     ]
    }
   ],
   "source": [
    "from operator import itemgetter\n",
    "studens = [\n",
    "    ('Kim', 'C+', 23),\n",
    "    ('Son', 'A', 24),\n",
    "    ('Lee', 'B', 22)    ]\n",
    "S1 = sorted(studens, key= itemgetter(0))\n",
    "S2 =sorted(studens,key= itemgetter(1)) \n",
    "S3 =sorted(studens, key= itemgetter(2)) \n",
    "\n",
    "print('문자순: ',S1, '\\n등급순: ',S2, '\\n나이순: ',S3)"
   ]
  }
 ],
 "metadata": {
  "kernelspec": {
   "display_name": "Python 3",
   "language": "python",
   "name": "python3"
  },
  "language_info": {
   "codemirror_mode": {
    "name": "ipython",
    "version": 3
   },
   "file_extension": ".py",
   "mimetype": "text/x-python",
   "name": "python",
   "nbconvert_exporter": "python",
   "pygments_lexer": "ipython3",
   "version": "3.7.6"
  }
 },
 "nbformat": 4,
 "nbformat_minor": 4
}
