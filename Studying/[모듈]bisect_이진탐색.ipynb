{
 "cells": [
  {
   "cell_type": "code",
   "execution_count": 5,
   "metadata": {},
   "outputs": [
    {
     "name": "stdout",
     "output_type": "stream",
     "text": [
      "1 2\n"
     ]
    }
   ],
   "source": [
    "import bisect \n",
    "\n",
    "a = [1,2,3,4,5]\n",
    "x = 2\n",
    "\n",
    "\n",
    "# bisect_left : 정렬된 순서를 유지하면서 리스트 a에 데이터 x를 삽입할 가장 왼쪽 인덱스를 찾는 메서드\n",
    "x1 = bisect.bisect_left(a,x)\n",
    "\n",
    "\n",
    "# bisect_right : 정렬된 순서를 유지하면서 리스트 a에 데이터 x를 삽입할 가장 오른쪽 인덱스를 찾는 메서드\n",
    "x2 = bisect.bisect_right(a,x) \n",
    "\n",
    "print(x1, x2)"
   ]
  },
  {
   "cell_type": "code",
   "execution_count": 9,
   "metadata": {},
   "outputs": [
    {
     "name": "stdout",
     "output_type": "stream",
     "text": [
      "4\n"
     ]
    }
   ],
   "source": [
    "import bisect\n",
    "\n",
    "# left_value = right_value 입력하면,  최좌측 index와 최우측 index의 차이만큼 그 값이 존재하기때문에 함수 선언\n",
    "def count_by_range(a, left_value, right_value):\n",
    "    left_index = bisect.bisect_left(a,left_value)\n",
    "    right_index = bisect.bisect_right(a,right_value)\n",
    "    return (right_index-left_index)\n",
    "\n",
    "a= [ 1,1,2,3,3,2,2,2,4,5,6,8]\n",
    "a.sort()\n",
    "\n",
    "print(count_by_range(a,2,2))"
   ]
  }
 ],
 "metadata": {
  "kernelspec": {
   "display_name": "Python 3",
   "language": "python",
   "name": "python3"
  },
  "language_info": {
   "codemirror_mode": {
    "name": "ipython",
    "version": 3
   },
   "file_extension": ".py",
   "mimetype": "text/x-python",
   "name": "python",
   "nbconvert_exporter": "python",
   "pygments_lexer": "ipython3",
   "version": "3.7.6"
  }
 },
 "nbformat": 4,
 "nbformat_minor": 4
}
