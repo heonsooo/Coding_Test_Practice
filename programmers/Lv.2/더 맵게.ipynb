{
 "cells": [
  {
   "cell_type": "markdown",
   "metadata": {},
   "source": [
    "# 성공\n",
    "- heaqp 사용\n",
    "- 효율성 통과"
   ]
  },
  {
   "cell_type": "code",
   "execution_count": 5,
   "metadata": {},
   "outputs": [
    {
     "name": "stdout",
     "output_type": "stream",
     "text": [
      "2\n"
     ]
    }
   ],
   "source": [
    "import heapq as hq\n",
    "\n",
    "def solution(scoville, K):\n",
    "    answer = 0\n",
    "    hq.heapify(scoville)\n",
    "    while True:\n",
    "        min1 = hq.heappop(scoville)\n",
    "        min2 = hq.heappop(scoville)\n",
    "        hq.heappush(scoville, (min1 + min2*2))\n",
    "        answer +=1\n",
    "        if scoville[0] >= K :\n",
    "            return answer\n",
    "        if len(scoville) == 2 and sum(scoville) < K:\n",
    "            return -1"
   ]
  },
  {
   "cell_type": "markdown",
   "metadata": {},
   "source": [
    "# 실패 \n",
    "- 효율성 테스트 시간초과"
   ]
  },
  {
   "cell_type": "code",
   "execution_count": null,
   "metadata": {},
   "outputs": [],
   "source": [
    "def solution(scoville, K):\n",
    "    answer = 0\n",
    "    \n",
    "    while True:\n",
    "        \n",
    "        min1 = min(scoville)\n",
    "        scoville.remove(min1)\n",
    "        min2 = min(scoville)\n",
    "        scoville.remove(min2)\n",
    "        blend = min1+min2*2\n",
    "        scoville.append(blend)\n",
    "        answer +=1\n",
    "        if min(scoville) >= K :\n",
    "            return answer\n",
    "        if len(scoville) == 2 and sum(scoville) < K:\n",
    "            return -1"
   ]
  },
  {
   "cell_type": "code",
   "execution_count": null,
   "metadata": {},
   "outputs": [],
   "source": []
  }
 ],
 "metadata": {
  "kernelspec": {
   "display_name": "Python 3",
   "language": "python",
   "name": "python3"
  },
  "language_info": {
   "codemirror_mode": {
    "name": "ipython",
    "version": 3
   },
   "file_extension": ".py",
   "mimetype": "text/x-python",
   "name": "python",
   "nbconvert_exporter": "python",
   "pygments_lexer": "ipython3",
   "version": "3.7.6"
  }
 },
 "nbformat": 4,
 "nbformat_minor": 4
}
