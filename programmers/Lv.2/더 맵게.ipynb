{
 "cells": [
  {
   "cell_type": "markdown",
   "metadata": {},
   "source": [
    "# 성공\n",
    "- heaqp 사용\n",
    "- 효율성 통과"
   ]
  },
  {
   "cell_type": "code",
   "execution_count": 8,
   "metadata": {},
   "outputs": [
    {
     "name": "stdout",
     "output_type": "stream",
     "text": [
      "2\n"
     ]
    }
   ],
   "source": [
    "import heapq as hq\n",
    "\n",
    "def solution(scoville, K):\n",
    "    answer = 0\n",
    "    \n",
    "    # scoville 리스트를 heapq로 \n",
    "    hq.heapify(scoville)\n",
    "    \n",
    "    \n",
    "    while True:\n",
    "        # min1 : 제일 작은 맵기, min2 : 두번째로 작은 맵기입니다.\n",
    "        min1 = hq.heappop(scoville)\n",
    "        min2 = hq.heappop(scoville)\n",
    "        \n",
    "        # 문제의 요구를 따라 계산 후 scoville에 추가합니다.\n",
    "        hq.heappush(scoville, (min1 + min2*2))\n",
    "        \n",
    "        # 횟수 1회 추가합니다.\n",
    "        answer +=1\n",
    "        \n",
    "        # 제일 작은 맵기가 K보다 크다면(다른 맵기는 모두 K보다 크게되므로) 횟수 return합니다.\n",
    "        if scoville[0] >= K :\n",
    "            return answer\n",
    "        # 만약 scoville이 2개 남았고, 모든 scoville이 K보다 작다면, -1 return합니다.\n",
    "        if len(scoville) == 2 and sum(scoville) < K:\n",
    "            return -1\n",
    "\n",
    "print(solution([1, 2, 3, 9, 10, 12],7))"
   ]
  },
  {
   "cell_type": "code",
   "execution_count": 7,
   "metadata": {},
   "outputs": [
    {
     "name": "stdout",
     "output_type": "stream",
     "text": [
      "2\n"
     ]
    }
   ],
   "source": [
    "import heapq as hq\n",
    "\n",
    "def solution(scoville, K):\n",
    "    answer = 0\n",
    "    hq.heapify(scoville)\n",
    "    while True:\n",
    "        min1 = hq.heappop(scoville)\n",
    "        min2 = hq.heappop(scoville)\n",
    "        hq.heappush(scoville, (min1 + min2*2))\n",
    "        answer +=1\n",
    "        if scoville[0] >= K :\n",
    "            return answer\n",
    "        if len(scoville) == 2 and scoville[-1] < K:\n",
    "            return -1\n",
    "\n",
    "print(solution([1, 2, 3, 9, 10, 12],7))"
   ]
  },
  {
   "cell_type": "markdown",
   "metadata": {},
   "source": [
    "# 실패 \n",
    "- 효율성 테스트 시간초과"
   ]
  },
  {
   "cell_type": "code",
   "execution_count": 6,
   "metadata": {},
   "outputs": [
    {
     "name": "stdout",
     "output_type": "stream",
     "text": [
      "2\n"
     ]
    }
   ],
   "source": [
    "def solution(scoville, K):\n",
    "    answer = 0\n",
    "    \n",
    "    while True:\n",
    "        \n",
    "        min1 = min(scoville)\n",
    "        scoville.remove(min1)\n",
    "        min2 = min(scoville)\n",
    "        scoville.remove(min2)\n",
    "        blend = min1+min2*2\n",
    "        scoville.append(blend)\n",
    "        answer +=1\n",
    "        if min(scoville) >= K :\n",
    "            return answer\n",
    "        if len(scoville) == 2 and sum(scoville) < K:\n",
    "            return -1\n",
    "        \n",
    "print(solution([1, 2, 3, 9, 10, 12],7))"
   ]
  },
  {
   "cell_type": "code",
   "execution_count": null,
   "metadata": {},
   "outputs": [],
   "source": []
  }
 ],
 "metadata": {
  "kernelspec": {
   "display_name": "Python 3",
   "language": "python",
   "name": "python3"
  },
  "language_info": {
   "codemirror_mode": {
    "name": "ipython",
    "version": 3
   },
   "file_extension": ".py",
   "mimetype": "text/x-python",
   "name": "python",
   "nbconvert_exporter": "python",
   "pygments_lexer": "ipython3",
   "version": "3.7.6"
  }
 },
 "nbformat": 4,
 "nbformat_minor": 4
}
