{
 "cells": [
  {
   "cell_type": "markdown",
   "metadata": {},
   "source": [
    "# 피보나치 수\n",
    "\n",
    "- n은 2 이상 \n",
    "- 1234567로 나눈 나머지 리턴\n",
    "\n",
    "### Steps \n",
    "\n",
    "1) 문제에서 구하는 피보나치 수가 n = 2이상 부터이므로, n= 0,1일때 피보나치수를 리스트로 선언했습니다.(Num)   \n",
    "2) 입력받은 n번째의 수의 피보나치 수를 구하는 함수를 만들었습니다,   \n",
    "3) 이렇게 입력받은 n-1 까지 피보나치수를 구해서 Num 리스트에 추가했습니다.  \n",
    "4) 그리고 마지막으로 F(n)을 사용하여 n번째 피보나치수를 구하고, 1234567로 나눈 나머지를 answer에 할당했습니다.   \n",
    "\n"
   ]
  },
  {
   "cell_type": "code",
   "execution_count": 9,
   "metadata": {},
   "outputs": [
    {
     "name": "stdout",
     "output_type": "stream",
     "text": [
      "1\n",
      "2\n",
      "3\n",
      "5\n",
      "8\n",
      "13\n",
      "21\n",
      "34\n",
      "55\n"
     ]
    }
   ],
   "source": [
    "def solution(n):\n",
    "    Num = [0,1]\n",
    "    \n",
    "    def F(n):\n",
    "        return Num[n-2]+ Num[n-1]\n",
    "    \n",
    "    if n == 2:\n",
    "        return 1\n",
    "    \n",
    "    for i in range(2,n):\n",
    "        Num.append(F(i))\n",
    "    \n",
    "    answer = F(n)%1234567\n",
    "    \n",
    "    return answer\n",
    "\n",
    "for i in range(2,10):\n",
    "    print(solution(i))\n",
    "print(solution(10))"
   ]
  }
 ],
 "metadata": {
  "kernelspec": {
   "display_name": "Python 3",
   "language": "python",
   "name": "python3"
  },
  "language_info": {
   "codemirror_mode": {
    "name": "ipython",
    "version": 3
   },
   "file_extension": ".py",
   "mimetype": "text/x-python",
   "name": "python",
   "nbconvert_exporter": "python",
   "pygments_lexer": "ipython3",
   "version": "3.7.6"
  }
 },
 "nbformat": 4,
 "nbformat_minor": 4
}
