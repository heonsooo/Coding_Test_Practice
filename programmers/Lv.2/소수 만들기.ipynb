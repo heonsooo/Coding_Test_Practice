{
 "cells": [
  {
   "cell_type": "markdown",
   "metadata": {},
   "source": [
    "# 성공\n",
    "\n",
    "## Steps\n",
    "\n",
    "1. nums : combinations함수를 통해 입력받은 nums중 3가지를 골라 리스트로 만듭니다.\n",
    "2. 입력받은 num에서 3가지 수를 뽑아 만든 튜플을 하나씩 뽑아서 \n",
    "3. 값을 다 더한 n을 구합니다.\n",
    "4. n이 소수인지 확인하고, 소수가 맞다면 answer에 append합니다.\n",
    "5. 모든 nums를 소수인지 판단한 answer의 길이(개수)를 통해 소수의 개수를 반환합니다.\n",
    "6. 이때, answer는 중복이 가능합니다! (저는 set사용했다가 계속 틀렸었습니다..!)\n"
   ]
  },
  {
   "cell_type": "code",
   "execution_count": 3,
   "metadata": {},
   "outputs": [
    {
     "name": "stdout",
     "output_type": "stream",
     "text": [
      "1\n",
      "4\n",
      "63\n"
     ]
    }
   ],
   "source": [
    "import math\n",
    "from itertools import combinations\n",
    "def solution(nums):\n",
    "\n",
    "    nums = list(combinations(nums,3))\n",
    "    answer = []\n",
    "    def finder(x):\n",
    "        if x <= 1:\n",
    "            return False\n",
    "        else:\n",
    "            for i in range(2, int(math.sqrt(x))+1):\n",
    "                if x % i == 0:\n",
    "                    return False\n",
    "            return True\n",
    "    \n",
    "    \n",
    "    for i in nums:\n",
    "        n = sum(i)\n",
    "        if finder(n):\n",
    "            answer.append(n)\n",
    "    \n",
    "    answer = len(answer)\n",
    "\n",
    "    return answer\n",
    "\n",
    "print(solution(([1,2,3,4])))\n",
    "print(solution(([1,2,7,6,4])))\n",
    "print(solution(([1,6,8,5,232,1,45,98,54,321,4,7,86])))"
   ]
  },
  {
   "cell_type": "code",
   "execution_count": 4,
   "metadata": {},
   "outputs": [
    {
     "name": "stdout",
     "output_type": "stream",
     "text": [
      "1\n",
      "4\n",
      "63\n"
     ]
    }
   ],
   "source": [
    "import math\n",
    "from itertools import combinations\n",
    "def solution(nums):\n",
    "    # 소수인지 확인하는 함수 \n",
    "    def finder(x):\n",
    "        if x <= 1:\n",
    "            return False\n",
    "        else:\n",
    "            for i in range(2, int(math.sqrt(x))+1):\n",
    "                if x % i == 0:\n",
    "                    return False\n",
    "            return True\n",
    "    \n",
    "    # combinations함수를 통해 입력받은 nums중 3가지를 골라 리스트로 만듭니다.\n",
    "    nums = list(combinations(nums,3))\n",
    "    answer = []\n",
    "    \n",
    "    # 입력받은 num에서 3가지 수를 뽑아 만든 튜플을 하나씩 뽑아서 \n",
    "    for i in nums:\n",
    "        # 값을 다 더한 n을 구합니다.\n",
    "        n = sum(i)\n",
    "        # n이 소수인지 확인하고, 소수가 맞다면 answer에 append합니다.\n",
    "        if finder(n):\n",
    "            answer.append(n)\n",
    "    # 모든 nums를 소수인지 판단한 answer의 길이(개수)를 통해 소수의 개수를 반환합니다.\n",
    "    # 이때, answer는 중복이 가능합니다! (저는 set사용했다가 계속 틀렸었습니다..!)\n",
    "    answer = len(answer)\n",
    "\n",
    "    return answer\n",
    "\n",
    "print(solution(([1,2,3,4])))\n",
    "print(solution(([1,2,7,6,4])))\n",
    "print(solution(([1,6,8,5,232,1,45,98,54,321,4,7,86])))"
   ]
  }
 ],
 "metadata": {
  "kernelspec": {
   "display_name": "Python 3",
   "language": "python",
   "name": "python3"
  },
  "language_info": {
   "codemirror_mode": {
    "name": "ipython",
    "version": 3
   },
   "file_extension": ".py",
   "mimetype": "text/x-python",
   "name": "python",
   "nbconvert_exporter": "python",
   "pygments_lexer": "ipython3",
   "version": "3.7.6"
  }
 },
 "nbformat": 4,
 "nbformat_minor": 4
}
