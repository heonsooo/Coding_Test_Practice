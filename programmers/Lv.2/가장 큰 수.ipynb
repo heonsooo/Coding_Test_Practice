{
 "cells": [
  {
   "cell_type": "markdown",
   "metadata": {},
   "source": [
    "# 가장 큰 수\n",
    "- 0 또는 양의 정수가 주어졌을 때, 정수를 이어 붙여 만들 수 있는 가장 큰 수를 알아내 주세요.  \n",
    "\n",
    "-  예를 들어, 주어진 정수가 [6, 10, 2]라면 [6102, 6210, 1062, 1026, 2610, 2106]를 만들 수 있고, 이중 가장 큰 수는 6210입니다.  \n",
    "  \n",
    "- 0 또는 양의 정수가 담긴 배열 numbers가 매개변수로 주어질 때, 순서를 재배치하여 만들 수 있는 가장 큰 수를 문자열로 바꾸어 return 하도록 solution 함수를 작성해주세요.  "
   ]
  },
  {
   "cell_type": "code",
   "execution_count": 44,
   "metadata": {},
   "outputs": [
    {
     "name": "stdout",
     "output_type": "stream",
     "text": [
      "9534330\n",
      "6210\n",
      "0\n"
     ]
    }
   ],
   "source": [
    "def solution(numbers):\n",
    "    \n",
    "    numbers = [str(i) for i in numbers]\n",
    "    nums = sorted(numbers, key= lambda x: (x*4)[:4], reverse = True)\n",
    "\n",
    "    # 이때 int 하지 않으면, [0,0,0,0]의 답이 0000으로 나오게 된다. \n",
    "    answer = int(''.join(nums))\n",
    "    return str(answer)\n",
    "\n",
    "print(solution([3, 30, 34, 5, 9]))\n",
    "print(solution([6,10,2]))\n",
    "print(solution([0, 0, 0, 0, 0, 0]))\n",
    "\n"
   ]
  },
  {
   "cell_type": "markdown",
   "metadata": {},
   "source": [
    "---"
   ]
  },
  {
   "cell_type": "code",
   "execution_count": 9,
   "metadata": {},
   "outputs": [
    {
     "name": "stdout",
     "output_type": "stream",
     "text": [
      "[10, 6, 2]\n",
      "1 \n",
      " 6\n",
      "[6, 10, 2]\n",
      "[10, 6, 2]\n",
      "[10, 6, 2]\n",
      "[10, 6, 2]\n"
     ]
    }
   ],
   "source": [
    "def solution(numbers):\n",
    "    answer = ''\n",
    "\n",
    "\n",
    "    # numbers = sorted(numbers, reverse=True)\n",
    "    #print(numbers)\n",
    "    for i in range(len(numbers)):\n",
    "        index = i\n",
    "        numbers = numbers[:i] + sorted(numbers[i:], reverse=True)\n",
    "        for j in range(i+1, len(numbers)):\n",
    "            befor = str(numbers[index]) \n",
    "            after = str(numbers[j])\n",
    "            if befor[0] < after[0]:         # 첫째 자리 비교/ 첫째 자리 큰걸 앞으로 옥도록 \n",
    "                \n",
    "                index = j\n",
    "            elif befor[0] == after[0] and len(str(numbers[index])) > len(str(numbers[j])):    # 첫째 자리 같으면, \n",
    "                if str(numbers[index])[1] > str(numbers[j])[0]:\n",
    "                    pass \n",
    "\n",
    "                else:\n",
    "                    index = j\n",
    "                # numbers[i], numbers[index] = numbers[index], numbers[i]\n",
    "        numbers[i], numbers[index] = numbers[index], numbers[i]\n",
    "        #print(numbers)  \n",
    "    \n",
    "    for k in numbers:\n",
    "        answer += str(k)\n",
    "    return print(answer)\n",
    "solution(\t[3, 30, 34, 5, 9])\n",
    "\n",
    "3323130\n",
    "3231303"
   ]
  },
  {
   "cell_type": "code",
   "execution_count": 11,
   "metadata": {},
   "outputs": [
    {
     "ename": "IndexError",
     "evalue": "string index out of range",
     "output_type": "error",
     "traceback": [
      "\u001b[1;31m---------------------------------------------------------------------------\u001b[0m",
      "\u001b[1;31mIndexError\u001b[0m                                Traceback (most recent call last)",
      "\u001b[1;32m<ipython-input-11-c0b174be4b59>\u001b[0m in \u001b[0;36m<module>\u001b[1;34m\u001b[0m\n\u001b[0;32m     28\u001b[0m         \u001b[0manswer\u001b[0m \u001b[1;33m+=\u001b[0m \u001b[0mstr\u001b[0m\u001b[1;33m(\u001b[0m\u001b[0mk\u001b[0m\u001b[1;33m)\u001b[0m\u001b[1;33m\u001b[0m\u001b[1;33m\u001b[0m\u001b[0m\n\u001b[0;32m     29\u001b[0m     \u001b[1;32mreturn\u001b[0m \u001b[0mprint\u001b[0m\u001b[1;33m(\u001b[0m\u001b[0manswer\u001b[0m\u001b[1;33m)\u001b[0m\u001b[1;33m\u001b[0m\u001b[1;33m\u001b[0m\u001b[0m\n\u001b[1;32m---> 30\u001b[1;33m \u001b[0msolution\u001b[0m\u001b[1;33m(\u001b[0m\u001b[1;33m[\u001b[0m\u001b[1;36m3\u001b[0m\u001b[1;33m,\u001b[0m \u001b[1;36m30\u001b[0m\u001b[1;33m,\u001b[0m \u001b[1;36m34\u001b[0m\u001b[1;33m,\u001b[0m \u001b[1;36m5\u001b[0m\u001b[1;33m,\u001b[0m \u001b[1;36m9\u001b[0m\u001b[1;33m]\u001b[0m\u001b[1;33m)\u001b[0m\u001b[1;33m\u001b[0m\u001b[1;33m\u001b[0m\u001b[0m\n\u001b[0m",
      "\u001b[1;32m<ipython-input-11-c0b174be4b59>\u001b[0m in \u001b[0;36msolution\u001b[1;34m(numbers)\u001b[0m\n\u001b[0;32m     12\u001b[0m                 \u001b[0mbefor\u001b[0m \u001b[1;33m=\u001b[0m \u001b[0mstr\u001b[0m\u001b[1;33m(\u001b[0m\u001b[0mnumbers\u001b[0m\u001b[1;33m[\u001b[0m\u001b[0mindex\u001b[0m\u001b[1;33m]\u001b[0m\u001b[1;33m)\u001b[0m\u001b[1;33m\u001b[0m\u001b[1;33m\u001b[0m\u001b[0m\n\u001b[0;32m     13\u001b[0m                 \u001b[0mafter\u001b[0m \u001b[1;33m=\u001b[0m \u001b[0mstr\u001b[0m\u001b[1;33m(\u001b[0m\u001b[0mnumbers\u001b[0m\u001b[1;33m[\u001b[0m\u001b[0mj\u001b[0m\u001b[1;33m]\u001b[0m\u001b[1;33m)\u001b[0m\u001b[1;33m\u001b[0m\u001b[1;33m\u001b[0m\u001b[0m\n\u001b[1;32m---> 14\u001b[1;33m                 \u001b[1;32mif\u001b[0m \u001b[0mbefor\u001b[0m\u001b[1;33m[\u001b[0m\u001b[0mi\u001b[0m\u001b[1;33m]\u001b[0m \u001b[1;33m<\u001b[0m \u001b[0mafter\u001b[0m\u001b[1;33m[\u001b[0m\u001b[0mi\u001b[0m\u001b[1;33m]\u001b[0m\u001b[1;33m:\u001b[0m         \u001b[1;31m# 첫째 자리 비교/ 첫째 자리 큰걸 앞으로 옥도록\u001b[0m\u001b[1;33m\u001b[0m\u001b[1;33m\u001b[0m\u001b[0m\n\u001b[0m\u001b[0;32m     15\u001b[0m \u001b[1;33m\u001b[0m\u001b[0m\n\u001b[0;32m     16\u001b[0m                     \u001b[0mindex\u001b[0m \u001b[1;33m=\u001b[0m \u001b[0mj\u001b[0m\u001b[1;33m\u001b[0m\u001b[1;33m\u001b[0m\u001b[0m\n",
      "\u001b[1;31mIndexError\u001b[0m: string index out of range"
     ]
    }
   ],
   "source": [
    "def solution(numbers):\n",
    "    answer = ''\n",
    "\n",
    "\n",
    "    # numbers = sorted(numbers, reverse=True)\n",
    "    #print(numbers)\n",
    "    for _ in range(len(numbers)):\n",
    "        for i in range(len(numbers)):\n",
    "            index = i\n",
    "            numbers = numbers[:i] + sorted(numbers[i:], reverse=True)\n",
    "            for j in range(i+1, len(numbers)):\n",
    "                befor = str(numbers[index]) \n",
    "                after = str(numbers[j])\n",
    "                if befor[i] < after[i]:         # 첫째 자리 비교/ 첫째 자리 큰걸 앞으로 옥도록 \n",
    "\n",
    "                    index = j\n",
    "                elif befor[i] == after[i] and len(str(numbers[index])) > len(str(numbers[j])):    # 첫째 자리 같으면, \n",
    "                    if str(numbers[index])[i+1] > str(numbers[j])[i]:\n",
    "                        pass \n",
    "\n",
    "                    else:\n",
    "                        index = j\n",
    "                    # numbers[i], numbers[index] = numbers[index], numbers[i]\n",
    "            numbers[i], numbers[index] = numbers[index], numbers[i]\n",
    "            #print(numbers)  \n",
    "    \n",
    "    for k in numbers:\n",
    "        answer += str(k)\n",
    "    return print(answer)\n",
    "solution([3, 30, 34, 5, 9])\n"
   ]
  },
  {
   "cell_type": "code",
   "execution_count": null,
   "metadata": {},
   "outputs": [],
   "source": []
  },
  {
   "cell_type": "code",
   "execution_count": 59,
   "metadata": {},
   "outputs": [
    {
     "name": "stdout",
     "output_type": "stream",
     "text": [
      "6210\n",
      "<class 'int'>\n"
     ]
    }
   ],
   "source": [
    "from itertools import permutations\n",
    "def solution(numbers):\n",
    "    answers = []\n",
    "\n",
    "    answer1 = list(permutations(numbers,len(numbers)))\n",
    "    for i in range(len(answer1)):\n",
    "        nums = ''\n",
    "        for j in range(len(numbers)):\n",
    "            nums += str(answer1[i][j])\n",
    "            \n",
    "        answers.append(int(nums))\n",
    "\n",
    "    answers.sort(reverse=True)\n",
    "\n",
    "    answer = answers[0]\n",
    "    return answer\n",
    "\n",
    "print(solution([6, 10, 2]))\n",
    "print(type(solution([3, 30, 34, 5, 9])))"
   ]
  },
  {
   "cell_type": "code",
   "execution_count": 1,
   "metadata": {},
   "outputs": [
    {
     "name": "stdout",
     "output_type": "stream",
     "text": [
      "6210\n",
      "<class 'str'>\n"
     ]
    }
   ],
   "source": [
    "from itertools import permutations\n",
    "def solution(numbers):\n",
    "    answer = [0]\n",
    "\n",
    "    answer1 = list(permutations(numbers,len(numbers)))\n",
    "    for i in range(len(answer1)):\n",
    "        nums = ''\n",
    "        for j in range(len(numbers)):\n",
    "            nums += str(answer1[i][j])\n",
    "            \n",
    "        if answer[0] < int(nums):\n",
    "            answer[0] = int(nums)\n",
    "            \n",
    "    return str(answer[0])\n",
    "\n",
    "print(solution([6, 10, 2]))\n",
    "print(type(solution([3, 30, 34, 5, 9])))"
   ]
  },
  {
   "cell_type": "code",
   "execution_count": 10,
   "metadata": {},
   "outputs": [
    {
     "ename": "TypeError",
     "evalue": "object of type 'int' has no len()",
     "output_type": "error",
     "traceback": [
      "\u001b[1;31m---------------------------------------------------------------------------\u001b[0m",
      "\u001b[1;31mTypeError\u001b[0m                                 Traceback (most recent call last)",
      "\u001b[1;32m<ipython-input-10-81b42bbe9999>\u001b[0m in \u001b[0;36m<module>\u001b[1;34m\u001b[0m\n\u001b[0;32m     21\u001b[0m \u001b[1;33m\u001b[0m\u001b[0m\n\u001b[0;32m     22\u001b[0m \u001b[1;33m\u001b[0m\u001b[0m\n\u001b[1;32m---> 23\u001b[1;33m \u001b[0mprint\u001b[0m\u001b[1;33m(\u001b[0m\u001b[0msolution\u001b[0m\u001b[1;33m(\u001b[0m\u001b[1;33m[\u001b[0m\u001b[1;36m6\u001b[0m\u001b[1;33m,\u001b[0m \u001b[1;36m10\u001b[0m\u001b[1;33m,\u001b[0m \u001b[1;36m2\u001b[0m\u001b[1;33m]\u001b[0m\u001b[1;33m)\u001b[0m\u001b[1;33m)\u001b[0m\u001b[1;33m\u001b[0m\u001b[1;33m\u001b[0m\u001b[0m\n\u001b[0m\u001b[0;32m     24\u001b[0m \u001b[0mprint\u001b[0m\u001b[1;33m(\u001b[0m\u001b[0mtype\u001b[0m\u001b[1;33m(\u001b[0m\u001b[0msolution\u001b[0m\u001b[1;33m(\u001b[0m\u001b[1;33m[\u001b[0m\u001b[1;36m3\u001b[0m\u001b[1;33m,\u001b[0m \u001b[1;36m30\u001b[0m\u001b[1;33m,\u001b[0m \u001b[1;36m34\u001b[0m\u001b[1;33m,\u001b[0m \u001b[1;36m5\u001b[0m\u001b[1;33m,\u001b[0m \u001b[1;36m9\u001b[0m\u001b[1;33m]\u001b[0m\u001b[1;33m)\u001b[0m\u001b[1;33m)\u001b[0m\u001b[1;33m)\u001b[0m\u001b[1;33m\u001b[0m\u001b[1;33m\u001b[0m\u001b[0m\n",
      "\u001b[1;32m<ipython-input-10-81b42bbe9999>\u001b[0m in \u001b[0;36msolution\u001b[1;34m(numbers)\u001b[0m\n\u001b[0;32m      3\u001b[0m     \u001b[0mnum1\u001b[0m\u001b[1;33m,\u001b[0m \u001b[0mnum2\u001b[0m\u001b[1;33m,\u001b[0m \u001b[0mnum3\u001b[0m \u001b[1;33m=\u001b[0m\u001b[1;33m[\u001b[0m\u001b[1;33m]\u001b[0m\u001b[1;33m,\u001b[0m\u001b[1;33m[\u001b[0m\u001b[1;33m]\u001b[0m\u001b[1;33m,\u001b[0m\u001b[1;33m[\u001b[0m\u001b[1;33m]\u001b[0m\u001b[1;33m\u001b[0m\u001b[1;33m\u001b[0m\u001b[0m\n\u001b[0;32m      4\u001b[0m     \u001b[1;32mfor\u001b[0m \u001b[0mi\u001b[0m \u001b[1;32min\u001b[0m \u001b[0mnumbers\u001b[0m\u001b[1;33m:\u001b[0m\u001b[1;33m\u001b[0m\u001b[1;33m\u001b[0m\u001b[0m\n\u001b[1;32m----> 5\u001b[1;33m         \u001b[1;32mif\u001b[0m \u001b[0mlen\u001b[0m\u001b[1;33m(\u001b[0m\u001b[0mi\u001b[0m\u001b[1;33m)\u001b[0m\u001b[1;33m==\u001b[0m \u001b[1;36m1\u001b[0m\u001b[1;33m:\u001b[0m\u001b[1;33m\u001b[0m\u001b[1;33m\u001b[0m\u001b[0m\n\u001b[0m\u001b[0;32m      6\u001b[0m             \u001b[0mnum1\u001b[0m\u001b[1;33m.\u001b[0m\u001b[0mappend\u001b[0m\u001b[1;33m(\u001b[0m\u001b[1;33m)\u001b[0m\u001b[1;33m\u001b[0m\u001b[1;33m\u001b[0m\u001b[0m\n\u001b[0;32m      7\u001b[0m         \u001b[1;32melif\u001b[0m \u001b[0mlen\u001b[0m\u001b[1;33m(\u001b[0m\u001b[0mi\u001b[0m\u001b[1;33m)\u001b[0m\u001b[1;33m==\u001b[0m \u001b[1;36m2\u001b[0m\u001b[1;33m:\u001b[0m\u001b[1;33m\u001b[0m\u001b[1;33m\u001b[0m\u001b[0m\n",
      "\u001b[1;31mTypeError\u001b[0m: object of type 'int' has no len()"
     ]
    }
   ],
   "source": [
    "def solution(numbers):\n",
    "    answer = ''\n",
    "    num1, num2, num3 =[],[],[]\n",
    "    for i in numbers:\n",
    "        if len(i)== 1:\n",
    "            num1.append()\n",
    "        elif len(i)== 2:\n",
    "            num2.append()\n",
    "        elif len(i)>= 3:\n",
    "            num3.append()\n",
    "        \n",
    "    num1.sort(reverse = True)\n",
    "    num2.sort(reverse = True)\n",
    "    num3.sort(reverse = True)\n",
    "            \n",
    "    numbers.sort()\n",
    "    print(numbers)\n",
    "    \n",
    "    return answer\n",
    "\n",
    "\n",
    "\n",
    "print(solution([6, 10, 2]))\n",
    "print(type(solution([3, 30, 34, 5, 9])))"
   ]
  },
  {
   "cell_type": "code",
   "execution_count": 13,
   "metadata": {},
   "outputs": [
    {
     "name": "stdout",
     "output_type": "stream",
     "text": [
      "0\n",
      "1\n",
      "2\n",
      "3\n",
      "4\n",
      "5\n"
     ]
    },
    {
     "data": {
      "text/plain": [
       "'5'"
      ]
     },
     "execution_count": 13,
     "metadata": {},
     "output_type": "execute_result"
    }
   ],
   "source": [
    "from itertools import permutations\n",
    "def solution(numbers):\n",
    "    answer = [0]\n",
    "\n",
    "    answer1 = list(permutations(numbers,len(numbers)))\n",
    "    for i in range(len(answer1)):\n",
    "        nums = ''.join(str(j) for j in str(i))\n",
    "        print(nums)\n",
    "        if answer[0] < int(nums):\n",
    "                answer[0] = int(nums)\n",
    "            \n",
    "    return str(answer[0])\n",
    "\n",
    "solution([6,10,2])"
   ]
  }
 ],
 "metadata": {
  "kernelspec": {
   "display_name": "Python 3",
   "language": "python",
   "name": "python3"
  },
  "language_info": {
   "codemirror_mode": {
    "name": "ipython",
    "version": 3
   },
   "file_extension": ".py",
   "mimetype": "text/x-python",
   "name": "python",
   "nbconvert_exporter": "python",
   "pygments_lexer": "ipython3",
   "version": "3.7.6"
  }
 },
 "nbformat": 4,
 "nbformat_minor": 4
}
