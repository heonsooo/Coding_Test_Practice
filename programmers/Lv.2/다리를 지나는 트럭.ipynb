{
 "cells": [
  {
   "cell_type": "markdown",
   "metadata": {},
   "source": [
    "# 성공\n",
    "## Steps\n",
    "    1. 경과 시간(time)과 다리를 건너는 트럭 (queue)를 선언합니다.\n",
    "    2. 모든 트럭이 지나갈때까지 반복합니다.\n",
    "    3. 대기 트럭이 0이라면(모든 트럭이 다리를 지나거나 다리를 건너는 중) \n",
    "    3-1 while문이 계속 진행되도록 pass합니다.\n",
    "      \n",
    "    4. 대기트럭의 가장 첫 트럭의 무게가 현재 다리 무게보다 작을경우 다리를 건너도록 합니다.\n",
    "    4-1. 트럭이 다리위로 올라오면 그 무게만큼 weight를 빼줍니다.\n",
    "    4-2. 트럭이 다리에 올라온 시간을 튜플로 기록합니다.\n",
    "    \n",
    "    5. 3번, 4번이 진행되면 time을 1 더합니다.\n",
    "    \n",
    "    6. 다리를 건너는 트럭의 출발 시간과 현재 시간의 차이를 이용하여 트럭이 다리를 건너는 시간을 구합니다.\n",
    "    6-1 만약 출발 시간과 현재시간의 차이가 다리를 건너는 시간과 맞다면, \n",
    "    6-2 트럭은 다리를 다 지났으므로 다리의 무게에서 트럭의 무게를 다시 더하고, queue에서 뺍니다.\n",
    "    \n",
    "    7.  대기 트럭과 다리를 건너는 트럭이 존재하지 않는다면, \n",
    "    7-1.  마지막 시간을 더해주고, 총 경과시간 time을 return 합니다. \n",
    "    "
   ]
  },
  {
   "cell_type": "code",
   "execution_count": 24,
   "metadata": {},
   "outputs": [
    {
     "name": "stdout",
     "output_type": "stream",
     "text": [
      "8\n",
      "101\n"
     ]
    }
   ],
   "source": [
    "def solution(bridge_length, weight, truck_weights):\n",
    "    \n",
    "    #  경과 시간(time)과 다리를 건너는 트럭 (queue)를 선언합니다.\n",
    "    time = 0\n",
    "    queue = []\n",
    "    \n",
    "    # 모든 트럭이 지나갈때까지 반복합니다.\n",
    "    while True :\n",
    "        \n",
    "        # 대기 트럭이 0이라면(모든 트럭이 다리를 지나거나 다리를 건너는 중) 계속 진행되도록 pass합니다.\n",
    "        if len( truck_weights) ==0:\n",
    "            pass\n",
    "        \n",
    "        # 대기트럭의 가장 첫 트럭의 무게가 현재 다리 무게보다 작을경우 다리를 건너도록 합니다.\n",
    "        elif weight >= truck_weights[0]: \n",
    "            # 트럭이 다리위로 올라오면 그 무게만큼 weight를 빼줍니다.\n",
    "            weight-=  truck_weights[0]\n",
    "            # 트럭이 다리에 올라온 시간(출발 시간)을 기록합니다.\n",
    "            queue.append((truck_weights.pop(0),time))\n",
    "            \n",
    "        time +=1 \n",
    "        \n",
    "        # 다리를 건너는 트럭의 출발 시간과 현재 시간의 차이를 이용하여 트럭이 다리를 건너는 시간을 구합니다.\n",
    "        for j in queue:\n",
    "            \n",
    "            # 만약 출발 시간과 현재시간의 차이가 다리를 건너는 시간과 맞다면, \n",
    "            if time-j[1] ==bridge_length :\n",
    "                \n",
    "                # 트럭은 다리를 다 지났으므로 다리의 무게에서 트럭의 무게를 다시 더하고, queue에서 뺍니다.\n",
    "                weight += j[0]\n",
    "                queue.remove(j)\n",
    "        # 대기 트럭과 다리를 건너는 트럭이 존재하지 않는다면, \n",
    "        if len( truck_weights) ==0 and len(queue) == 0:\n",
    "            # 마지막 시간을 더해주고, 총 경과시간 time을 return 합니다.\n",
    "            time +=1\n",
    "            return time\n",
    "    \n",
    "\n",
    "\n",
    "print(solution(2,10,[7,4,5,6]))\n",
    "print(solution(100,100,[10]))\n"
   ]
  },
  {
   "cell_type": "markdown",
   "metadata": {},
   "source": [
    "## 순수코드"
   ]
  },
  {
   "cell_type": "code",
   "execution_count": null,
   "metadata": {},
   "outputs": [],
   "source": [
    "def solution(bridge_length, weight, truck_weights):\n",
    "    time = 0\n",
    "    queue = []\n",
    "    while True :\n",
    "        if len( truck_weights) ==0:\n",
    "            pass\n",
    "        elif weight >= truck_weights[0]:\n",
    "            weight-=  truck_weights[0]\n",
    "            queue.append((truck_weights.pop(0),time))\n",
    "            \n",
    "        time +=1 \n",
    "        for j in queue:\n",
    "            if time-j[1] ==bridge_length :\n",
    "                weight += j[0]\n",
    "                queue.remove(j)\n",
    "        \n",
    "        if len( truck_weights) ==0 and len(queue) == 0:\n",
    "            time +=1\n",
    "            return time\n",
    "    "
   ]
  }
 ],
 "metadata": {
  "kernelspec": {
   "display_name": "Python 3",
   "language": "python",
   "name": "python3"
  },
  "language_info": {
   "codemirror_mode": {
    "name": "ipython",
    "version": 3
   },
   "file_extension": ".py",
   "mimetype": "text/x-python",
   "name": "python",
   "nbconvert_exporter": "python",
   "pygments_lexer": "ipython3",
   "version": "3.7.6"
  }
 },
 "nbformat": 4,
 "nbformat_minor": 4
}
