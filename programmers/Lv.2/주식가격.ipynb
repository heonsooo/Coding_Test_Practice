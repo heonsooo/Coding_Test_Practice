{
 "cells": [
  {
   "cell_type": "markdown",
   "metadata": {},
   "source": [
    "# 시간 초과\n",
    "\n",
    "- 0/5"
   ]
  },
  {
   "cell_type": "code",
   "execution_count": null,
   "metadata": {},
   "outputs": [],
   "source": [
    "from collections import deque\n",
    "def solution(prices):\n",
    "    answer = deque([0]*len(prices))\n",
    "    \n",
    "    for i in range(len(prices)-1):\n",
    "        for j in range(i+1,len(prices)):\n",
    "            answer[i] +=1\n",
    "            if prices[i] <= prices[j]:\n",
    "                pass\n",
    "            else: break\n",
    "    return list(answer)\n",
    "\n",
    "print(solution([1,6,8,4,3,2,4,8,3,5,4,5,2100,220,1586]))"
   ]
  },
  {
   "cell_type": "markdown",
   "metadata": {},
   "source": [
    "# 시간 초과\n",
    "- 2/5"
   ]
  },
  {
   "cell_type": "code",
   "execution_count": 8,
   "metadata": {},
   "outputs": [
    {
     "name": "stdout",
     "output_type": "stream",
     "text": [
      "[4, 3, 1, 1, 0]\n"
     ]
    }
   ],
   "source": [
    "from collections import deque\n",
    "def solution(prices):\n",
    "    prices = deque(prices)\n",
    "    answer = []\n",
    "    \n",
    "    while len(prices) > 0:\n",
    "        price = prices.popleft()\n",
    "        flow = 0\n",
    "        for j in range(len(prices)):\n",
    "            flow +=1\n",
    "            if price > prices[j]:\n",
    "                break\n",
    "        answer.append(flow)\n",
    "    return answer\n",
    "\n",
    "\n",
    "print(solution([1,2,3,2,3]))"
   ]
  },
  {
   "cell_type": "markdown",
   "metadata": {},
   "source": [
    "# 시간 초과\n",
    "- 3/5"
   ]
  },
  {
   "cell_type": "code",
   "execution_count": 9,
   "metadata": {},
   "outputs": [
    {
     "name": "stdout",
     "output_type": "stream",
     "text": [
      "[4, 3, 1, 1, 0]\n"
     ]
    }
   ],
   "source": [
    "from collections import deque\n",
    "def solution(prices):\n",
    "    prices = deque(prices)\n",
    "    answer = []\n",
    "    \n",
    "    while len(prices) > 0:\n",
    "        price = prices.popleft()\n",
    "        flow = 0\n",
    "        for j in range(len(prices)):\n",
    "            flow +=1\n",
    "            if price > prices[j]:\n",
    "                break\n",
    "        answer.append(flow)\n",
    "    return answer\n",
    "\n",
    "\n",
    "print(solution([1,2,3,2,3]))"
   ]
  },
  {
   "cell_type": "markdown",
   "metadata": {},
   "source": [
    "# 최종 통과"
   ]
  },
  {
   "cell_type": "code",
   "execution_count": 1,
   "metadata": {},
   "outputs": [],
   "source": [
    "from collections import deque\n",
    "def solution(prices):\n",
    "    prices, answer = deque(prices), deque()\n",
    "    \n",
    "    \n",
    "    while len(prices) > 0:\n",
    "        price = prices.popleft()\n",
    "        flow = 0\n",
    "        for j in prices:\n",
    "            flow +=1\n",
    "            if price > j:\n",
    "                break\n",
    "        answer.append(flow)\n",
    "    return list(answer)\n",
    "\n"
   ]
  },
  {
   "cell_type": "markdown",
   "metadata": {},
   "source": [
    "\n",
    "tip) for 보다 while이 빠르다."
   ]
  }
 ],
 "metadata": {
  "kernelspec": {
   "display_name": "Python 3",
   "language": "python",
   "name": "python3"
  },
  "language_info": {
   "codemirror_mode": {
    "name": "ipython",
    "version": 3
   },
   "file_extension": ".py",
   "mimetype": "text/x-python",
   "name": "python",
   "nbconvert_exporter": "python",
   "pygments_lexer": "ipython3",
   "version": "3.7.6"
  }
 },
 "nbformat": 4,
 "nbformat_minor": 4
}
