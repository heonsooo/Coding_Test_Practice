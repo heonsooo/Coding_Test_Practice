{
 "cells": [
  {
   "cell_type": "markdown",
   "metadata": {},
   "source": [
    "# 성공\n",
    "- 소수찾는 함수 최적화시킴\n",
    "\n",
    "### stpes  \n",
    "1. num : 입력받은 숫자 문자열을 하나씩 리스트로 변환합니다.   \n",
    "2. finder(x) : 소수 찾는 함수를 만들었습니다.   \n",
    "2-1   소수는 2부터 이므로, x가 1보다 작거나 같으면, False 반환합니다.  \n",
    "2-2   x가 1보다 크면, 2부터 x의 제곱근까지 나누어지는 수 없으면 True(소수)반환합니다.  \n",
    "   \n",
    "3. 소수 개수 세기위한 count 리스트를 선언합니다.   \n",
    "4. 1개부터 위에서 선언한 num의 숫자 개수만큼 모든 조합의 수를 순열을 이용해 구합니다.   \n",
    "5. 순열 내의수를 join을 통해 결합 후 소수인지 판단합니다. \n",
    "6. 조합한 수가 소수가 맞다면 count리스트에 추가합니다.\n",
    "7. count 리스트에 추가 된 소수들을 set을 통해 중복을 지워주고 개수는 len함수를 사용하여 반환합니다."
   ]
  },
  {
   "cell_type": "code",
   "execution_count": null,
   "metadata": {},
   "outputs": [],
   "source": [
    "from itertools import permutations\n",
    "import math\n",
    "def solution(numbers):\n",
    "    \n",
    "    num = [i for i in numbers]\n",
    "    \n",
    "    def finder(x):\n",
    "        if x <= 1:\n",
    "            return False\n",
    "        else:\n",
    "            for i in range(2, int(math.sqrt(x))+1):\n",
    "                if x % i == 0:\n",
    "                    return False\n",
    "            return True\n",
    "    \n",
    "    count = []\n",
    "    \n",
    "    for i in range(1, len(num)+1):\n",
    "        ans = set(list(permutations(num,i)))\n",
    "        for j in ans:\n",
    "            if finder(int(''.join(j))):\n",
    "                count.append(int(''.join(j)))\n",
    "                \n",
    "    return len(set(count))"
   ]
  },
  {
   "cell_type": "code",
   "execution_count": null,
   "metadata": {},
   "outputs": [],
   "source": [
    "from itertools import permutations\n",
    "import math\n",
    "def solution(numbers):\n",
    "    \n",
    "    # 입력받은 숫자 문자열을 하나씩 리스트로 변환 \n",
    "    num = [i for i in numbers]\n",
    "    \n",
    "    #소수 찾는 함수\n",
    "    def finder(x):\n",
    "        # 소수는 2부터 이므로, x가 1보다 작거나 같으면, False 반환\n",
    "        if x <= 1:\n",
    "            return False\n",
    "        # x가 1보다 크면, \n",
    "        else:\n",
    "            # 2부터 x의 제곱근까지 수 중 나누어지는 수가 있으면(소수가 아니면) False 반환\n",
    "            for i in range(2, int(math.sqrt(x))+1):\n",
    "                if x % i == 0:\n",
    "                    return False\n",
    "        # 2부터 x의 제곱근까지 나누어지는 수 없으면 True반환 (소수)\n",
    "        return True\n",
    "    \n",
    "    #소수 개수 세기위한 count 리스트\n",
    "    count = []\n",
    "    \n",
    "    # 1개부터 위에서 선언한 num의 숫자 개수만큼 모든 조합의 수를 순열을 이용해 구함\n",
    "    for i in range(1, len(num)+1):\n",
    "        ans = set(list(permutations(num,i)))\n",
    "        \n",
    "        # 순열 내의수를 join을 통해 결합 후 소수인지 판단합니다. \n",
    "        for j in ans:\n",
    "            if finder(int(''.join(j))):\n",
    "                #조합한 수가 소수가 맞다면 count리스트에 추가합니다.\n",
    "                count.append(int(''.join(j)))\n",
    "                \n",
    "    #이렇게 count 리스트에 추가 된 소수들을 set을 통해 중복을 지워주고 개수는 len함수를 사용하여 반환합니다.\n",
    "    return len(set(count))"
   ]
  },
  {
   "cell_type": "markdown",
   "metadata": {},
   "source": [
    "---"
   ]
  },
  {
   "cell_type": "markdown",
   "metadata": {},
   "source": [
    "# 실패 \n",
    "- 시간초과 (66.7점)"
   ]
  },
  {
   "cell_type": "code",
   "execution_count": null,
   "metadata": {},
   "outputs": [],
   "source": [
    "from itertools import permutations\n",
    "def solution(numbers):\n",
    "    \n",
    "    a = [i for i in numbers]\n",
    "\n",
    "    def finder(n):\n",
    "        quo = 0\n",
    "        if n == 1: \n",
    "            return False\n",
    "        \n",
    "        for m in range(n-1 ,0, -1):\n",
    "            if n%m ==0:\n",
    "                quo += 1\n",
    "        if quo == 1:\n",
    "            return True\n",
    "        else :\n",
    "            return False\n",
    "\n",
    "    count = []\n",
    "    for i in range(1, len(a)+1):\n",
    "        ans = list(permutations(a,i))\n",
    "        #print(ans)\n",
    "        for j in range(len(ans)):\n",
    "            #print(ans[j])\n",
    "            answer = ''\n",
    "            for k in ans[j]:\n",
    "                answer += str(k)\n",
    "            \n",
    "            #print(answer)\n",
    "            if finder(int(answer)):\n",
    "                count.append(int(answer))\n",
    "    #print(count)\n",
    "    count = len(set(count))\n",
    "\n",
    "    return count\n"
   ]
  },
  {
   "cell_type": "markdown",
   "metadata": {},
   "source": [
    "# 2\n"
   ]
  },
  {
   "cell_type": "code",
   "execution_count": null,
   "metadata": {},
   "outputs": [],
   "source": [
    "from itertools import permutations\n",
    "def solution(numbers):\n",
    "    \n",
    "    a = [i for i in numbers]\n",
    "    \n",
    "    def finder(n):\n",
    "        quo = 0\n",
    "        if n == 1: \n",
    "            return False \n",
    "        for m in range(n-1 ,0, -1):\n",
    "            if n%m ==0:\n",
    "                quo += 1\n",
    "            if quo > 1:\n",
    "                return False\n",
    "        if quo == 1:\n",
    "            return True\n",
    "    \n",
    "\n",
    "    count = []\n",
    "    for i in range(1, len(a)+1):\n",
    "        ans = list(permutations(a,i))\n",
    "\n",
    "        for j in range(len(ans)):\n",
    "            answer = ''\n",
    "            for k in ans[j]:\n",
    "                answer += str(k)\n",
    "                \n",
    "            if finder(int(answer)):\n",
    "                count.append(int(answer))\n",
    "    #print(count)\n",
    "    count = len(set(count))\n",
    "\n",
    "    return count\n"
   ]
  },
  {
   "cell_type": "code",
   "execution_count": null,
   "metadata": {},
   "outputs": [],
   "source": [
    "\n",
    "\n",
    "\n",
    "from itertools import permutations\n",
    "def solution(numbers):\n",
    "    \n",
    "    a = [i for i in numbers]\n",
    "    \n",
    "    def finder(n):\n",
    "        quo = 0\n",
    "        if n == 1: \n",
    "            return False \n",
    "        for m in range(n-1 ,0, -1):\n",
    "            if n%m ==0:\n",
    "                quo += 1\n",
    "            if quo > 1:\n",
    "                return False\n",
    "        if quo == 1:\n",
    "            return True\n",
    "    \n",
    "\n",
    "    count = []\n",
    "    for i in range(1, len(a)+1):\n",
    "        ans = list(permutations(a,i))\n",
    "\n",
    "        for j in range(len(ans)):\n",
    "            answer = ''.join(j)\n",
    "            if finder(int(answer)):\n",
    "                count.append(int(answer))\n",
    "    #print(count)\n",
    "    count = len(set(count))\n",
    "\n",
    "    return count\n"
   ]
  },
  {
   "cell_type": "markdown",
   "metadata": {},
   "source": [
    "# 실패\n",
    "- 시간초과 (83.3점)"
   ]
  },
  {
   "cell_type": "code",
   "execution_count": null,
   "metadata": {},
   "outputs": [],
   "source": [
    "\n",
    "\n",
    "from itertools import permutations\n",
    "def solution(numbers):\n",
    "    \n",
    "    a = [i for i in numbers]\n",
    "    \n",
    "    def finder(n):\n",
    "        quo = 0\n",
    "        if n == 1: \n",
    "            return False \n",
    "        for m in range(n-1 ,0, -1):\n",
    "            if n%m ==0:\n",
    "                quo += 1\n",
    "            if quo > 1:\n",
    "                return False\n",
    "        if quo == 1:\n",
    "            return True\n",
    "    \n",
    "\n",
    "    count = []\n",
    "    for i in range(1, len(a)+1):\n",
    "        ans = set(list(permutations(a,i)))\n",
    "    \n",
    "\n",
    "        for j in range(len(ans)):\n",
    "            answer = ''.join(j)\n",
    "            if finder(int(answer)):\n",
    "                count.append(int(answer))\n",
    "    #print(count)\n",
    "    count = len(set(count))\n",
    "\n",
    "    return count\n"
   ]
  },
  {
   "cell_type": "code",
   "execution_count": null,
   "metadata": {},
   "outputs": [],
   "source": []
  },
  {
   "cell_type": "code",
   "execution_count": 30,
   "metadata": {},
   "outputs": [],
   "source": [
    "from itertools import permutations\n",
    "def solution(numbers):\n",
    "    \n",
    "    a = [i for i in numbers]\n",
    "    \n",
    "    import math\n",
    "\n",
    "    # 제곱근까지만 보고 소수를 판별하는 함수\n",
    "    def finder(x):\n",
    "        # 2부터 x의 제곱근까지의 모든 수를 확인하며\n",
    "        for i in range(2, int(math.sqrt(x))+1):\n",
    "            # x가 해당 수로 나누어 떨어진다면\n",
    "            if x % i == 0:\n",
    "                return True\n",
    "            return False\n",
    "\n",
    "    count = []\n",
    "    for i in range(1, len(a)+1):\n",
    "        ans = set(list(permutations(a,i)))\n",
    "        for j in ans:\n",
    "            if finder(int(''.join(j))):\n",
    "                count.append(int(''.join(j)))\n",
    "                \n",
    "    return len(set(count))"
   ]
  },
  {
   "cell_type": "markdown",
   "metadata": {},
   "source": [
    "---"
   ]
  },
  {
   "cell_type": "code",
   "execution_count": 3,
   "metadata": {},
   "outputs": [
    {
     "ename": "ValueError",
     "evalue": "empty separator",
     "output_type": "error",
     "traceback": [
      "\u001b[1;31m---------------------------------------------------------------------------\u001b[0m",
      "\u001b[1;31mValueError\u001b[0m                                Traceback (most recent call last)",
      "\u001b[1;32m<ipython-input-3-6783a4a269e1>\u001b[0m in \u001b[0;36m<module>\u001b[1;34m\u001b[0m\n\u001b[0;32m      8\u001b[0m     \u001b[1;32mreturn\u001b[0m \u001b[0manswer\u001b[0m\u001b[1;33m\u001b[0m\u001b[1;33m\u001b[0m\u001b[0m\n\u001b[0;32m      9\u001b[0m \u001b[1;33m\u001b[0m\u001b[0m\n\u001b[1;32m---> 10\u001b[1;33m \u001b[0mprint\u001b[0m\u001b[1;33m(\u001b[0m\u001b[0msolution\u001b[0m\u001b[1;33m(\u001b[0m\u001b[1;34m'175'\u001b[0m\u001b[1;33m)\u001b[0m\u001b[1;33m)\u001b[0m\u001b[1;33m\u001b[0m\u001b[1;33m\u001b[0m\u001b[0m\n\u001b[0m",
      "\u001b[1;32m<ipython-input-3-6783a4a269e1>\u001b[0m in \u001b[0;36msolution\u001b[1;34m(numbers)\u001b[0m\n\u001b[0;32m      1\u001b[0m \u001b[1;32mdef\u001b[0m \u001b[0msolution\u001b[0m\u001b[1;33m(\u001b[0m\u001b[0mnumbers\u001b[0m\u001b[1;33m)\u001b[0m\u001b[1;33m:\u001b[0m\u001b[1;33m\u001b[0m\u001b[1;33m\u001b[0m\u001b[0m\n\u001b[0;32m      2\u001b[0m     \u001b[0manswer\u001b[0m \u001b[1;33m=\u001b[0m \u001b[1;36m0\u001b[0m\u001b[1;33m\u001b[0m\u001b[1;33m\u001b[0m\u001b[0m\n\u001b[1;32m----> 3\u001b[1;33m     \u001b[0mprint\u001b[0m\u001b[1;33m(\u001b[0m\u001b[0mnumbers\u001b[0m\u001b[1;33m.\u001b[0m\u001b[0msplit\u001b[0m\u001b[1;33m(\u001b[0m\u001b[1;34m''\u001b[0m\u001b[1;33m)\u001b[0m\u001b[1;33m)\u001b[0m\u001b[1;33m\u001b[0m\u001b[1;33m\u001b[0m\u001b[0m\n\u001b[0m\u001b[0;32m      4\u001b[0m     \u001b[0mnums\u001b[0m \u001b[1;33m=\u001b[0m \u001b[1;33m[\u001b[0m\u001b[0mi\u001b[0m \u001b[1;32mfor\u001b[0m \u001b[0mi\u001b[0m \u001b[1;32min\u001b[0m \u001b[0mnumbers\u001b[0m\u001b[1;33m[\u001b[0m\u001b[1;36m0\u001b[0m\u001b[1;33m:\u001b[0m\u001b[1;33m]\u001b[0m\u001b[1;33m]\u001b[0m\u001b[1;33m\u001b[0m\u001b[1;33m\u001b[0m\u001b[0m\n\u001b[0;32m      5\u001b[0m \u001b[1;33m\u001b[0m\u001b[0m\n",
      "\u001b[1;31mValueError\u001b[0m: empty separator"
     ]
    }
   ],
   "source": [
    "from itertools import permutations\n",
    "def solution(numbers):\n",
    "    answer = 0\n",
    "    nums = [i for i in numbers[0:]]\n",
    "    \n",
    "    comb = list(permutations(nums,len(nums)))\n",
    "    \n",
    "    \n",
    "    \n",
    "    return answer\n",
    "\n",
    "print(solution('175'))"
   ]
  },
  {
   "cell_type": "code",
   "execution_count": 17,
   "metadata": {},
   "outputs": [
    {
     "name": "stdout",
     "output_type": "stream",
     "text": [
      "[3, 5, 9, 10, 12]\n",
      "[9, 10, 12, 13]\n",
      "-1\n"
     ]
    }
   ],
   "source": [
    "def solution(scovile, K):\n",
    "    answer = 0\n",
    "    scovile.sort()\n",
    "    while scovile[0] <= K:\n",
    "        answer += 1\n",
    "        New_sco = scovile[0]+scovile[1]*2\n",
    "        \n",
    "        scovile.pop(0)\n",
    "        scovile.pop(0)\n",
    "\n",
    "        scovile.append(New_sco)        \n",
    "        scovile.sort()\n",
    "        print(scovile)\n",
    "    else:\n",
    "        answer= -1\n",
    "    return answer\n",
    "\n",
    "\n",
    "print(solution([1, 2, 3, 9, 10, 12], 7))"
   ]
  },
  {
   "cell_type": "code",
   "execution_count": 24,
   "metadata": {},
   "outputs": [
    {
     "name": "stdout",
     "output_type": "stream",
     "text": [
      "[3, 5, 9, 10, 12]\n",
      "[9, 10, 12, 13]\n",
      "[12, 13, 29]\n",
      "[29, 38]\n",
      "-1\n"
     ]
    }
   ],
   "source": [
    "def solution(scovile, K):\n",
    "    answer = 0\n",
    "    scovile.sort()\n",
    "    for i in range(len(scovile)):\n",
    "        if scovile[0] < K:\n",
    "            answer += 1\n",
    "            New_sco = scovile[0]+scovile[1]*2\n",
    "            \n",
    "            if len(scovile) <= 2:\n",
    "                answer = -1\n",
    "                break\n",
    "            scovile = scovile[2:]\n",
    "            \n",
    "            scovile.append(New_sco)\n",
    "            scovile.sort()\n",
    "            print(scovile)\n",
    "\n",
    "    return answer\n",
    "\n",
    "\n",
    "print(solution([1, 2, 3, 9, 10, 12], 98765))"
   ]
  },
  {
   "cell_type": "code",
   "execution_count": 43,
   "metadata": {},
   "outputs": [
    {
     "name": "stdout",
     "output_type": "stream",
     "text": [
      "2\n"
     ]
    }
   ],
   "source": [
    "def solution(scoville, K):\n",
    "    answer = 0\n",
    "    while min(scoville) < K:\n",
    "        answer +=1\n",
    "        a = min(scoville)\n",
    "        scoville.remove(a)\n",
    "        b = min(scoville)\n",
    "        scoville.remove(b)\n",
    "        c = a + b*2 \n",
    "        scoville.append(c)\n",
    "    \n",
    "        if len(scoville) <= 2:\n",
    "            answer = -1\n",
    "            break\n",
    "    \n",
    "    \n",
    "\n",
    "    return answer\n",
    "print(solution([1, 2, 3, 9, 10, 12], 7))"
   ]
  },
  {
   "cell_type": "code",
   "execution_count": 48,
   "metadata": {},
   "outputs": [
    {
     "name": "stdout",
     "output_type": "stream",
     "text": [
      "-1\n"
     ]
    }
   ],
   "source": [
    "def solution(scoville, K):\n",
    "    answer = 0\n",
    "    while min(scoville) < K:\n",
    "        answer +=1\n",
    "        c = scoville.pop(0) + (scoville.pop(0))*2\n",
    "        scoville.append(c)\n",
    "    \n",
    "        if len(scoville) <= 2:\n",
    "            answer = -1\n",
    "            break\n",
    "    \n",
    "    \n",
    "\n",
    "    return answer\n",
    "\n",
    "print(solution([1, 2,3], 7))"
   ]
  },
  {
   "cell_type": "code",
   "execution_count": 28,
   "metadata": {},
   "outputs": [
    {
     "name": "stdout",
     "output_type": "stream",
     "text": [
      "7\n",
      "1\n",
      "71\n",
      "17\n",
      "0\n"
     ]
    }
   ],
   "source": [
    "from itertools import permutations\n",
    "\n",
    "def finder(n):\n",
    "    quo = 0\n",
    "    if n == 1: \n",
    "        return False\n",
    "    \n",
    "    for m in range(n-1 ,0, -1):\n",
    "        if n%m ==0:\n",
    "            quo += 1\n",
    "    if quo > 1:\n",
    "        return True\n",
    "a = [7,1]\n",
    "count = 0\n",
    "for i in range(1, len(a)+1):\n",
    "    ans = list(permutations(a,i))\n",
    "    #print(ans)\n",
    "    for j in range(len(ans)):\n",
    "        #print(ans[j])\n",
    "        answer = ''\n",
    "        for k in ans[j]:\n",
    "            answer += str(k)\n",
    "        print(answer)\n",
    "        if finder(int(answer)):\n",
    "            count +=1 \n",
    "\n",
    "print(count)"
   ]
  }
 ],
 "metadata": {
  "kernelspec": {
   "display_name": "Python 3",
   "language": "python",
   "name": "python3"
  },
  "language_info": {
   "codemirror_mode": {
    "name": "ipython",
    "version": 3
   },
   "file_extension": ".py",
   "mimetype": "text/x-python",
   "name": "python",
   "nbconvert_exporter": "python",
   "pygments_lexer": "ipython3",
   "version": "3.7.6"
  }
 },
 "nbformat": 4,
 "nbformat_minor": 4
}
