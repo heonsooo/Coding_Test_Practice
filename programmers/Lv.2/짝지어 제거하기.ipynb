{
 "cells": [
  {
   "cell_type": "markdown",
   "metadata": {},
   "source": [
    "# 성공\n",
    "\n",
    "##  Steps\n",
    "- stack 리스트를 만들어 줍니다.\n",
    "- stack이 비어있다면, s의 element를 넣어줍니다.\n",
    "- stack에 문자가 존재하면, 다음 문자인 i와 같은지 확인합니다.\n",
    "- stack[-1]문자와 i문자가 같다면, stack의 마지막 문자를 제거하고 다음 문자로 넘어갑니다.\n",
    "- stack[-1]문자와 i문자가 같지 않다면, stack에 i 문자를 추가합니다.\n",
    "\n",
    "s의 모든 문자를 반복하고,  \n",
    "stack이 비어있다면, 모두 짝지어 제거 성공한 것이므로 1을 반환하고  \n",
    "stack이 비어있지 않다면, 짝지어 제거가 실패한 것이므로 0을 반환합니다.  "
   ]
  },
  {
   "cell_type": "code",
   "execution_count": 2,
   "metadata": {},
   "outputs": [
    {
     "name": "stdout",
     "output_type": "stream",
     "text": [
      "1\n",
      "0\n"
     ]
    }
   ],
   "source": [
    "def solution(s):\n",
    "    stack = []\n",
    "    for i in s:\n",
    "        if len(stack)==0:\n",
    "            stack.append(i)\n",
    "    \n",
    "\n",
    "        elif stack[-1] == i:\n",
    "            stack.pop()\n",
    "        else:\n",
    "            stack.append(i)\n",
    "            \n",
    "    if len(stack) == 0:\n",
    "        return 1\n",
    "    else:\n",
    "        return 0\n",
    "    \n",
    "print(solution('baabaa'))\n",
    "print(solution('cdcd'))"
   ]
  }
 ],
 "metadata": {
  "kernelspec": {
   "display_name": "Python 3",
   "language": "python",
   "name": "python3"
  },
  "language_info": {
   "codemirror_mode": {
    "name": "ipython",
    "version": 3
   },
   "file_extension": ".py",
   "mimetype": "text/x-python",
   "name": "python",
   "nbconvert_exporter": "python",
   "pygments_lexer": "ipython3",
   "version": "3.7.6"
  }
 },
 "nbformat": 4,
 "nbformat_minor": 4
}
