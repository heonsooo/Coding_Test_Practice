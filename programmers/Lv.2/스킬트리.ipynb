{
 "cells": [
  {
   "cell_type": "markdown",
   "metadata": {},
   "source": [
    "# 성공\n"
   ]
  },
  {
   "cell_type": "code",
   "execution_count": null,
   "metadata": {},
   "outputs": [],
   "source": [
    "def solution(skill, skill_trees):\n",
    "    answer = 0\n",
    "    for i in skill_trees:\n",
    "        skills = [k for k in skill]\n",
    "        for j in i:\n",
    "            \n",
    "            if j in skills:\n",
    "                if j == skills[0]:\n",
    "                    skills.pop(0)\n",
    "                    \n",
    "                    if j==i[-1]:\n",
    "                        answer +=1\n",
    "                    continue\n",
    "                elif j in skills[1:]:\n",
    "                    break\n",
    "            if j== i[-1]:\n",
    "                answer +=1\n",
    "\n",
    "    return answer\n"
   ]
  },
  {
   "cell_type": "code",
   "execution_count": null,
   "metadata": {},
   "outputs": [],
   "source": [
    "def solution(skill, skill_trees):\n",
    "    answer = 0\n",
    "    for st in skill_trees:\n",
    "        arr = [nn for nn in range(len(skill))]\n",
    "        \n",
    "        for n in range(len(skill)):\n",
    "            if st.find(skill[n]) == -1:\n",
    "                pass\n",
    "            else: \n",
    "                arr[skill.index(skill[n])] = st.find(skill[n])\n",
    "        print(arr, sorted(arr))\n",
    "        if arr == sorted(arr):\n",
    "            answer +=1 \n",
    "    \n",
    "    return answer"
   ]
  },
  {
   "cell_type": "code",
   "execution_count": null,
   "metadata": {},
   "outputs": [],
   "source": [
    "def solution(skill, skill_trees):\n",
    "    answer = 0\n",
    "    for st in skill_trees:\n",
    "        arr = []\n",
    "        \n",
    "        for n in range(len(skill)):\n",
    "            if st.find(skill[n]) == -1:\n",
    "                pass\n",
    "            else: \n",
    "                arr.append(st.find(skill[n]))\n",
    "                \n",
    "        print(arr, sorted(arr))\n",
    "        if arr == sorted(arr):\n",
    "            answer +=1 \n",
    "    \n",
    "    return answer"
   ]
  },
  {
   "cell_type": "code",
   "execution_count": null,
   "metadata": {},
   "outputs": [],
   "source": []
  },
  {
   "cell_type": "markdown",
   "metadata": {},
   "source": [
    "---"
   ]
  },
  {
   "cell_type": "code",
   "execution_count": 1,
   "metadata": {},
   "outputs": [
    {
     "name": "stdout",
     "output_type": "stream",
     "text": [
      "2\n"
     ]
    }
   ],
   "source": [
    "skill_trees= [\"BACDE\", \"CBADF\", \"AECB\", \"BDA\"]\n",
    "skill = 'CBD'\n",
    "answer = 0\n",
    "for st in skill_trees:\n",
    "    arr = [-1]*len(skill)\n",
    "    for n in range(len(skill)):\n",
    "        arr[skill.find(skill[n])] = st.find(skill[n])\n",
    "    if arr == sorted(arr):\n",
    "        answer +=1 \n",
    "print(answer)"
   ]
  },
  {
   "cell_type": "code",
   "execution_count": 7,
   "metadata": {},
   "outputs": [
    {
     "name": "stdout",
     "output_type": "stream",
     "text": [
      "[0, 0, 0, 0]\n",
      "[-1, -1, -1, -1] [-1, -1, -1, -1]\n",
      "[0, 0, 0, 0]\n",
      "[-1, -1, -1, -1] [-1, -1, -1, -1]\n",
      "[0, 0, 0, 0]\n",
      "[-1, -1, -1, -1] [-1, -1, -1, -1]\n",
      "3\n"
     ]
    }
   ],
   "source": [
    "skill_trees= [\"BACDE\", \"CBADF\", \"AECB\", \"BDA\"]\n",
    "skill = 'CBD'\n",
    "def solution(skill, skill_trees):\n",
    "    answer = 0\n",
    "    for st in skill_trees:\n",
    "        #arr = [nn for nn in range(len(skill))]\n",
    "        arr = [0]*len(skill)\n",
    "        print(arr)\n",
    "\n",
    "        for n in range(len(skill)):\n",
    "            arr[skill.index(skill[n])] = st.find(skill[n])\n",
    "        print(arr, sorted(arr))\n",
    "        if arr == sorted(arr):\n",
    "            answer +=1 \n",
    "    \n",
    "    return answer\n",
    "print(solution([\"BACDE\", \"CBADF\", \"AECB\", \"BDA\"],'CBD' ))"
   ]
  },
  {
   "cell_type": "code",
   "execution_count": 6,
   "metadata": {},
   "outputs": [
    {
     "name": "stdout",
     "output_type": "stream",
     "text": [
      "[0, 1, 2]\n",
      "-1\n",
      "4\n",
      "7\n",
      "[-1, 4, 7]\n"
     ]
    }
   ],
   "source": [
    "\n",
    "s = 'wewlbsdc'\n",
    "c = 'abc'\n",
    "a = [i for i in range(len(c))]\n",
    "print(a)\n",
    "\n",
    "for i in c:\n",
    "    print(s.find(i))\n",
    "    a[(c.find(i))] = (s.find(i))\n",
    "print(a)"
   ]
  }
 ],
 "metadata": {
  "kernelspec": {
   "display_name": "Python 3",
   "language": "python",
   "name": "python3"
  },
  "language_info": {
   "codemirror_mode": {
    "name": "ipython",
    "version": 3
   },
   "file_extension": ".py",
   "mimetype": "text/x-python",
   "name": "python",
   "nbconvert_exporter": "python",
   "pygments_lexer": "ipython3",
   "version": "3.7.6"
  }
 },
 "nbformat": 4,
 "nbformat_minor": 4
}
