{
 "cells": [
  {
   "cell_type": "markdown",
   "metadata": {},
   "source": [
    "# 성공 "
   ]
  },
  {
   "cell_type": "code",
   "execution_count": null,
   "metadata": {},
   "outputs": [],
   "source": [
    "def solution(progresses, speeds):\n",
    "    # 배포 날 몇 개의 기능 배포되는지 list\n",
    "    answer = []\n",
    "    \n",
    "    # 작업의 개수가 있을경우 반복\n",
    "    while len(progresses) > 0:\n",
    "        \n",
    "        # 람다를 통해 작업 진도와 속도를 더해서 진행되는 작업률을 표현 \n",
    "        # (이때, 100이 넘어가도 계속 진행했습니다. 왜냐하면 100이 넘어가면 완성이 된거기때문에 binary_class로 분류)  \n",
    "        progresses = list(map(lambda x,y:x+y, progresses, speeds))\n",
    "        count_index = []\n",
    "        \n",
    "        # 완성된 작업 진도의 개수만큼 for문 반복, 이때 작업 우선순위 앞에부터 확인\n",
    "        for i in range(len(progresses)):\n",
    "            # 앞에서부터 작업이 완성(작어 진도 100이상)이 있다면, count_index에 완성 index추가(완성된 작업물의 index까지만 append)\n",
    "            if progresses[i] >= 100:\n",
    "                count_index.append(i)\n",
    "            # 만약 앞에서부터 작업이 완성되다가 완성되지 않은게 있다면 break\n",
    "            else:\n",
    "                break\n",
    "        # 완성작업물이 있다면 몇개 배포할 수 있는지 answer에 append\n",
    "        if len(count_index) > 0:\n",
    "            answer.append(len(count_index))\n",
    "            \n",
    "            #배포 개수 counting 후 작업 진도와 작업 속도에서 각 index를 빼줍니다.\n",
    "            # 이때 앞 index부터 뺀다면, 뒤 인덱스에 변화가 있기때문에 뒤 인덱스부터 빼주었습니다.\n",
    "            for j in count_index[::-1]:\n",
    "                progresses.pop(j)\n",
    "                speeds.pop(j)\n",
    "    return answer\n",
    "\n",
    "print(solution([93, 30, 55],[1, 30, 5]))\n",
    "\n",
    "print(solution([95, 90, 99, 99, 80, 99],[1, 1, 1, 1, 1, 1]))"
   ]
  },
  {
   "cell_type": "code",
   "execution_count": 24,
   "metadata": {},
   "outputs": [
    {
     "name": "stdout",
     "output_type": "stream",
     "text": [
      "[2, 1]\n",
      "[1, 3, 2]\n"
     ]
    }
   ],
   "source": [
    "def solution(progresses, speeds):\n",
    "    answer = []\n",
    "    while len(progresses) > 0:\n",
    "        progresses = list(map(lambda x,y:x+y, progresses, speeds))\n",
    "        count_index = []\n",
    "        \n",
    "        for i in range(len(progresses)):\n",
    "            if progresses[i] >= 100:\n",
    "                count_index.append(i)\n",
    "            else:\n",
    "                break\n",
    "                \n",
    "        if len(count_index) > 0:\n",
    "            answer.append(len(count_index))\n",
    "            for j in count_index[::-1]:\n",
    "                progresses.pop(j)\n",
    "                speeds.pop(j)\n",
    "    return answer\n",
    "\n",
    "print(solution([93, 30, 55],[1, 30, 5]))\n",
    "\n",
    "print(solution([95, 90, 99, 99, 80, 99],[1, 1, 1, 1, 1, 1]))"
   ]
  },
  {
   "cell_type": "markdown",
   "metadata": {},
   "source": [
    "---"
   ]
  },
  {
   "cell_type": "code",
   "execution_count": 17,
   "metadata": {},
   "outputs": [
    {
     "name": "stdout",
     "output_type": "stream",
     "text": [
      "[1, 5, 9, 8, 6, 8, 5, 3]\n",
      "[7, 13, 14, 11]\n",
      "[13, 21, 19, 14]\n",
      "[2, 1]\n"
     ]
    }
   ],
   "source": [
    "a = [1,5,9,8]\n",
    "b = [6,8,5,3]\n",
    "print(a+b)\n",
    "\n",
    "a = list(map(lambda x,y:x+y, a, b))\n",
    "print(a)\n",
    "a = list(map(lambda x,y:x+y, a, b))\n",
    "print(a)\n"
   ]
  },
  {
   "cell_type": "code",
   "execution_count": 22,
   "metadata": {},
   "outputs": [
    {
     "name": "stdout",
     "output_type": "stream",
     "text": [
      "[5, 8, 6, 1]\n"
     ]
    }
   ],
   "source": [
    "a = [1,6,8,5]\n",
    "print(a[::-1])"
   ]
  }
 ],
 "metadata": {
  "kernelspec": {
   "display_name": "Python 3",
   "language": "python",
   "name": "python3"
  },
  "language_info": {
   "codemirror_mode": {
    "name": "ipython",
    "version": 3
   },
   "file_extension": ".py",
   "mimetype": "text/x-python",
   "name": "python",
   "nbconvert_exporter": "python",
   "pygments_lexer": "ipython3",
   "version": "3.7.6"
  }
 },
 "nbformat": 4,
 "nbformat_minor": 4
}
