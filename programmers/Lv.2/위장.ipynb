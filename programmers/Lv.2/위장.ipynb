{
 "cells": [
  {
   "cell_type": "markdown",
   "metadata": {},
   "source": [
    "# 위장\n",
    "\n",
    "## steps\n",
    "1) all_clothes : 의상 종류의 \"수\" 채워넣을 리스트     \n",
    "2) class_clothes : 입력받은 모든 의상 class 리스트      \n",
    "3) class_clothe  : 입력받은 의상 중복 제외한 class 리스트      \n",
    "4) 중복 제외 의상 class 리스트 element에서 하나씩 꺼내서 모든 의상 class 리스트에서 개수를 세어 all_clothes에 append합니다.     \n",
    "5) all_clothes에서 각 의상 종류의 수 값에 +1 을 더하여 곱하고 마지막에 1을 뺐습니다.  \n",
    "6) 만약 특정 의상(headgear) 수가 3개, 다른 의상(eyewear)의 수가 5개 라면,   \n",
    "   두 의상의 조합 = 3x5 = 15가지,  \n",
    "   하나씩 입을 경우 = 3+5   \n",
    "   모두 안 입는 경우 = 1   \n",
    "   따라서 15 +3+5 -1 = (3+1)x(5+1)-1 입니다.   \n",
    "   따라서 모든 의상 종류의 수에 1을 더해서 k+1의 곱을 만들고 모두 안입는 경우 1을 빼주었습니다."
   ]
  },
  {
   "cell_type": "code",
   "execution_count": 5,
   "metadata": {},
   "outputs": [
    {
     "name": "stdout",
     "output_type": "stream",
     "text": [
      "5\n",
      "3\n"
     ]
    }
   ],
   "source": [
    "def solution(clothes):\n",
    "\n",
    "    all_clothes = []\n",
    "    class_clothes = [j[1] for j in clothes]\n",
    "    class_clothe = set(class_clothes)\n",
    "    answer = 1\n",
    "    \n",
    "    for i in class_clothe:\n",
    "        all_clothes.append((class_clothes.count(i)))\n",
    "        \n",
    "    answer = 1\n",
    "    for k in all_clothes:  \n",
    "        answer *= k+1 \n",
    "    answer -= 1\n",
    "    return answer\n",
    "\n",
    "\n",
    "print(solution([[\"yellow_hat\", \"headgear\"], [\"blue_sunglasses\", \"eyewear\"], [\"green_turban\", \"headgear\"]]))\n",
    "print(solution([[\"crow_mask\", \"face\"], [\"blue_sunglasses\", \"face\"], [\"smoky_makeup\", \"face\"]]))"
   ]
  },
  {
   "cell_type": "markdown",
   "metadata": {},
   "source": [
    "---\n",
    "시행착오"
   ]
  },
  {
   "cell_type": "code",
   "execution_count": 11,
   "metadata": {},
   "outputs": [
    {
     "name": "stdout",
     "output_type": "stream",
     "text": [
      "3\n"
     ]
    }
   ],
   "source": [
    "def solution(clothes):\n",
    "\n",
    "    all_clothes = []\n",
    "    ans = 1\n",
    "    answer = len(clothes)\n",
    "    # 다른것의 class 개수 만큼 만들고\n",
    "    # 그 클래스 다 곱하기 \n",
    "    \n",
    "    for i in clothes:\n",
    "        if i[1] in all_clothes:\n",
    "            pass\n",
    "        else:\n",
    "            for j in range(len(clothes)):\n",
    "                all_clothes.append((i[1], clothes.count(i[1])))\n",
    "    for k in all_clothes:\n",
    "        ans *= k[1]\n",
    "    \n",
    "    answer += ans\n",
    "    \n",
    "    return answer\n",
    "\n",
    "print(solution([[\"yellow_hat\", \"headgear\"], [\"blue_sunglasses\", \"eyewear\"], [\"green_turban\", \"headgear\"]]))"
   ]
  },
  {
   "cell_type": "code",
   "execution_count": null,
   "metadata": {},
   "outputs": [],
   "source": []
  },
  {
   "cell_type": "code",
   "execution_count": 8,
   "metadata": {},
   "outputs": [
    {
     "name": "stdout",
     "output_type": "stream",
     "text": [
      "5\n",
      "6\n"
     ]
    }
   ],
   "source": [
    "def solution(clothes):\n",
    "\n",
    "    all_clothes = []\n",
    "    ans = 1\n",
    "    answer = len(clothes)\n",
    "    # 다른것의 class 개수 만큼 만들고\n",
    "    # 그 클래스 다 곱하기 \n",
    "    class_clothe = [j[1] for j in clothes]\n",
    "#     print(class_clothe)\n",
    "    \n",
    " \n",
    "    for j in  class_clothe:\n",
    "        \n",
    "        all_clothes.append((class_clothe.count(j)))\n",
    "        while j in class_clothe:\n",
    "            class_clothe.remove(j)\n",
    "        \n",
    "    for k in all_clothes:\n",
    "        ans *= k\n",
    "    \n",
    "    answer += ans\n",
    "    \n",
    "    return answer\n",
    "\n",
    "\n",
    "print(solution([[\"yellow_hat\", \"headgear\"], [\"blue_sunglasses\", \"eyewear\"], [\"green_turban\", \"headgear\"]]))\n",
    "print(solution([[\"crow_mask\", \"face\"], [\"blue_sunglasses\", \"face\"], [\"smoky_makeup\", \"face\"]]))"
   ]
  },
  {
   "cell_type": "code",
   "execution_count": null,
   "metadata": {},
   "outputs": [],
   "source": [
    "def solution(clothes):\n",
    "\n",
    "    all_clothes = []\n",
    "    \n",
    "\n",
    "    # 의상 class 개수 만큼 만들고\n",
    "    # 그 클래스 다 곱하기 \n",
    "    class_clothes = [j[1] for j in clothes]\n",
    "\n",
    "    # 중복제거 \n",
    "    class_clothe = set(class_clothes)\n",
    "#     print(class_clothe)\n",
    "    for i in class_clothe:\n",
    "        all_clothes.append((class_clothes.count(i)))\n",
    "    answer = 1\n",
    "    \n",
    "    \n",
    "    # (옷의 종류  개수+1) * (다른 옷의 종류+1) *...  -1 (안입는 경우) \n",
    "    for k in all_clothes:\n",
    "        \n",
    "        answer *= k+1 \n",
    "    answer -= 1    \n",
    "    return answer"
   ]
  },
  {
   "cell_type": "markdown",
   "metadata": {},
   "source": [
    "# 위장\n",
    "\n",
    "## steps\n",
    "1) all_clothes : 의상 종류의 \"수\" 채워넣을 리스트     \n",
    "2) class_clothes : 입력받은 모든 의상 class 리스트      \n",
    "3) class_clothe  : 입력받은 의상 중복 제외한 class 리스트      \n",
    "4) 중복 제외 의상 class 리스트 element에서 하나씩 꺼내서 모든 의상 class 리스트에서 개수를 세어 all_clothes에 append합니다.     \n",
    "5) all_clothes에서 각 의상 종류의 수 값에 +1 을 더하여 곱하고 마지막에 1을 뺐습니다.  \n",
    "6) 만약 특정 의상(headgear) 수가 3개, 다른 의상(eyewear)의 수가 5개 라면,   \n",
    "   두 의상의 조합 = 3x5 = 15가지,  \n",
    "   하나씩 입을 경우 = 3+5   \n",
    "   모두 안 입는 경우 = 1   \n",
    "   따라서 15 +3+5 -1 = (3+1)x(5+1)-1 입니다.   \n",
    "   따라서 모든 의상 종류의 수에 1을 더해서 k+1의 곱을 만들고 모두 안입는 경우 1을 빼주었습니다."
   ]
  },
  {
   "cell_type": "code",
   "execution_count": 5,
   "metadata": {},
   "outputs": [
    {
     "name": "stdout",
     "output_type": "stream",
     "text": [
      "5\n",
      "3\n"
     ]
    }
   ],
   "source": [
    "def solution(clothes):\n",
    "\n",
    "    all_clothes = []\n",
    "    class_clothes = [j[1] for j in clothes]\n",
    "    class_clothe = set(class_clothes)\n",
    "    answer = 1\n",
    "    \n",
    "    for i in class_clothe:\n",
    "        all_clothes.append((class_clothes.count(i)))\n",
    "        \n",
    "    answer = 1\n",
    "    for k in all_clothes:  \n",
    "        answer *= k+1 \n",
    "    answer -= 1\n",
    "    return answer\n",
    "\n",
    "\n",
    "print(solution([[\"yellow_hat\", \"headgear\"], [\"blue_sunglasses\", \"eyewear\"], [\"green_turban\", \"headgear\"]]))\n",
    "print(solution([[\"crow_mask\", \"face\"], [\"blue_sunglasses\", \"face\"], [\"smoky_makeup\", \"face\"]]))"
   ]
  }
 ],
 "metadata": {
  "kernelspec": {
   "display_name": "Python 3",
   "language": "python",
   "name": "python3"
  },
  "language_info": {
   "codemirror_mode": {
    "name": "ipython",
    "version": 3
   },
   "file_extension": ".py",
   "mimetype": "text/x-python",
   "name": "python",
   "nbconvert_exporter": "python",
   "pygments_lexer": "ipython3",
   "version": "3.7.6"
  }
 },
 "nbformat": 4,
 "nbformat_minor": 4
}
