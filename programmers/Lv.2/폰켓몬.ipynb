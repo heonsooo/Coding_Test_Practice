{
 "cells": [
  {
   "cell_type": "markdown",
   "metadata": {},
   "source": [
    "# 성공"
   ]
  },
  {
   "cell_type": "code",
   "execution_count": 37,
   "metadata": {},
   "outputs": [],
   "source": [
    "from itertools import combinations\n",
    "def solution(nums):\n",
    "    ponketmon = set(nums)\n",
    "    n = (len(nums)+1)//2\n",
    "    for i in range(n,0, -1):\n",
    "        if len(ponketmon) >= i:\n",
    "            return i\n",
    "print(solution([3,3,3,2,2,4]))\n",
    "print(solution([3,1,2,3]))"
   ]
  },
  {
   "cell_type": "markdown",
   "metadata": {},
   "source": [
    "---"
   ]
  },
  {
   "cell_type": "code",
   "execution_count": 34,
   "metadata": {},
   "outputs": [
    {
     "name": "stdout",
     "output_type": "stream",
     "text": [
      "3\n",
      "2\n"
     ]
    }
   ],
   "source": [
    "from itertools import combinations\n",
    "def solution(nums):\n",
    "    answer = []\n",
    "    n = (len(nums)+1)//2\n",
    "    ponketmon = list(combinations(nums,n))\n",
    "    one = []\n",
    "    for j in ponketmon:\n",
    "        if j[0] == j[1] or sorted(j) in one  :\n",
    "            pass\n",
    "        else:\n",
    "            one.append(sorted(j))\n",
    "            answer.append(len(set(j)))\n",
    "#     print(one)\n",
    "    return max(answer)\n",
    "print(solution([3,3,3,2,2,4]))\n",
    "print(solution([3,1,2,3]))"
   ]
  },
  {
   "cell_type": "code",
   "execution_count": 36,
   "metadata": {},
   "outputs": [
    {
     "name": "stdout",
     "output_type": "stream",
     "text": [
      "2\n",
      "2\n"
     ]
    }
   ],
   "source": [
    "from itertools import combinations\n",
    "def solution(nums):\n",
    "    answer = []\n",
    "    ponketmon = set(nums)\n",
    "    #print(ponketmon)\n",
    "    n = (len(nums)+1)//2\n",
    "    for i in range(n,0, -1):\n",
    "        if len(ponketmon) >= i:\n",
    "            return i\n",
    "\n",
    "print(solution([3,3,3,2,2,2]))\n",
    "print(solution([3,1,2,3]))"
   ]
  }
 ],
 "metadata": {
  "kernelspec": {
   "display_name": "Python 3",
   "language": "python",
   "name": "python3"
  },
  "language_info": {
   "codemirror_mode": {
    "name": "ipython",
    "version": 3
   },
   "file_extension": ".py",
   "mimetype": "text/x-python",
   "name": "python",
   "nbconvert_exporter": "python",
   "pygments_lexer": "ipython3",
   "version": "3.7.6"
  }
 },
 "nbformat": 4,
 "nbformat_minor": 4
}
