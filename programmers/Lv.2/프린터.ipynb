{
 "cells": [
  {
   "cell_type": "markdown",
   "metadata": {},
   "source": [
    "# 최종 성공 코드"
   ]
  },
  {
   "cell_type": "markdown",
   "metadata": {},
   "source": [
    "## steps\n",
    "\n",
    "1) 입력받은 리스트 priorities에서 첫 번째 element가 가장 큰 값인지 확인합니다.   \n",
    "2) 가장 큰 값이라면 출력(pop)하고 출력횟수(answer)증가시킵니다.  \n",
    "3) 처음 지정한 location이 0이라면, 출력횟수를 return합니다.   \n",
    "   처음 지정한 location이 음수라면, 남은 priorities의 길이만큼 더합니다.  \n",
    "   location 1빼서 위치 이동   \n",
    "\n",
    "   priorities에서 첫 번째 element가 가장 큰 값이 아니라면,     \n",
    "4) 맨 앞 element를 빼서 맨 뒤로 이동시킵니다.   \n",
    "5) 하나의 element를 뺐으므로 location도 -1 합니다.  \n",
    "   만약, location이 음수가 된다면, priorities의 길이만큼 더해줍니다.  \n",
    "'''\n",
    "반복\n",
    "'''\n",
    "\n",
    "answer 출력"
   ]
  },
  {
   "cell_type": "code",
   "execution_count": 19,
   "metadata": {},
   "outputs": [
    {
     "name": "stdout",
     "output_type": "stream",
     "text": [
      "3\n",
      "8\n"
     ]
    }
   ],
   "source": [
    "def solution(priorities, location):\n",
    "    answer = 0\n",
    "    while  True:\n",
    "        if priorities[0] == max(priorities):\n",
    "            priorities.pop(0)\n",
    "            answer +=1\n",
    "            if location == 0:\n",
    "                return answer\n",
    "            elif location < 0:\n",
    "                location += len(priorities)\n",
    "\n",
    "            location -=1 \n",
    "        \n",
    "        else:\n",
    "            priorities.append(priorities.pop(0))\n",
    "            location -= 1\n",
    "            if location < 0:\n",
    "                location += len(priorities)\n",
    "    return answer\n",
    "\n",
    "print(solution([2, 1, 3, 2], 0))\n",
    "print(solution([2, 1, 3, 2,6,5,2,2,7,9], 7))"
   ]
  },
  {
   "cell_type": "markdown",
   "metadata": {},
   "source": [
    "----\n",
    "- 칠전팔기"
   ]
  },
  {
   "cell_type": "markdown",
   "metadata": {},
   "source": [
    "# 실패 \n",
    "- 20점\n",
    "\n",
    "<문제점>\n",
    "\n",
    "- 제일 큰 수가 맨 앞에 왔을 경우 부터 몇 번째로 인쇄하는지 count했습니다. (문제 잘못이해했습니다.)\n",
    "- 제일 큰 수가 빠지고, 다음 큰 수 빠지는 로직입니다.\n",
    "- 따라서 처음 location의 숫자가 출력되는 순서 구해야합니다."
   ]
  },
  {
   "cell_type": "code",
   "execution_count": 13,
   "metadata": {},
   "outputs": [
    {
     "name": "stdout",
     "output_type": "stream",
     "text": [
      "7\n"
     ]
    }
   ],
   "source": [
    "def solution(priorities, location):\n",
    "    answer = 0\n",
    "\n",
    "    while  True:\n",
    "        #우선순위가 맨 앞에 오면 종료\n",
    "        if priorities[0] == max(priorities):\n",
    "            break\n",
    "        else:\n",
    "            # 우선순위 맨 앞에 올때까지 횟수 count, queue로 이동\n",
    "            priorities.append(priorities.pop(0))\n",
    "            answer +=1 \n",
    "            location -= 1\n",
    "    # 처음 location에서 이동한 위치 찾기 \n",
    "    if location >= 0:\n",
    "        answer = location+1\n",
    "    else :\n",
    "        answer = len(priorities) + location +1\n",
    "    return answer\n",
    "print(solution([2, 3, 1, 4, 5, 9, 6, 7], 3))\n"
   ]
  },
  {
   "cell_type": "markdown",
   "metadata": {},
   "source": [
    "# 실패 \n",
    "- 5점"
   ]
  },
  {
   "cell_type": "code",
   "execution_count": null,
   "metadata": {},
   "outputs": [],
   "source": [
    "def solution(priorities, location):\n",
    "    answer = 0\n",
    "\n",
    "    while  True:\n",
    "        #우선순위가 맨 앞에 오면 종료\n",
    "        if priorities[0] == max(priorities):\n",
    "            priorities.pop(0)\n",
    "            answer +=1\n",
    "            location -=1 \n",
    "\n",
    "            \n",
    "            if location < 0:\n",
    "                location += len(priorities)\n",
    "            if location == 0:\n",
    "                return answer\n",
    "        else:\n",
    "            # 우선순위 맨 앞에 올때까지 횟수 count, queue로 이동\n",
    "            priorities.append(priorities.pop(0))\n",
    "#             answer +=1 \n",
    "            location -= 1\n",
    "            \n",
    "            if location < 0:\n",
    "                location += len(priorities)\n",
    "    # 처음 location에서 이동한 위치 찾기 \n",
    "#     if location >= 0:\n",
    "#         answer = location+1\n",
    "#     else :\n",
    "#         answer = len(priorities) + location +1\n",
    "    return answer\n",
    "\n",
    "print(solution([2, 1, 3, 2], 3))\n"
   ]
  },
  {
   "cell_type": "markdown",
   "metadata": {},
   "source": [
    "# 성공"
   ]
  },
  {
   "cell_type": "code",
   "execution_count": 18,
   "metadata": {},
   "outputs": [
    {
     "name": "stdout",
     "output_type": "stream",
     "text": [
      "3\n",
      "8\n"
     ]
    }
   ],
   "source": [
    "def solution(priorities, location):\n",
    "    answer = 0\n",
    "\n",
    "    while  True:\n",
    "        #우선순위가 맨 앞에 오면 종료\n",
    "        if priorities[0] == max(priorities):\n",
    "            priorities.pop(0)\n",
    "            answer +=1\n",
    "\n",
    "\n",
    "            if location < 0:\n",
    "                location += len(priorities)\n",
    "            if location == 0:\n",
    "                return answer\n",
    "                \n",
    "            location -=1 \n",
    "        else:\n",
    "            # 우선순위 맨 앞에 올때까지 횟수 count, queue로 이동\n",
    "            priorities.append(priorities.pop(0))\n",
    "#             answer +=1 \n",
    "            location -= 1\n",
    "            \n",
    "            if location < 0:\n",
    "                location += len(priorities)\n",
    "    # 처음 location에서 이동한 위치 찾기 \n",
    "#     if location >= 0:\n",
    "#         answer = location+1\n",
    "#     else :\n",
    "#         answer = len(priorities) + location +1\n",
    "    return answer\n",
    "\n",
    "print(solution([2, 1, 3, 2], 0))\n",
    "\n",
    "print(solution([2, 1, 3, 2,6,5,2,2,7,9], 7))"
   ]
  },
  {
   "cell_type": "markdown",
   "metadata": {},
   "source": [
    "# 최종 코드"
   ]
  },
  {
   "cell_type": "code",
   "execution_count": null,
   "metadata": {},
   "outputs": [],
   "source": [
    "def solution(priorities, location):\n",
    "    answer = 0\n",
    "    while  True:\n",
    "        if priorities[0] == max(priorities):\n",
    "            priorities.pop(0)\n",
    "            answer +=1\n",
    "            if location < 0:\n",
    "                location += len(priorities)\n",
    "            if location == 0:\n",
    "                return answer\n",
    "            location -=1 \n",
    "        \n",
    "        else:\n",
    "            priorities.append(priorities.pop(0))\n",
    "            location -= 1\n",
    "            if location < 0:\n",
    "                location += len(priorities)\n",
    "    return answer\n",
    "\n",
    "print(solution([2, 1, 3, 2], 0))\n",
    "\n",
    "print(solution([2, 1, 3, 2,6,5,2,2,7,9], 7))"
   ]
  }
 ],
 "metadata": {
  "kernelspec": {
   "display_name": "Python 3",
   "language": "python",
   "name": "python3"
  },
  "language_info": {
   "codemirror_mode": {
    "name": "ipython",
    "version": 3
   },
   "file_extension": ".py",
   "mimetype": "text/x-python",
   "name": "python",
   "nbconvert_exporter": "python",
   "pygments_lexer": "ipython3",
   "version": "3.7.6"
  }
 },
 "nbformat": 4,
 "nbformat_minor": 4
}
