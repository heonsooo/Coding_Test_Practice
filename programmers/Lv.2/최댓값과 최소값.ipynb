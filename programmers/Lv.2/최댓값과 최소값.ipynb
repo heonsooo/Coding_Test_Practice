{
 "cells": [
  {
   "cell_type": "markdown",
   "metadata": {},
   "source": [
    "# 성공"
   ]
  },
  {
   "cell_type": "code",
   "execution_count": 64,
   "metadata": {},
   "outputs": [
    {
     "name": "stdout",
     "output_type": "stream",
     "text": [
      "-5 5\n",
      "-4 -1\n"
     ]
    }
   ],
   "source": [
    "def solution(s):\n",
    "    s= s.split()\n",
    "    plus , minus = [], []\n",
    "    for i in s:\n",
    "        if int(i) < 0:\n",
    "            minus.append(abs(int(i)))\n",
    "        else:\n",
    "            plus.append(int(i))\n",
    "\n",
    "    if len(plus) > 0 and len(minus) >0 :\n",
    "        answer = '-{} {}'.format(max(minus),max(plus))\n",
    "\n",
    "    elif len(plus) >0 and len(minus) ==0:\n",
    "        answer = '{} {}'.format(min(plus), max(plus))\n",
    "\n",
    "    elif len(plus) == 0 and len(minus) >0 :\n",
    "        answer = '-{} -{}'.format(max(minus), min(minus))\n",
    "\n",
    "    return answer\n",
    "\n",
    "print(solution('-1 2 -3 4 -5 5'))\n",
    "print(solution('-1 -2 -3 -4'))\n"
   ]
  },
  {
   "cell_type": "code",
   "execution_count": 63,
   "metadata": {},
   "outputs": [
    {
     "name": "stdout",
     "output_type": "stream",
     "text": [
      "-5 5\n",
      "-4 -1\n"
     ]
    }
   ],
   "source": [
    "def solution(s):\n",
    "    s= list(map(int,s.split()))\n",
    "    answer = str(min(s))+' '+str(max(s))\n",
    "    return answer\n",
    "\n",
    "print(solution('-1 2 -3 4 -5 5'))\n",
    "print(solution('-1 -2 -3 -4'))"
   ]
  },
  {
   "cell_type": "markdown",
   "metadata": {},
   "source": [
    "---"
   ]
  },
  {
   "cell_type": "code",
   "execution_count": 46,
   "metadata": {
    "scrolled": true
   },
   "outputs": [
    {
     "name": "stdout",
     "output_type": "stream",
     "text": [
      "11\n",
      "-4\n",
      "3\n",
      "[1, 2, 3] [4, 6]\n",
      "3 -6\n"
     ]
    }
   ],
   "source": [
    "s= '1 2 3 -4 -6'\n",
    "print(len(s))\n",
    "s= s.split()\n",
    "print(min(s))\n",
    "print(max(s))\n",
    "plus, minus = [],[]\n",
    "for i in s:\n",
    "    if int(i) < 0:\n",
    "        minus.append(abs(int(i)))\n",
    "    else:\n",
    "        plus.append(int(i))\n",
    "print(plus , minus)\n",
    "if len(plus) > 0 and len(minus) >0 :\n",
    "    answer = '{} -{}'.format(max(plus) ,max(minus))\n",
    "    print(answer)\n",
    "elif len(plus) >0 and len(minus) ==0:\n",
    "    answer = '{} {}'.format(max(plus) ,min(plus))\n",
    "    print(answer)\n",
    "elif len(plus) == 0 and len(minus) >0 :\n",
    "    answer = '-{} -{}'.format(min(minus) ,max(plus))\n",
    "    print(answer)"
   ]
  }
 ],
 "metadata": {
  "kernelspec": {
   "display_name": "Python 3",
   "language": "python",
   "name": "python3"
  },
  "language_info": {
   "codemirror_mode": {
    "name": "ipython",
    "version": 3
   },
   "file_extension": ".py",
   "mimetype": "text/x-python",
   "name": "python",
   "nbconvert_exporter": "python",
   "pygments_lexer": "ipython3",
   "version": "3.7.6"
  }
 },
 "nbformat": 4,
 "nbformat_minor": 4
}
