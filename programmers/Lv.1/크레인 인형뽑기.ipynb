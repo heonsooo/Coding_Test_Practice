{
 "cells": [
  {
   "cell_type": "markdown",
   "metadata": {},
   "source": [
    "# 성공\n",
    "- stack사용\n",
    "- y : moves의 값에 -1을 한 값(index 맞추기위해)\n",
    "- for문을 통해 y번 위치의 맨위(i번째)의 인형(숫자)를 꺼냅니다.\n",
    "- stack이 비어있다면 인형을 바로 넣어줍니다.\n",
    "- stack이 비어있지 않고, 가장 위 인형과 현재 인형이 같으면, 인형2개를 뺍니다. (answer+=2)\n",
    "- stack이 비어있지 않고, 가장 위 인형과 현재 인형이 다르다면, 인형을 넣어줍니다.\n",
    "- 이 과정이 끝나면 특정 위치의 인형은 0으로 만들고, break를 통해 다시 moves를 진행합니다."
   ]
  },
  {
   "cell_type": "code",
   "execution_count": null,
   "metadata": {},
   "outputs": [],
   "source": [
    "def solution(board, moves):\n",
    "    stack = []\n",
    "    answer = 0\n",
    "    while moves:\n",
    "        y = moves.pop(0)-1\n",
    "        for i in range(len(board)):\n",
    "            if board[i][y] != 0:\n",
    "                \n",
    "                \n",
    "                if len(stack) ==0:\n",
    "                    stack.append(board[i][y])\n",
    "                else:\n",
    "                    if stack[-1] == board[i][y]:\n",
    "                        stack.pop()\n",
    "                        answer+=2\n",
    "                    else:\n",
    "                        stack.append(board[i][y])\n",
    "                board[i][y] = 0\n",
    "                break\n",
    "\n",
    "    return answer"
   ]
  }
 ],
 "metadata": {
  "kernelspec": {
   "display_name": "Python 3",
   "language": "python",
   "name": "python3"
  },
  "language_info": {
   "codemirror_mode": {
    "name": "ipython",
    "version": 3
   },
   "file_extension": ".py",
   "mimetype": "text/x-python",
   "name": "python",
   "nbconvert_exporter": "python",
   "pygments_lexer": "ipython3",
   "version": "3.7.6"
  }
 },
 "nbformat": 4,
 "nbformat_minor": 4
}
