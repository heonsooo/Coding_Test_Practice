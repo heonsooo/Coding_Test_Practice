{
 "cells": [
  {
   "cell_type": "markdown",
   "metadata": {},
   "source": [
    "# 최종 제출"
   ]
  },
  {
   "cell_type": "code",
   "execution_count": 56,
   "metadata": {},
   "outputs": [
    {
     "name": "stdout",
     "output_type": "stream",
     "text": [
      "E i D\n"
     ]
    }
   ],
   "source": [
    "def solution(s, n):\n",
    "    answer = ''\n",
    "    \n",
    "    # z 넘어가면 경우의 수가 많아지므로 정규화 처리 위해서 대문자 소문자 리스트 생성   \n",
    "    Alpha = [ chr(i+65) for i in range(26)]\n",
    "    alpha = [ chr(i+97) for i in range(26)]\n",
    "    \n",
    "    for i in s:\n",
    "        \n",
    "        # 알파벳일때만 n 더하기 \n",
    "        if 97<= ord(i)<= 122 or  65<=ord(i) <=90 :\n",
    "\n",
    "            # 소문자일때 ,\n",
    "            if 97<= ord(i)<= 122 :\n",
    "                answer += alpha[(ord(i)+n-97)%26]\n",
    "            \n",
    "            # 대문자일때 ,\n",
    "            elif 65<=ord(i) <=90:\n",
    "                answer += Alpha[(ord(i)+n-65)%26]\n",
    "            \n",
    "        # 알파벳 없다면, 문자 자체 덧셈처리\n",
    "        else :\n",
    "            answer += i\n",
    "            \n",
    "    return answer\n",
    "\n",
    "print(solution('A e Z' , 4))"
   ]
  },
  {
   "cell_type": "code",
   "execution_count": null,
   "metadata": {},
   "outputs": [],
   "source": []
  }
 ],
 "metadata": {
  "kernelspec": {
   "display_name": "Python 3",
   "language": "python",
   "name": "python3"
  },
  "language_info": {
   "codemirror_mode": {
    "name": "ipython",
    "version": 3
   },
   "file_extension": ".py",
   "mimetype": "text/x-python",
   "name": "python",
   "nbconvert_exporter": "python",
   "pygments_lexer": "ipython3",
   "version": "3.7.6"
  }
 },
 "nbformat": 4,
 "nbformat_minor": 4
}
