{
 "cells": [
  {
   "cell_type": "markdown",
   "metadata": {},
   "source": [
    "# 실패율\n",
    "\n",
    "stages : 각 사람이 멈춰있는 곳, 다시 말해서 실패한 곳  \n",
    "N : 전체 스테이지 개수  \n",
    "stages 는 1부터 N+1 까지 존재,   \n",
    "N+1 스테이지는 엔딩 본것   \n",
    "  \n",
    "answer = stages 가장 많은 것 내림차순, 같을 경우에는 앞 번호 부터   "
   ]
  },
  {
   "cell_type": "code",
   "execution_count": 150,
   "metadata": {},
   "outputs": [
    {
     "name": "stdout",
     "output_type": "stream",
     "text": [
      "[(2, 3), (3, 2), (1, 1), (4, 1), (6, 1)]\n"
     ]
    }
   ],
   "source": [
    "def solution(N, stages):\n",
    "    # 내림차순으로 정렬하기 위해\n",
    "    stages.sort()\n",
    "    \n",
    "    answer = []\n",
    "    stage = set(stages)\n",
    "    for i in stage:\n",
    "        answer.append((i , stages.count(i)))\n",
    "    \n",
    "    answer.sort(key = lambda x:x[1], reverse = True)\n",
    "\n",
    "    return answer\n",
    "print(solution(5, [2, 1, 2, 6, 2, 4, 3, 3]))"
   ]
  },
  {
   "cell_type": "code",
   "execution_count": 152,
   "metadata": {},
   "outputs": [
    {
     "name": "stdout",
     "output_type": "stream",
     "text": [
      "[('6', 700), ('2', 500), ('78', 157)]\n",
      "[6, 57, 78]\n"
     ]
    }
   ],
   "source": [
    "a =  [ ]\n",
    "b = [78,6,57,78]\n",
    "a. append(('78', 157))\n",
    "a .append(('2',500))\n",
    "a .append(('6',700))\n",
    "a.sort(key = lambda x:x[1], reverse = True)\n",
    "\n",
    "print(a)\n",
    "b.remove(78)\n",
    "print(b)"
   ]
  },
  {
   "cell_type": "markdown",
   "metadata": {},
   "source": [
    "## 런타임에러 발생 \n",
    "- (70.4점)\n",
    "\n",
    "문제점 \n",
    "#1 실패율 구한 특정 스테이지를 모두 제거했기때문에 stages 리스트의 길이가 0이된다.\n",
    "#2 이로인해 N까지 스테이지(실패율 = 0)를 구할 수 없게된다. "
   ]
  },
  {
   "cell_type": "code",
   "execution_count": 156,
   "metadata": {},
   "outputs": [
    {
     "name": "stdout",
     "output_type": "stream",
     "text": [
      "[8, 7, 6, 4, 2, 1, 3, 5, 9, 10, 11, 12, 13, 14, 15, 16, 17, 18, 19, 20]\n"
     ]
    },
    {
     "ename": "ZeroDivisionError",
     "evalue": "division by zero",
     "output_type": "error",
     "traceback": [
      "\u001b[1;31m---------------------------------------------------------------------------\u001b[0m",
      "\u001b[1;31mZeroDivisionError\u001b[0m                         Traceback (most recent call last)",
      "\u001b[1;32m<ipython-input-156-3f8b633a6a59>\u001b[0m in \u001b[0;36m<module>\u001b[1;34m\u001b[0m\n\u001b[0;32m     22\u001b[0m     \u001b[1;32mreturn\u001b[0m \u001b[0mresult\u001b[0m\u001b[1;33m\u001b[0m\u001b[1;33m\u001b[0m\u001b[0m\n\u001b[0;32m     23\u001b[0m \u001b[0mprint\u001b[0m\u001b[1;33m(\u001b[0m\u001b[0msolution\u001b[0m\u001b[1;33m(\u001b[0m\u001b[1;36m20\u001b[0m\u001b[1;33m,\u001b[0m \u001b[1;33m[\u001b[0m\u001b[1;36m2\u001b[0m\u001b[1;33m,\u001b[0m\u001b[1;36m1\u001b[0m\u001b[1;33m,\u001b[0m\u001b[1;36m4\u001b[0m\u001b[1;33m,\u001b[0m\u001b[1;36m7\u001b[0m\u001b[1;33m,\u001b[0m\u001b[1;36m8\u001b[0m\u001b[1;33m,\u001b[0m\u001b[1;36m6\u001b[0m\u001b[1;33m,\u001b[0m\u001b[1;36m21\u001b[0m\u001b[1;33m]\u001b[0m\u001b[1;33m)\u001b[0m\u001b[1;33m)\u001b[0m\u001b[1;33m\u001b[0m\u001b[1;33m\u001b[0m\u001b[0m\n\u001b[1;32m---> 24\u001b[1;33m \u001b[0mprint\u001b[0m\u001b[1;33m(\u001b[0m\u001b[0msolution\u001b[0m\u001b[1;33m(\u001b[0m\u001b[1;36m20\u001b[0m\u001b[1;33m,\u001b[0m \u001b[1;33m[\u001b[0m\u001b[1;36m1\u001b[0m\u001b[1;33m,\u001b[0m\u001b[1;36m2\u001b[0m\u001b[1;33m,\u001b[0m\u001b[1;36m2\u001b[0m\u001b[1;33m,\u001b[0m\u001b[1;36m1\u001b[0m\u001b[1;33m,\u001b[0m\u001b[1;36m3\u001b[0m\u001b[1;33m]\u001b[0m\u001b[1;33m)\u001b[0m\u001b[1;33m)\u001b[0m\u001b[1;33m\u001b[0m\u001b[1;33m\u001b[0m\u001b[0m\n\u001b[0m",
      "\u001b[1;32m<ipython-input-156-3f8b633a6a59>\u001b[0m in \u001b[0;36msolution\u001b[1;34m(N, stages)\u001b[0m\n\u001b[0;32m      9\u001b[0m         \u001b[1;32mif\u001b[0m \u001b[0mi\u001b[0m \u001b[1;33m==\u001b[0m \u001b[0mN\u001b[0m\u001b[1;33m+\u001b[0m\u001b[1;36m1\u001b[0m\u001b[1;33m:\u001b[0m\u001b[1;33m\u001b[0m\u001b[1;33m\u001b[0m\u001b[0m\n\u001b[0;32m     10\u001b[0m             \u001b[1;32mbreak\u001b[0m\u001b[1;33m\u001b[0m\u001b[1;33m\u001b[0m\u001b[0m\n\u001b[1;32m---> 11\u001b[1;33m         \u001b[0mfailure\u001b[0m \u001b[1;33m=\u001b[0m \u001b[0mstages\u001b[0m\u001b[1;33m.\u001b[0m\u001b[0mcount\u001b[0m\u001b[1;33m(\u001b[0m\u001b[0mi\u001b[0m\u001b[1;33m)\u001b[0m\u001b[1;33m/\u001b[0m\u001b[0mlen\u001b[0m\u001b[1;33m(\u001b[0m\u001b[0mstages\u001b[0m\u001b[1;33m)\u001b[0m\u001b[1;33m\u001b[0m\u001b[1;33m\u001b[0m\u001b[0m\n\u001b[0m\u001b[0;32m     12\u001b[0m         \u001b[0manswer\u001b[0m\u001b[1;33m.\u001b[0m\u001b[0mappend\u001b[0m\u001b[1;33m(\u001b[0m\u001b[1;33m(\u001b[0m\u001b[0mi\u001b[0m \u001b[1;33m,\u001b[0m \u001b[0mfailure\u001b[0m\u001b[1;33m)\u001b[0m\u001b[1;33m)\u001b[0m\u001b[1;33m\u001b[0m\u001b[1;33m\u001b[0m\u001b[0m\n\u001b[0;32m     13\u001b[0m \u001b[1;33m\u001b[0m\u001b[0m\n",
      "\u001b[1;31mZeroDivisionError\u001b[0m: division by zero"
     ]
    }
   ],
   "source": [
    "def solution(N, stages):\n",
    "    \n",
    "    # 내림차순으로 정렬하기 위해\n",
    "    stages.sort()\n",
    "    \n",
    "    answer = []\n",
    "    \n",
    "    for i in range(1,N+1):\n",
    "        if i == N+1:\n",
    "            break\n",
    "        failure = stages.count(i)/len(stages)\n",
    "        answer.append((i , failure))\n",
    "        \n",
    "        while i in stages:\n",
    "            stages.remove(i)\n",
    "\n",
    "        \n",
    "    result = []\n",
    "    answer.sort(key = lambda x:x[1], reverse = True)\n",
    "    for j in answer:\n",
    "        result.append(j[0])\n",
    "    return result\n",
    "print(solution(20, [2,1,4,7,8,6,21]))\n",
    "print(solution(20, [1,2,2,1,3]))"
   ]
  },
  {
   "cell_type": "markdown",
   "metadata": {},
   "source": [
    "# 실패 \n",
    "- (70.4점) \n",
    "- stages 길이가 0이되어 실패율 구할때 생기는  'division by zero' 런타임에러는 수정\n",
    "\n",
    "문제점\n",
    "#1 len(stages) 가 0이 되면 break 사용하였는데, 이는 런타임에러만 보완하는 미봉책임\n",
    "#2 따라서 N까지의 스테이지를 return 하지못함"
   ]
  },
  {
   "cell_type": "code",
   "execution_count": 157,
   "metadata": {},
   "outputs": [
    {
     "name": "stdout",
     "output_type": "stream",
     "text": [
      "[4, 1, 2, 3]\n",
      "[3, 2, 1]\n"
     ]
    }
   ],
   "source": [
    "def solution(N, stages):\n",
    "    \n",
    "    # 내림차순으로 정렬하기 위해\n",
    "    stages.sort()\n",
    "    \n",
    "    answer = []\n",
    "    \n",
    "    for i in range(1,N+1):\n",
    "        # \n",
    "        if i == N+1 or len(stages) ==0:  \n",
    "            break\n",
    "            \n",
    "        failure = stages.count(i)/len(stages)\n",
    "        answer.append((i , failure))\n",
    "        \n",
    "        # 특정 stage 제거\n",
    "        while i in stages:\n",
    "            stages.remove(i)\n",
    "\n",
    "        \n",
    "    result = []\n",
    "    answer.sort(key = lambda x:x[1], reverse = True)\n",
    "    for j in answer:\n",
    "        result.append(j[0])\n",
    "    return result\n",
    "print(solution(5, [4,4,4,4,4]))\n",
    "\n",
    "print(solution(20, [1,2,2,1,3]))"
   ]
  },
  {
   "cell_type": "markdown",
   "metadata": {},
   "source": [
    "# 실패 \n",
    "- (74.1점)\n",
    "\n",
    "#### [수정]\n",
    "#1 stages길이가 0이면, 그 스테이지도 추가하도록 설정\n",
    "\n",
    "#### [문제점] \n",
    "#1 테스트케이스를 보고 len(stages) 가 0일때 한번만 추가하도록 설정하였음.\n",
    "#2 N이 stages의 최대값보다 1보다 더 크면 ( N- stages 최댓값 )의 개수 만큼 stage는 생략됨"
   ]
  },
  {
   "cell_type": "code",
   "execution_count": 161,
   "metadata": {},
   "outputs": [
    {
     "name": "stdout",
     "output_type": "stream",
     "text": [
      "[3, 2, 1, 4]\n",
      "[3, 2, 1, 4]\n"
     ]
    }
   ],
   "source": [
    "def solution(N, stages):\n",
    "    \n",
    "    # 내림차순으로 정렬하기 위해\n",
    "    stages.sort()\n",
    "    \n",
    "    # 특정 스테이지와 실패율 담는 튜플리스트 \n",
    "    answer = []\n",
    "    \n",
    "    for i in range(1,N+1):\n",
    "\n",
    "        if i == N+1:  \n",
    "            break\n",
    "        elif len(stages) == 0:\n",
    "            answer.append((i,0))\n",
    "            break\n",
    "            \n",
    "        failure = (stages.count(i)/len(stages))\n",
    "        answer.append((i , failure))\n",
    "        \n",
    "        # 해당 stage 제거\n",
    "        while i in stages:\n",
    "            stages.remove(i)\n",
    "\n",
    "        \n",
    "    result = []\n",
    "    answer.sort(key = lambda x:x[1], reverse = True)\n",
    "    for j in answer:\n",
    "        result.append(j[0])\n",
    "\n",
    "    return result\n",
    "\n",
    "\n",
    "print(solution(5, [1,2,2,1,3]))\n",
    "\n",
    "print(solution(20, [1,2,2,1,3]))"
   ]
  },
  {
   "cell_type": "markdown",
   "metadata": {},
   "source": [
    "# 성공\n",
    "\n",
    "#### [수정]\n",
    "#1 len(stages)가 0이 되어도 N까지 stage출력하도록 설정"
   ]
  },
  {
   "cell_type": "code",
   "execution_count": 162,
   "metadata": {},
   "outputs": [
    {
     "name": "stdout",
     "output_type": "stream",
     "text": [
      "[3, 2, 1, 4, 5]\n",
      "[3, 2, 1, 4, 5, 6, 7, 8, 9, 10, 11, 12, 13, 14, 15, 16, 17, 18, 19, 20]\n"
     ]
    }
   ],
   "source": [
    "def solution(N, stages):\n",
    "    \n",
    "    # 내림차순으로 정렬하기 위해\n",
    "    stages.sort()\n",
    "    \n",
    "    # 특정 스테이지와 실패율 담는 튜플리스트 \n",
    "    answer = []\n",
    "    \n",
    "    for i in range(1,N+1):\n",
    "\n",
    "        if len(stages) == 0:\n",
    "            answer.append((i,0))\n",
    "               \n",
    "        else:\n",
    "            failure = (stages.count(i)/len(stages))\n",
    "            answer.append((i , failure))\n",
    "        \n",
    "            # 해당 stage 제거\n",
    "            while i in stages:\n",
    "                stages.remove(i)\n",
    "\n",
    "        \n",
    "    result = []\n",
    "    answer.sort(key = lambda x:x[1], reverse = True)\n",
    "    for j in answer:\n",
    "        result.append(j[0])\n",
    "\n",
    "    return result\n",
    "\n",
    "\n",
    "print(solution(5, [1,2,2,1,3]))\n",
    "\n",
    "print(solution(20, [1,2,2,1,3]))"
   ]
  }
 ],
 "metadata": {
  "kernelspec": {
   "display_name": "Python 3",
   "language": "python",
   "name": "python3"
  },
  "language_info": {
   "codemirror_mode": {
    "name": "ipython",
    "version": 3
   },
   "file_extension": ".py",
   "mimetype": "text/x-python",
   "name": "python",
   "nbconvert_exporter": "python",
   "pygments_lexer": "ipython3",
   "version": "3.7.6"
  }
 },
 "nbformat": 4,
 "nbformat_minor": 4
}
