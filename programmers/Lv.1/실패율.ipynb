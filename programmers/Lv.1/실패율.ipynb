{
 "cells": [
  {
   "cell_type": "markdown",
   "metadata": {},
   "source": [
    "# 실패율\n",
    "\n",
    "stages : 각 사람이 멈춰있는 곳, 다시 말해서 실패한 곳  \n",
    "N : 전체 스테이지 개수  \n",
    "stages 는 1부터 N+1 까지 존재,   \n",
    "N+1 스테이지는 엔딩 본것   \n",
    "  \n",
    "answer = stages 가장 많은 것 내림차순, 같을 경우에는 앞 번호 부터   "
   ]
  },
  {
   "cell_type": "code",
   "execution_count": 150,
   "metadata": {},
   "outputs": [
    {
     "name": "stdout",
     "output_type": "stream",
     "text": [
      "[(2, 3), (3, 2), (1, 1), (4, 1), (6, 1)]\n"
     ]
    }
   ],
   "source": [
    "def solution(N, stages):\n",
    "    # 내림차순으로 정렬하기 위해\n",
    "    stages.sort()\n",
    "    \n",
    "    answer = []\n",
    "    stage = set(stages)\n",
    "    for i in stage:\n",
    "        answer.append((i , stages.count(i)))\n",
    "    \n",
    "    answer.sort(key = lambda x:x[1], reverse = True)\n",
    "\n",
    "    return answer\n",
    "print(solution(5, [2, 1, 2, 6, 2, 4, 3, 3]))"
   ]
  },
  {
   "cell_type": "code",
   "execution_count": 152,
   "metadata": {},
   "outputs": [
    {
     "name": "stdout",
     "output_type": "stream",
     "text": [
      "[('6', 700), ('2', 500), ('78', 157)]\n",
      "[6, 57, 78]\n"
     ]
    }
   ],
   "source": [
    "a =  [ ]\n",
    "b = [78,6,57,78]\n",
    "a. append(('78', 157))\n",
    "a .append(('2',500))\n",
    "a .append(('6',700))\n",
    "a.sort(key = lambda x:x[1], reverse = True)\n",
    "\n",
    "print(a)\n",
    "b.remove(78)\n",
    "print(b)"
   ]
  },
  {
   "cell_type": "markdown",
   "metadata": {},
   "source": [
    "## 런타임에러 발생 (70.4점)"
   ]
  },
  {
   "cell_type": "code",
   "execution_count": 104,
   "metadata": {},
   "outputs": [
    {
     "name": "stdout",
     "output_type": "stream",
     "text": [
      "[8, 7, 6, 4, 2, 1, 3, 5, 9, 10, 11, 12, 13, 14, 15, 16, 17, 18, 19, 20]\n"
     ]
    }
   ],
   "source": [
    "def solution(N, stages):\n",
    "    \n",
    "    # 내림차순으로 정렬하기 위해\n",
    "    stages.sort()\n",
    "    \n",
    "    answer = []\n",
    "    \n",
    "    for i in range(1,N+1):\n",
    "        if i == N+1:\n",
    "            break\n",
    "        failure = stages.count(i)/len(stages)\n",
    "        answer.append((i , failure))\n",
    "        \n",
    "        while i in stages:\n",
    "            stages.remove(i)\n",
    "\n",
    "        \n",
    "    result = []\n",
    "    answer.sort(key = lambda x:x[1], reverse = True)\n",
    "    for j in answer:\n",
    "        result.append(j[0])\n",
    "    return result\n",
    "print(solution(20, [2,1,4,7,8,6,21]))"
   ]
  },
  {
   "cell_type": "markdown",
   "metadata": {},
   "source": [
    "# 실패 (70.4점) \n",
    "- 런타임에러는 수정"
   ]
  },
  {
   "cell_type": "code",
   "execution_count": 114,
   "metadata": {},
   "outputs": [
    {
     "name": "stdout",
     "output_type": "stream",
     "text": [
      "[378, 321, 124, 87, 86, 77, 71, 41, 21, 1, 2, 3, 4, 5, 6, 7, 8, 9, 10, 11, 12, 13, 14, 15, 16, 17, 18, 19, 20, 22, 23, 24, 25, 26, 27, 28, 29, 30, 31, 32, 33, 34, 35, 36, 37, 38, 39, 40, 42, 43, 44, 45, 46, 47, 48, 49, 50, 51, 52, 53, 54, 55, 56, 57, 58, 59, 60, 61, 62, 63, 64, 65, 66, 67, 68, 69, 70, 72, 73, 74, 75, 76, 78, 79, 80, 81, 82, 83, 84, 85, 88, 89, 90, 91, 92, 93, 94, 95, 96, 97, 98, 99, 100, 101, 102, 103, 104, 105, 106, 107, 108, 109, 110, 111, 112, 113, 114, 115, 116, 117, 118, 119, 120, 121, 122, 123, 125, 126, 127, 128, 129, 130, 131, 132, 133, 134, 135, 136, 137, 138, 139, 140, 141, 142, 143, 144, 145, 146, 147, 148, 149, 150, 151, 152, 153, 154, 155, 156, 157, 158, 159, 160, 161, 162, 163, 164, 165, 166, 167, 168, 169, 170, 171, 172, 173, 174, 175, 176, 177, 178, 179, 180, 181, 182, 183, 184, 185, 186, 187, 188, 189, 190, 191, 192, 193, 194, 195, 196, 197, 198, 199, 200, 201, 202, 203, 204, 205, 206, 207, 208, 209, 210, 211, 212, 213, 214, 215, 216, 217, 218, 219, 220, 221, 222, 223, 224, 225, 226, 227, 228, 229, 230, 231, 232, 233, 234, 235, 236, 237, 238, 239, 240, 241, 242, 243, 244, 245, 246, 247, 248, 249, 250, 251, 252, 253, 254, 255, 256, 257, 258, 259, 260, 261, 262, 263, 264, 265, 266, 267, 268, 269, 270, 271, 272, 273, 274, 275, 276, 277, 278, 279, 280, 281, 282, 283, 284, 285, 286, 287, 288, 289, 290, 291, 292, 293, 294, 295, 296, 297, 298, 299, 300, 301, 302, 303, 304, 305, 306, 307, 308, 309, 310, 311, 312, 313, 314, 315, 316, 317, 318, 319, 320, 322, 323, 324, 325, 326, 327, 328, 329, 330, 331, 332, 333, 334, 335, 336, 337, 338, 339, 340, 341, 342, 343, 344, 345, 346, 347, 348, 349, 350, 351, 352, 353, 354, 355, 356, 357, 358, 359, 360, 361, 362, 363, 364, 365, 366, 367, 368, 369, 370, 371, 372, 373, 374, 375, 376, 377]\n"
     ]
    }
   ],
   "source": [
    "def solution(N, stages):\n",
    "    \n",
    "    # 내림차순으로 정렬하기 위해\n",
    "    stages.sort()\n",
    "    \n",
    "    answer = []\n",
    "    \n",
    "    for i in range(1,N+1):\n",
    "        # \n",
    "        if i == N+1 or len(stages) ==0:  \n",
    "            break\n",
    "            \n",
    "        failure = stages.count(i)/len(stages)\n",
    "        answer.append((i , failure))\n",
    "        \n",
    "        # 특정 stage 제거\n",
    "        while i in stages:\n",
    "            stages.remove(i)\n",
    "\n",
    "        \n",
    "    result = []\n",
    "    answer.sort(key = lambda x:x[1], reverse = True)\n",
    "    for j in answer:\n",
    "        result.append(j[0])\n",
    "    return result\n",
    "print(solution(5, [4,4,4,4,4]))"
   ]
  },
  {
   "cell_type": "markdown",
   "metadata": {},
   "source": [
    "# 실패 (74.1)"
   ]
  },
  {
   "cell_type": "code",
   "execution_count": 149,
   "metadata": {},
   "outputs": [
    {
     "name": "stdout",
     "output_type": "stream",
     "text": [
      "[(3, 1.0), (2, 0.6666666666666666), (1, 0.4), (4, 0)]\n",
      "[3, 2, 1, 4]\n"
     ]
    }
   ],
   "source": [
    "def solution(N, stages):\n",
    "    \n",
    "    # 내림차순으로 정렬하기 위해\n",
    "    stages.sort()\n",
    "    \n",
    "    # 특정 스테이지와 실패율 담는 튜플리스트 \n",
    "    answer = []\n",
    "    \n",
    "    for i in range(1,N+1):\n",
    "\n",
    "        if i == N+1:  \n",
    "            break\n",
    "        elif len(stages) == 0:\n",
    "            answer.append((i,0))\n",
    "            break\n",
    "            \n",
    "        failure = (stages.count(i)/len(stages))\n",
    "        answer.append((i , failure))\n",
    "        \n",
    "        # 해당 stage 제거\n",
    "        while i in stages:\n",
    "            stages.remove(i)\n",
    "\n",
    "        \n",
    "    result = []\n",
    "    answer.sort(key = lambda x:x[1], reverse = True)\n",
    "    for j in answer:\n",
    "        result.append(j[0])\n",
    "    print(answer)\n",
    "    return result\n",
    "\n",
    "\n",
    "print(solution(5, [1,2,2,1,3]))"
   ]
  },
  {
   "cell_type": "markdown",
   "metadata": {},
   "source": [
    "# 성공"
   ]
  },
  {
   "cell_type": "code",
   "execution_count": null,
   "metadata": {},
   "outputs": [],
   "source": [
    "def solution(N, stages):\n",
    "    \n",
    "    # 내림차순으로 정렬하기 위해\n",
    "    stages.sort()\n",
    "    \n",
    "    # 특정 스테이지와 실패율 담는 튜플리스트 \n",
    "    answer = []\n",
    "    \n",
    "    for i in range(1,N+1):\n",
    "\n",
    "        if i == N+1:  \n",
    "            break\n",
    "        elif len(stages) == 0:\n",
    "            answer.append((i,0))\n",
    "            \n",
    "            \n",
    "        else:\n",
    "            failure = (stages.count(i)/len(stages))\n",
    "            answer.append((i , failure))\n",
    "        \n",
    "            # 해당 stage 제거\n",
    "            while i in stages:\n",
    "                stages.remove(i)\n",
    "\n",
    "        \n",
    "    result = []\n",
    "    answer.sort(key = lambda x:x[1], reverse = True)\n",
    "    for j in answer:\n",
    "        result.append(j[0])\n",
    "    print(answer)\n",
    "    return result\n",
    "\n",
    "\n",
    "print(solution(5, [1,2,2,1,3]))"
   ]
  }
 ],
 "metadata": {
  "kernelspec": {
   "display_name": "Python 3",
   "language": "python",
   "name": "python3"
  },
  "language_info": {
   "codemirror_mode": {
    "name": "ipython",
    "version": 3
   },
   "file_extension": ".py",
   "mimetype": "text/x-python",
   "name": "python",
   "nbconvert_exporter": "python",
   "pygments_lexer": "ipython3",
   "version": "3.7.6"
  }
 },
 "nbformat": 4,
 "nbformat_minor": 4
}
