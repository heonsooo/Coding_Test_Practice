{
 "cells": [
  {
   "cell_type": "markdown",
   "metadata": {},
   "source": [
    "배열을 정렬하는 것은 쉽다.  \n",
    "수가 주어지면, 그 수의 각 자리수를 내림차순으로 정렬해보자.  \n",
    "\n",
    "1) 입력을 받은 값을 바로 정렬해서 list로 표현합니다.   \n",
    "2) for 문으로 하나씩 출력하면서  \n",
    "   end = '' 을 사용하여 붙여서 표현했습니다 !\n"
   ]
  },
  {
   "cell_type": "code",
   "execution_count": 13,
   "metadata": {},
   "outputs": [
    {
     "name": "stdout",
     "output_type": "stream",
     "text": [
      "621319987953213\n",
      "999876533322111"
     ]
    }
   ],
   "source": [
    "num = sorted(input(), reverse= True)\n",
    "\n",
    "for i in num:\n",
    "    print(i, end='')"
   ]
  }
 ],
 "metadata": {
  "kernelspec": {
   "display_name": "Python 3",
   "language": "python",
   "name": "python3"
  },
  "language_info": {
   "codemirror_mode": {
    "name": "ipython",
    "version": 3
   },
   "file_extension": ".py",
   "mimetype": "text/x-python",
   "name": "python",
   "nbconvert_exporter": "python",
   "pygments_lexer": "ipython3",
   "version": "3.7.6"
  }
 },
 "nbformat": 4,
 "nbformat_minor": 4
}
