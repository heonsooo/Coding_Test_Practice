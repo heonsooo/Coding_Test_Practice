{
 "cells": [
  {
   "cell_type": "markdown",
   "metadata": {},
   "source": [
    "#### 접미사배열\n",
    "\n",
    "- 문자열 S가 주어진다.  \n",
    "- 앞에서부터 하나씩 단어를 빼주며 새로운 단어를 만듭니다.\n",
    "- 만들어진 단어들을 사전순으로 출력합니다.\n",
    "  \n",
    "[solution]  \n",
    "1) 문자열 s를 입력받습니다.  \n",
    "2) 입력받은 문자열 s의 맨 앞에서부터 한 글자씩 빼가며 리스트로 만듭니다.  \n",
    "3) 만들어진 리스트를 정렬합니다.  \n",
    "4) 완성!  "
   ]
  },
  {
   "cell_type": "code",
   "execution_count": 26,
   "metadata": {},
   "outputs": [
    {
     "name": "stdout",
     "output_type": "stream",
     "text": [
      "baekjoon\n",
      "['baekjoon', 'aekjoon', 'ekjoon', 'kjoon', 'joon', 'oon', 'on', 'n']\n",
      "['aekjoon', 'baekjoon', 'ekjoon', 'joon', 'kjoon', 'n', 'on', 'oon']\n"
     ]
    }
   ],
   "source": [
    "s = input()\n",
    "answer = []\n",
    "for i in range(len(s)):\n",
    "    answer.append(s[i:])\n",
    "print(answer)\n",
    "\n",
    "answer = sorted(answer)\n",
    "print(answer)\n",
    "\n",
    "\n",
    "[input] = baekjoon"
   ]
  },
  {
   "cell_type": "markdown",
   "metadata": {},
   "source": [
    "이때 answer는 리스트 컴프리헨션으로 짧게 작성이 가능합니다!\n",
    "  \n",
    "그리고 백준은 한 줄씩 출력해야 하는걸 유의하세요!  \n"
   ]
  },
  {
   "cell_type": "code",
   "execution_count": 25,
   "metadata": {},
   "outputs": [
    {
     "name": "stdout",
     "output_type": "stream",
     "text": [
      "baekjoon\n",
      "aekjoon\n",
      "baekjoon\n",
      "ekjoon\n",
      "joon\n",
      "kjoon\n",
      "n\n",
      "on\n",
      "oon\n"
     ]
    }
   ],
   "source": [
    "s = input()\n",
    "answer = sorted([s[i:] for i in range(len(s))])\n",
    "for j in answer:\n",
    "    print(j)"
   ]
  }
 ],
 "metadata": {
  "kernelspec": {
   "display_name": "Python 3",
   "language": "python",
   "name": "python3"
  },
  "language_info": {
   "codemirror_mode": {
    "name": "ipython",
    "version": 3
   },
   "file_extension": ".py",
   "mimetype": "text/x-python",
   "name": "python",
   "nbconvert_exporter": "python",
   "pygments_lexer": "ipython3",
   "version": "3.7.6"
  }
 },
 "nbformat": 4,
 "nbformat_minor": 4
}
