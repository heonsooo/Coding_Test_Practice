{
 "cells": [
  {
   "cell_type": "markdown",
   "metadata": {},
   "source": [
    "N개의 정수가 주어진다.  \n",
    "이때, N개의 정수를 오름차순으로 정렬하는 프로그램을 작성하시오.  \n",
    "같은 정수는 한 번만 출력한다.  \n"
   ]
  },
  {
   "cell_type": "markdown",
   "metadata": {},
   "source": [
    "---- \n",
    "1) N개의 정수를 N에 받습니다. ( 이게 쓰이는지 의문입니다.)  \n",
    "  \n",
    "2) 스페이스 간격으로 입력받는 수를 split을 통해 nums에 저장합니다.   \n",
    "   -> 이때 split을 사용하면, 리스트로 저장됩니다!  \n",
    "     \n",
    "3) 입력받은 nums 를 오름차순으로 정렬하기 위해 sorted를 사용합니다.  \n",
    "   -> 이때, split되면서 정수가 문자형으로 바뀌었기 때문에 정수형으로 다시 바꿉니다.  \n",
    "  \n",
    "4) nums(입력받은 값의 리스트)의 길이 만큼 반복하면서 새로운 리스트 num(중복 없는 정렬)에 추가합니다.   \n",
    "   -> 이때, 중복된게 있으면 pass , num내에 중복된게 없으면 추가합니다.  \n",
    "  \n",
    "5) 출력!"
   ]
  },
  {
   "cell_type": "code",
   "execution_count": 3,
   "metadata": {},
   "outputs": [
    {
     "name": "stdout",
     "output_type": "stream",
     "text": [
      "6\n",
      "1 1 22 4 387 6\n",
      "[1, 4, 6, 22, 387]\n"
     ]
    }
   ],
   "source": [
    "N = int(input())\n",
    "nums = input().split()\n",
    "nums = sorted([int(i) for i in nums ])\n",
    "num = []\n",
    "for i in range(0, len(nums)):\n",
    "    if nums[i] not in num:\n",
    "        num.append(nums[i])\n",
    "    else :\n",
    "        pass\n",
    "print(num)"
   ]
  },
  {
   "cell_type": "markdown",
   "metadata": {},
   "source": [
    "6) 하지만 num은 리스트 형태입니다..!  \n",
    "   -> 이를 해결하기 위해서 for문 이용하여 하나씩 출력합니다.\n",
    "   -> 이때, 한 줄로 나오지 않아서 구글님께 여쭤보았습니다.\n"
   ]
  },
  {
   "cell_type": "code",
   "execution_count": 6,
   "metadata": {},
   "outputs": [
    {
     "name": "stdout",
     "output_type": "stream",
     "text": [
      "6\n",
      "1 1 22 4 387 6\n",
      "1\n",
      "4\n",
      "6\n",
      "22\n",
      "387\n"
     ]
    }
   ],
   "source": [
    "N = int(input())\n",
    "nums = sorted(list(map(int, input().split())))\n",
    "num = []\n",
    "for i in nums:\n",
    "    if i not in num:\n",
    "        num.append(i)\n",
    "        \n",
    "for j in num:\n",
    "    print(j)"
   ]
  },
  {
   "cell_type": "markdown",
   "metadata": {},
   "source": [
    "- print(end = '') 를 알게 되었고  \n",
    "  이를 통해 for 문에서 다음 줄로 넘어가지 않는 방법을 배웠습니다!"
   ]
  },
  {
   "cell_type": "code",
   "execution_count": 7,
   "metadata": {},
   "outputs": [
    {
     "name": "stdout",
     "output_type": "stream",
     "text": [
      "1 2 3 "
     ]
    }
   ],
   "source": [
    "a_list = [1, 2, 3]\n",
    "\n",
    "for item in a_list:\n",
    "    print(item, end=\" \")"
   ]
  },
  {
   "cell_type": "markdown",
   "metadata": {},
   "source": [
    "7) 이를 통해서 성공적으로 예제 테스트를 돌렸는데,    \n",
    "   런타임이 너무 오래걸리게 됩니다..!"
   ]
  },
  {
   "cell_type": "code",
   "execution_count": 8,
   "metadata": {},
   "outputs": [
    {
     "name": "stdout",
     "output_type": "stream",
     "text": [
      "6\n",
      "1 1 22 4 387 6\n",
      "1 4 6 22 387 "
     ]
    }
   ],
   "source": [
    "N = int(input())\n",
    "nums = sorted(list(map(int, input().split())))\n",
    "num = []\n",
    "for i in nums:\n",
    "    if i not in num:\n",
    "        num.append(i)\n",
    "        \n",
    "for j in num:\n",
    "    print(j, end=' ')"
   ]
  },
  {
   "cell_type": "markdown",
   "metadata": {},
   "source": [
    "8) 입력받은 정수를 리스트로 저장하는데 있어서   \n",
    "   for 문을 사용하지 않는 방법을 찾았습니다.  \n",
    "   map함수를 통해 list로 저장하는 방법이 있었습니다..  \n",
    "   그리고 set 함수를 통해 중복을 제거할 수 도 있습니다.  "
   ]
  },
  {
   "cell_type": "code",
   "execution_count": 9,
   "metadata": {},
   "outputs": [
    {
     "name": "stdout",
     "output_type": "stream",
     "text": [
      "6\n",
      "1 1 22 4 387 6\n",
      "1 4 6 22 387 "
     ]
    }
   ],
   "source": [
    "N = int(input())\n",
    "nums = list(map(int, input().split())) \n",
    "num = sorted(set(nums))\n",
    "for j in num:\n",
    "    print(j, end=' ')"
   ]
  }
 ],
 "metadata": {
  "kernelspec": {
   "display_name": "Python 3",
   "language": "python",
   "name": "python3"
  },
  "language_info": {
   "codemirror_mode": {
    "name": "ipython",
    "version": 3
   },
   "file_extension": ".py",
   "mimetype": "text/x-python",
   "name": "python",
   "nbconvert_exporter": "python",
   "pygments_lexer": "ipython3",
   "version": "3.7.6"
  }
 },
 "nbformat": 4,
 "nbformat_minor": 4
}
