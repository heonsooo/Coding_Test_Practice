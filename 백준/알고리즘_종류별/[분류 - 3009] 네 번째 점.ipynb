{
 "cells": [
  {
   "cell_type": "code",
   "execution_count": 47,
   "metadata": {},
   "outputs": [
    {
     "name": "stdout",
     "output_type": "stream",
     "text": [
      "[1, 10]\n"
     ]
    }
   ],
   "source": [
    "def solution(v):\n",
    "    answer = []\n",
    "    x, y =[ ], [ ]\n",
    "    for i in v[:]:\n",
    "        x.append(i[0])\n",
    "        y.append(i[1])\n",
    "\n",
    "    for j in range(len(v)):\n",
    "        if x.count(x[j]) == 1:\n",
    "            X = x[j]\n",
    "            \n",
    "        if y.count(y[j]) == 1:\n",
    "            Y = y[j]\n",
    "        \n",
    "        \n",
    "    return [X,Y]\n",
    "\n",
    "print(solution([[1, 4], [3, 4], [3, 10]]))"
   ]
  },
  {
   "cell_type": "code",
   "execution_count": 43,
   "metadata": {},
   "outputs": [
    {
     "name": "stdout",
     "output_type": "stream",
     "text": [
      "30 20\n",
      "10 10\n",
      "10 20\n",
      "[30, 10]\n"
     ]
    }
   ],
   "source": [
    "v = []\n",
    "for _ in range(3):\n",
    "    v.append(list(map(int, input().split())))\n",
    "x, y =[ ], [ ]\n",
    "for i in v[:]:\n",
    "    x.append(i[0])\n",
    "    y.append(i[1])\n",
    "\n",
    "for j in range(len(v)):\n",
    "    if x.count(x[j]) == 1:\n",
    "        X = x[j]\n",
    "\n",
    "    if y.count(y[j]) == 1:\n",
    "        Y = y[j]\n",
    "\n",
    "\n",
    "print([X,Y])\n"
   ]
  }
 ],
 "metadata": {
  "kernelspec": {
   "display_name": "Python 3",
   "language": "python",
   "name": "python3"
  },
  "language_info": {
   "codemirror_mode": {
    "name": "ipython",
    "version": 3
   },
   "file_extension": ".py",
   "mimetype": "text/x-python",
   "name": "python",
   "nbconvert_exporter": "python",
   "pygments_lexer": "ipython3",
   "version": "3.7.6"
  }
 },
 "nbformat": 4,
 "nbformat_minor": 4
}
