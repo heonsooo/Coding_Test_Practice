{
 "cells": [
  {
   "cell_type": "code",
   "execution_count": 31,
   "metadata": {},
   "outputs": [
    {
     "name": "stdout",
     "output_type": "stream",
     "text": [
      "3\n",
      "George\n",
      "John\n",
      "Piter\n",
      "INCREASING\n"
     ]
    }
   ],
   "source": [
    "n = int(input())\n",
    "name = []\n",
    "for i in range(n):\n",
    "     name.append(input()) \n",
    "\n",
    "sort_name = sorted(name)\n",
    "rev_name = sorted(name, reverse= True)\n",
    "\n",
    "if name == sort_name: \n",
    "    print('INCREASING')\n",
    "elif name == rev_name:\n",
    "    print('DECREASING')\n",
    "else:\n",
    "    print('NEITHER')"
   ]
  }
 ],
 "metadata": {
  "kernelspec": {
   "display_name": "Python 3",
   "language": "python",
   "name": "python3"
  },
  "language_info": {
   "codemirror_mode": {
    "name": "ipython",
    "version": 3
   },
   "file_extension": ".py",
   "mimetype": "text/x-python",
   "name": "python",
   "nbconvert_exporter": "python",
   "pygments_lexer": "ipython3",
   "version": "3.7.6"
  }
 },
 "nbformat": 4,
 "nbformat_minor": 4
}
