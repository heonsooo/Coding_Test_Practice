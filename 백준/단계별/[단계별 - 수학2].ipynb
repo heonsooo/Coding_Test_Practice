{
 "cells": [
  {
   "cell_type": "markdown",
   "metadata": {},
   "source": [
    "# 소수 찾기 "
   ]
  },
  {
   "cell_type": "code",
   "execution_count": null,
   "metadata": {},
   "outputs": [],
   "source": [
    "n = input()\n",
    "import math\n",
    "\n",
    "def finder(x):\n",
    "    if x <= 1:\n",
    "        return False\n",
    "    else:\n",
    "        for j in range(2, int(math.sqrt(x))+1):\n",
    "            if x%j ==0 :\n",
    "                return False\n",
    "        return True\n",
    "\n",
    "\n",
    "nums = list(map(int, input().split()))\n",
    "answer = 0\n",
    "for i in nums:\n",
    "    if finder(i):\n",
    "        answer +=1 \n",
    "        \n",
    "print(answer)\n"
   ]
  },
  {
   "cell_type": "markdown",
   "metadata": {},
   "source": [
    "# 소수\n",
    "\n"
   ]
  },
  {
   "cell_type": "code",
   "execution_count": 2,
   "metadata": {},
   "outputs": [
    {
     "name": "stdout",
     "output_type": "stream",
     "text": [
      "60\n",
      "100\n",
      "620\n",
      "61\n"
     ]
    }
   ],
   "source": [
    "m = int(input())\n",
    "M = int(input())\n",
    "import math\n",
    "def finder(x):\n",
    "    if x<= 1:\n",
    "        return False\n",
    "    else:\n",
    "        for j in range(2, int(math.sqrt(x))+1):\n",
    "            if x%j == 0 :\n",
    "                return False\n",
    "        return True\n",
    "answer =[]\n",
    "for i in range(m, M+1):\n",
    "    if finder(i):\n",
    "        answer.append(i)\n",
    "    \n",
    "if len(answer) ==0:\n",
    "    print(-1)\n",
    "\n",
    "else: \n",
    "    print(sum(answer))\n",
    "    print(min(answer))\n"
   ]
  },
  {
   "cell_type": "markdown",
   "metadata": {},
   "source": [
    "# 소수 구하기\n"
   ]
  },
  {
   "cell_type": "code",
   "execution_count": 3,
   "metadata": {},
   "outputs": [
    {
     "name": "stdout",
     "output_type": "stream",
     "text": [
      "3 16\n",
      "3\n",
      "5\n",
      "7\n",
      "11\n",
      "13\n"
     ]
    }
   ],
   "source": [
    "m, M = map(int,input().split())\n",
    "import math\n",
    "def finder(x):\n",
    "    if x<= 1:\n",
    "        return False\n",
    "    else:\n",
    "        for j in range(2, int(math.sqrt(x))+1):\n",
    "            if x%j == 0 :\n",
    "                return False\n",
    "        return True\n",
    "answer =[]\n",
    "for i in range(m, M+1):\n",
    "    if finder(i):\n",
    "        answer.append(i)\n",
    "\n",
    "for k in answer:\n",
    "    print(k)"
   ]
  },
  {
   "cell_type": "markdown",
   "metadata": {},
   "source": [
    "# 직사각형에서 탈출\n",
    "내 위치 : (x,y)\n",
    "- abs(x-w) 내 위치에서 직사각형 우변까지 거리  \n",
    "- abs(y-h) 내 위치에서 직사각형 윗변까지 거리\n",
    "- x:내 위치에서 직사각형 좌변까지 거리(y축까지 거리)\n",
    "- y:내 위치에서 직사각형 밑변까지 거리(x축까지 거리)"
   ]
  },
  {
   "cell_type": "code",
   "execution_count": 8,
   "metadata": {},
   "outputs": [
    {
     "name": "stdout",
     "output_type": "stream",
     "text": [
      "12 7 50 9\n",
      "2\n"
     ]
    }
   ],
   "source": [
    "x, y, w, h = map(int,input().split())\n",
    "\n",
    "answer = [abs(x-w), abs(y-h),x,y]\n",
    "\n",
    "print(min(answer))"
   ]
  },
  {
   "cell_type": "markdown",
   "metadata": {},
   "source": [
    "# 네 번째 점"
   ]
  },
  {
   "cell_type": "code",
   "execution_count": 11,
   "metadata": {},
   "outputs": [
    {
     "name": "stdout",
     "output_type": "stream",
     "text": [
      "30 10\n",
      "10 20\n",
      "10 10\n",
      "30 20\n"
     ]
    }
   ],
   "source": [
    "x,y =[],[] \n",
    "\n",
    "for _ in range(3):\n",
    "    x0, y0= map(int, input().split())\n",
    "    x.append(x0)\n",
    "    y.append(y0)\n",
    "    \n",
    "for i,j in zip(x,y):\n",
    "    if x.count(i) ==1:\n",
    "        answer_x = i\n",
    "    if y.count(j) == 1:\n",
    "        answer_y = j\n",
    " \n",
    "print(answer_x, answer_y)"
   ]
  },
  {
   "cell_type": "markdown",
   "metadata": {},
   "source": [
    "# 직각삼각형"
   ]
  },
  {
   "cell_type": "code",
   "execution_count": 21,
   "metadata": {},
   "outputs": [
    {
     "name": "stdout",
     "output_type": "stream",
     "text": [
      "6 8 10\n",
      "5 12 13\n",
      "0 0 0\n",
      "right\n",
      "right\n"
     ]
    }
   ],
   "source": [
    "answer = []\n",
    "import math\n",
    "while True:\n",
    "    triangle = list(map(int, input().split()))\n",
    "    if triangle[0]==0 and triangle[1]==0 and triangle[2] ==0:\n",
    "        for i in answer:\n",
    "            print(i)\n",
    "        break\n",
    "\n",
    "    else:\n",
    "        triangle.sort()\n",
    "        if math.sqrt(triangle[0]**2 + triangle[1]**2 ) == triangle[2]:\n",
    "            answer.append('right')\n",
    "        else:\n",
    "            answer.append('wrong')\n",
    "\n"
   ]
  },
  {
   "cell_type": "markdown",
   "metadata": {},
   "source": [
    "# 택시 기하학\n"
   ]
  },
  {
   "cell_type": "code",
   "execution_count": 63,
   "metadata": {},
   "outputs": [
    {
     "name": "stdout",
     "output_type": "stream",
     "text": [
      "42\n",
      "5541.769441\n",
      "3528.000000\n"
     ]
    }
   ],
   "source": [
    "import math\n",
    "r = int(input())\n",
    "pi = (math.pi)\n",
    "print('{0:.6f}'.format((r**2)*pi))\n",
    "print('{0:.6f}'.format(r*r*2))\n"
   ]
  }
 ],
 "metadata": {
  "kernelspec": {
   "display_name": "Python 3",
   "language": "python",
   "name": "python3"
  },
  "language_info": {
   "codemirror_mode": {
    "name": "ipython",
    "version": 3
   },
   "file_extension": ".py",
   "mimetype": "text/x-python",
   "name": "python",
   "nbconvert_exporter": "python",
   "pygments_lexer": "ipython3",
   "version": "3.7.6"
  }
 },
 "nbformat": 4,
 "nbformat_minor": 4
}
