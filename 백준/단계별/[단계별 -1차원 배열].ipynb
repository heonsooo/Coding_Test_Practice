{
 "cells": [
  {
   "cell_type": "markdown",
   "metadata": {},
   "source": [
    "# 최소, 최대\n",
    "첫째 줄에 정수의 개수 N (1 ≤ N ≤ 1,000,000)이 주어진다.  \n",
    "둘째 줄에는 N개의 정수를 공백으로 구분해서 주어진다.   \n",
    "모든 정수는 -1,000,000보다 크거나 같고, 1,000,000보다 작거나 같은 정수이다."
   ]
  },
  {
   "cell_type": "code",
   "execution_count": 24,
   "metadata": {},
   "outputs": [
    {
     "name": "stdout",
     "output_type": "stream",
     "text": [
      "5\n",
      "4 7 8 930 564\n",
      "4 930\n"
     ]
    }
   ],
   "source": [
    "a = int(input())\n",
    "nums = list(map(int,input().split()))\n",
    "print(min(nums),max(nums))\n",
    "\n"
   ]
  },
  {
   "cell_type": "markdown",
   "metadata": {},
   "source": [
    "# 최댓값\n",
    "9개의 서로 다른 자연수가 주어질 때, 이들 중 최댓값을 찾고 그 최댓값이 몇 번째 수인지를 구하는 프로그램을 작성하시오.  \n",
    "  \n",
    "예를 들어, 서로 다른 9개의 자연수  \n",
    "   \n",
    "3, 29, 38, 12, 57, 74, 40, 85, 61    \n",
    "   \n",
    "이 주어지면, 이들 중 최댓값은 85이고, 이 값은 8번째 수이다.  "
   ]
  },
  {
   "cell_type": "code",
   "execution_count": null,
   "metadata": {},
   "outputs": [],
   "source": [
    "import sys\n",
    "# input = sys.stdin.readline\n",
    "nums = list(map(int, input().split()))\n",
    "print(max(nums))\n",
    "print(a.index(max(a)))"
   ]
  },
  {
   "cell_type": "code",
   "execution_count": 28,
   "metadata": {},
   "outputs": [
    {
     "name": "stdout",
     "output_type": "stream",
     "text": [
      "857\n",
      "65\n",
      "789\n",
      "321\n",
      "654\n",
      "98753\n",
      "153\n",
      "12\n",
      "17\n",
      "98753\n",
      "6\n"
     ]
    }
   ],
   "source": [
    "nums =[]\n",
    "for _ in range(9):\n",
    "    nums.append(int(input()))        \n",
    "    \n",
    "print(max(nums))\n",
    "print(nums.index(max(nums))+1)"
   ]
  },
  {
   "cell_type": "markdown",
   "metadata": {},
   "source": [
    "# 숫자의 개수\n",
    "입력  \n",
    "첫째 줄에 A, 둘째 줄에 B, 셋째 줄에 C가 주어진다. A, B, C는 모두 100보다 같거나 크고, 1,000보다 작은 자연수이다.  \n",
    "  \n",
    "출력  \n",
    "첫째 줄에는 A×B×C의 결과에 0 이 몇 번 쓰였는지 출력한다.  \n",
    "마찬가지로 둘째 줄부터 열 번째 줄까지 A×B×C의 결과에 1부터 9까지의 숫자가 각각 몇 번 쓰였는지 차례로 한 줄에 하나씩 출력한다.  \n",
    "  \n",
    "  \n",
    "+) 출력은 정수형으로! (문자열인지 정수형인지 잘 확인해야함!) "
   ]
  },
  {
   "cell_type": "code",
   "execution_count": 23,
   "metadata": {},
   "outputs": [
    {
     "name": "stdout",
     "output_type": "stream",
     "text": [
      "654\n",
      "321\n",
      "456\n",
      "95729904\n",
      "1\n",
      "0\n",
      "1\n",
      "0\n",
      "1\n",
      "1\n",
      "0\n",
      "1\n",
      "0\n",
      "3\n"
     ]
    }
   ],
   "source": [
    "nums = 1\n",
    "for _ in range(3):\n",
    "    nums *= int(input())\n",
    "    \n",
    "# print(nums)\n",
    "for i in range(0,10):                     \n",
    "    print(int(str(nums).count(str(i))))\n",
    "    "
   ]
  },
  {
   "cell_type": "markdown",
   "metadata": {},
   "source": [
    "# 나머지\n",
    "### 문제  \n",
    "두 자연수 A와 B가 있을 때, A%B는 A를 B로 나눈 나머지 이다. 예를 들어, 7, 14, 27, 38을 3으로 나눈 나머지는 1, 2, 0, 2이다.   \n",
    "수 10개를 입력받은 뒤, 이를 42로 나눈 나머지를 구한다. 그 다음 서로 다른 값이 몇 개 있는지 출력하는 프로그램을 작성하시오.  \n",
    "  \n",
    "### 입력  \n",
    "첫째 줄부터 열번째 줄 까지 숫자가 한 줄에 하나씩 주어진다. 이 숫자는 1,000보다 작거나 같고, 음이 아닌 정수이다.\n",
    "  \n",
    "### 출력  \n",
    "첫째 줄에, 42로 나누었을 때, 서로 다른 나머지가 몇 개 있는지 출력한다."
   ]
  },
  {
   "cell_type": "code",
   "execution_count": 29,
   "metadata": {},
   "outputs": [
    {
     "name": "stdout",
     "output_type": "stream",
     "text": [
      "987\n",
      "3214\n",
      "3698\n",
      "654\n",
      "12\n",
      "476\n",
      "325\n",
      "746\n",
      "347\n",
      "49\n",
      "10\n"
     ]
    }
   ],
   "source": [
    "nums = [] \n",
    "for _ in range(10):\n",
    "    nums.append(int(input())%42)\n",
    "    \n",
    "nums = set(nums)\n",
    "print(len(nums))"
   ]
  },
  {
   "cell_type": "markdown",
   "metadata": {},
   "source": [
    "# 평균\n",
    "\n",
    "#### 문제\n",
    "세준이는 기말고사를 망쳤다.  \n",
    "세준이는 점수를 조작해서 집에 가져가기로 했다.  \n",
    "일단 세준이는 자기 점수 중에 최댓값을 골랐다.  \n",
    "이 값을 M이라고 한다.   \n",
    "그리고 나서 모든 점수를 점수/M*100으로 고쳤다.  \n",
    "  \n",
    "예를 들어, 세준이의 최고점이 70이고, 수학점수가 50이었으면 수학점수는 50/70*100이 되어 71.43점이 된다.  \n",
    "  \n",
    "세준이의 성적을 위의 방법대로 새로 계산했을 때, 새로운 평균을 구하는 프로그램을 작성하시오.  \n",
    "  \n",
    "#### 입력\n",
    "첫째 줄에 시험 본 과목의 개수 N이 주어진다.  \n",
    "이 값은 1000보다 작거나 같다. 둘째 줄에 세준이의 현재 성적이 주어진다.   \n",
    "이 값은 100보다 작거나 같은 음이 아닌 정수이고, 적어도 하나의 값은 0보다 크다.  \n",
    "  \n",
    "#### 출력\n",
    "첫째 줄에 새로운 평균을 출력한다.   \n",
    "실제 정답과 출력값의 절대오차 또는 상대오차가 10-2 이하이면 정답이다.   "
   ]
  },
  {
   "cell_type": "code",
   "execution_count": 5,
   "metadata": {},
   "outputs": [
    {
     "name": "stdout",
     "output_type": "stream",
     "text": [
      "3\n",
      "40 60 80\n",
      "75.0\n"
     ]
    }
   ],
   "source": [
    "N = int(input())\n",
    "scores = list(map(int, input().split()))\n",
    "\n",
    "Max_score = max(scores)\n",
    "ave_score = [ 100*i/Max_score for i in scores]\n",
    "print(sum(ave_score)/N)"
   ]
  },
  {
   "cell_type": "markdown",
   "metadata": {},
   "source": [
    "# OX퀴즈\n",
    "#### 문제\n",
    "\"OOXXOXXOOO\"와 같은 OX퀴즈의 결과가 있다. O는 문제를 맞은 것이고, X는 문제를 틀린 것이다.  \n",
    "문제를 맞은 경우 그 문제의 점수는 그 문제까지 연속된 O의 개수가 된다. 예를 들어, 10번 문제의 점수는 3이 된다.    \n",
    "  \n",
    "\"OOXXOXXOOO\"의 점수는 1+2+0+0+1+0+0+1+2+3 = 10점이다.  \n",
    "  \n",
    "OX퀴즈의 결과가 주어졌을 때, 점수를 구하는 프로그램을 작성하시오.  \n",
    "\n",
    "#### 입력\n",
    "첫째 줄에 테스트 케이스의 개수가 주어진다.  \n",
    "각 테스트 케이스는 한 줄로 이루어져 있고, 길이가 0보다 크고 80보다 작은 문자열이 주어진다.  \n",
    "문자열은 O와 X만으로 이루어져 있다.   \n",
    "\n",
    "#### 출력\n",
    "각 테스트 케이스마다 점수를 출력한다.  "
   ]
  },
  {
   "cell_type": "code",
   "execution_count": 30,
   "metadata": {},
   "outputs": [
    {
     "name": "stdout",
     "output_type": "stream",
     "text": [
      "2\n",
      "OOXXOXXOOO\n",
      "OOXOOXOXXO\n",
      "10\n",
      "8\n"
     ]
    }
   ],
   "source": [
    "N = int(input())\n",
    "result = []\n",
    "for _ in range(N):\n",
    "    result.append(input())\n",
    "all_answer = 0\n",
    "final = []\n",
    "for j in result:\n",
    "#     print(j, type(j), len(j))\n",
    "    all_answer, answer = 0,0\n",
    "    \n",
    "    for k in range(len(j)):\n",
    "#         print(k)\n",
    "        \n",
    "        if j[k] == 'O' :\n",
    "            answer +=1\n",
    "            all_answer+= answer\n",
    "        else:\n",
    "            answer = 0\n",
    "    final.append(all_answer)\n",
    "\n",
    "for l in final:\n",
    "    print(l)"
   ]
  },
  {
   "cell_type": "markdown",
   "metadata": {},
   "source": [
    "# 평균은 넘겠지\n",
    "#### 문제\n",
    "대학생 새내기들의 90%는 자신이 반에서 평균은 넘는다고 생각한다. 당신은 그들에게 슬픈 진실을 알려줘야 한다.\n",
    "\n",
    "#### 입력  \n",
    "첫째 줄에는 테스트 케이스의 개수 C가 주어진다.   \n",
    "둘째 줄부터 각 테스트 케이스마다 학생의 수 N(1 ≤ N ≤ 1000, N은 정수)이 첫 수로 주어지고, 이어서 N명의 점수가 주어진다.  \n",
    "점수는 0보다 크거나 같고, 100보다 작거나 같은 정수이다.\n",
    "\n",
    "#### 출력\n",
    "각 케이스마다 한 줄씩 평균을 넘는 학생들의 비율을 반올림하여 소수점 셋째 자리까지 출력한다.\n",
    "\n",
    "\n",
    "### 풀이 전략\n",
    "1) 점수의 평균을 구한다.  \n",
    "2) 점수의 평균과 개인의 점수를 비교한다  \n",
    "3) 비교한 점수가 더 크다면, answer +1한다.  \n",
    "4) [최종] answer/전체 인원 = 소수 셋째 자리까지 출력 -> round(answer,3)   "
   ]
  },
  {
   "cell_type": "code",
   "execution_count": 23,
   "metadata": {},
   "outputs": [
    {
     "name": "stdout",
     "output_type": "stream",
     "text": [
      "2\n",
      "5 50 50 70 80 100\n",
      "3 70 90 80\n",
      "40.000%\n",
      "33.333%\n"
     ]
    }
   ],
   "source": [
    "N = int(input())\n",
    "All = []\n",
    "\n",
    "# 입력받는 학생 수와 각 학생수의 점수를 하나의 리스트로 N개 받음 -> (1,N) 배열 \n",
    "for i in range(N):\n",
    "    All.append(list(map(int, input().split())))\n",
    "\n",
    "for j in All:\n",
    "    ave = sum(j[1:])/j[0]\n",
    "    count = 0\n",
    "#     print(ave)\n",
    "#     print(j[1:])\n",
    "    for k in j[1:]:\n",
    "        if k > ave:\n",
    "            count+=1\n",
    "    print('{:.3f}%'.format((count*100)/j[0]))"
   ]
  }
 ],
 "metadata": {
  "kernelspec": {
   "display_name": "Python 3",
   "language": "python",
   "name": "python3"
  }
 },
 "nbformat": 4,
 "nbformat_minor": 4
}
