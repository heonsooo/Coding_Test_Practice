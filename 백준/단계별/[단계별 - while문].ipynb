{
 "cells": [
  {
   "cell_type": "markdown",
   "metadata": {},
   "source": [
    "# A+B - 5\n",
    "\n",
    "두  정수 A와 B를 입력받은 다음, A+B를 출력하는 프로그램을 작성하시오."
   ]
  },
  {
   "cell_type": "code",
   "execution_count": 7,
   "metadata": {},
   "outputs": [
    {
     "name": "stdout",
     "output_type": "stream",
     "text": [
      "7 6\n",
      "13\n",
      "6 5\n",
      "11\n",
      "1 3\n",
      "4\n",
      "2 2\n",
      "4\n",
      "1 3\n",
      "4\n",
      "0 0\n"
     ]
    }
   ],
   "source": [
    "while True:\n",
    "    a = list(map(int, input().split()))\n",
    "    if a == [0,0]:\n",
    "        break\n",
    "    else : \n",
    "        print(a[0]+a[1])"
   ]
  },
  {
   "cell_type": "markdown",
   "metadata": {},
   "source": [
    "# A+B - 4 \n",
    "두 정수 A와 B를 입력받은 다음, A+B를 출력하는 프로그램을 작성하시오."
   ]
  },
  {
   "cell_type": "code",
   "execution_count": 8,
   "metadata": {},
   "outputs": [
    {
     "name": "stdout",
     "output_type": "stream",
     "text": [
      "7 6\n",
      "13\n",
      "5 3\n",
      "8\n",
      "1 2\n",
      "3\n",
      "\n"
     ]
    }
   ],
   "source": [
    "while True:\n",
    "    try :\n",
    "        a = list(map(int, input().split()))\n",
    "        if a == [0,0]:\n",
    "            break\n",
    "        else : \n",
    "            print(a[0]+a[1])\n",
    "    except :\n",
    "        break"
   ]
  },
  {
   "cell_type": "markdown",
   "metadata": {},
   "source": [
    "# 더하기 사이클\n",
    "0보다 크거나 같고, 99보다 작거나 같은 정수가 주어질 때 다음과 같은 연산을 할 수 있다.   \n",
    "먼저 주어진 수가 10보다 작다면 앞에 0을 붙여 두 자리 수로 만들고, 각 자리의 숫자를 더한다.  \n",
    "그 다음, 주어진 수의 가장 오른쪽 자리 수와 앞에서 구한 합의 가장 오른쪽 자리 수를 이어 붙이면 새로운 수를 만들 수 있다.   \n",
    "\n",
    "다음 예를 보자.\n",
    "  \n",
    "26부터 시작한다.   \n",
    "2+6 = 8이다. 새로운 수는 68이다. 6+8 = 14이다.   \n",
    "새로운 수는 84이다. 8+4 = 12이다. 새로운 수는 42이다.  \n",
    "4+2 = 6이다. 새로운 수는 26이다.  \n",
    "  \n",
    "위의 예는 4번만에 원래 수로 돌아올 수 있다.   \n",
    "따라서 26의 사이클의 길이는 4이다.  \n",
    "  \n",
    "N이 주어졌을 때, N의 사이클의 길이를 구하는 프로그램을 작성하시오.  \n",
    "  \n",
    "  "
   ]
  },
  {
   "cell_type": "code",
   "execution_count": 1,
   "metadata": {},
   "outputs": [
    {
     "name": "stdout",
     "output_type": "stream",
     "text": [
      "7\n",
      "60\n"
     ]
    }
   ],
   "source": [
    "answer = input()\n",
    "count = 0\n",
    "a = answer\n",
    "while True:\n",
    "    if len(a)==1 :\n",
    "        a = '0'+a\n",
    "    A = str(int(a[0])+int(a[1]))\n",
    "    a = a[1]+A[-1]\n",
    "    if a[0]=='0' :\n",
    "        a = a[1]\n",
    "    count +=1 \n",
    "    if a == answer:\n",
    "        break\n",
    "print(count)"
   ]
  },
  {
   "cell_type": "markdown",
   "metadata": {},
   "source": []
  },
  {
   "cell_type": "code",
   "execution_count": null,
   "metadata": {},
   "outputs": [],
   "source": []
  },
  {
   "cell_type": "markdown",
   "metadata": {},
   "source": []
  },
  {
   "cell_type": "code",
   "execution_count": null,
   "metadata": {},
   "outputs": [],
   "source": [
    "\n",
    "\n",
    "\n",
    "\n",
    "\n",
    "\n"
   ]
  }
 ],
 "metadata": {
  "kernelspec": {
   "display_name": "Python 3",
   "language": "python",
   "name": "python3"
  },
  "language_info": {
   "codemirror_mode": {
    "name": "ipython",
    "version": 3
   },
   "file_extension": ".py",
   "mimetype": "text/x-python",
   "name": "python",
   "nbconvert_exporter": "python",
   "pygments_lexer": "ipython3",
   "version": "3.7.6"
  }
 },
 "nbformat": 4,
 "nbformat_minor": 4
}
