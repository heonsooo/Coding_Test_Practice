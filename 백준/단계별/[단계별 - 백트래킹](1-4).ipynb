{
 "cells": [
  {
   "cell_type": "markdown",
   "metadata": {},
   "source": [
    "# N과 M(1)"
   ]
  },
  {
   "cell_type": "code",
   "execution_count": 37,
   "metadata": {},
   "outputs": [
    {
     "name": "stdout",
     "output_type": "stream",
     "text": [
      "4 2\n",
      "[('1', '2'), ('1', '3'), ('1', '4'), ('2', '1'), ('2', '3'), ('2', '4'), ('3', '1'), ('3', '2'), ('3', '4'), ('4', '1'), ('4', '2'), ('4', '3')]\n",
      "1 2\n",
      "1 3\n",
      "1 4\n",
      "2 1\n",
      "2 3\n",
      "2 4\n",
      "3 1\n",
      "3 2\n",
      "3 4\n",
      "4 1\n",
      "4 2\n",
      "4 3\n"
     ]
    }
   ],
   "source": [
    "from itertools import permutations\n",
    "n, m = map(int, input().split())\n",
    "\n",
    "nums = [str(i) for i in range(1,n+1)]\n",
    "answer = ''\n",
    "result = sorted(list(permutations(nums,m)), key = lambda x: [x[j] for j in range(m)])\n",
    "# print(result)\n",
    "for k in result:\n",
    "    print(' '.join(k))"
   ]
  },
  {
   "cell_type": "markdown",
   "metadata": {},
   "source": [
    "# N과 M (2)\n",
    "\n"
   ]
  },
  {
   "cell_type": "code",
   "execution_count": 42,
   "metadata": {},
   "outputs": [
    {
     "name": "stdout",
     "output_type": "stream",
     "text": [
      "4 2\n",
      "1 2\n",
      "1 3\n",
      "1 4\n",
      "2 3\n",
      "2 4\n",
      "3 4\n"
     ]
    }
   ],
   "source": [
    "from itertools import combinations\n",
    "n, m = map(int, input().split())\n",
    "\n",
    "nums = [str(i) for i in range(1,n+1)]\n",
    "answer = ''\n",
    "result = sorted(list(combinations(nums,m)), key = lambda x: [x[j] for j in range(m)])\n",
    "# print(result)\n",
    "for k in result:\n",
    "    print(' '.join(k))"
   ]
  },
  {
   "cell_type": "markdown",
   "metadata": {},
   "source": [
    "# N과 M (3)"
   ]
  },
  {
   "cell_type": "code",
   "execution_count": 59,
   "metadata": {},
   "outputs": [
    {
     "name": "stdout",
     "output_type": "stream",
     "text": [
      "3 1\n",
      "1\n",
      "2\n",
      "3\n"
     ]
    }
   ],
   "source": [
    "from itertools import product\n",
    "n, m = map(int, input().split())\n",
    "\n",
    "nums = [str(i) for i in range(1,n+1)]\n",
    "answer = ''\n",
    "result = sorted(list(product(nums,repeat= m)), key = lambda x: [x[j] for j in range(m)])\n",
    "# print(result)\n",
    "for k in result:\n",
    "    print(' '.join(k))"
   ]
  },
  {
   "cell_type": "markdown",
   "metadata": {},
   "source": [
    "\n",
    "# N과 M (4)"
   ]
  },
  {
   "cell_type": "code",
   "execution_count": 60,
   "metadata": {},
   "outputs": [
    {
     "name": "stdout",
     "output_type": "stream",
     "text": [
      "4 2\n",
      "1 1\n",
      "1 2\n",
      "1 3\n",
      "1 4\n",
      "2 2\n",
      "2 3\n",
      "2 4\n",
      "3 3\n",
      "3 4\n",
      "4 4\n"
     ]
    }
   ],
   "source": [
    "from itertools import combinations_with_replacement\n",
    "n, m = map(int, input().split())\n",
    "\n",
    "nums = [str(i) for i in range(1,n+1)]\n",
    "answer = ''\n",
    "result = sorted(list(combinations_with_replacement(nums,m)), key = lambda x: [x[j] for j in range(m)])\n",
    "# print(result)\n",
    "for k in result:\n",
    "    print(' '.join(k))"
   ]
  }
 ],
 "metadata": {
  "kernelspec": {
   "display_name": "Python 3",
   "language": "python",
   "name": "python3"
  },
  "language_info": {
   "codemirror_mode": {
    "name": "ipython",
    "version": 3
   },
   "file_extension": ".py",
   "mimetype": "text/x-python",
   "name": "python",
   "nbconvert_exporter": "python",
   "pygments_lexer": "ipython3",
   "version": "3.7.6"
  }
 },
 "nbformat": 4,
 "nbformat_minor": 4
}
