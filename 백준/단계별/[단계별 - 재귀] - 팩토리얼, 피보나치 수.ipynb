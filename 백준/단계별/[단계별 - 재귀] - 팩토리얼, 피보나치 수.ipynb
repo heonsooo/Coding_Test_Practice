{
 "cells": [
  {
   "cell_type": "markdown",
   "metadata": {},
   "source": [
    "# 팩토리얼\n",
    "### 문제\n",
    "0보다 크거나 같은 정수 N이 주어진다. 이때, N!을 출력하는 프로그램을 작성하시오.\n",
    "\n",
    "### 입력\n",
    "첫째 줄에 정수 N(0 ≤ N ≤ 12)가 주어진다.\n",
    "\n",
    "### 출력\n",
    "첫째 줄에 N!을 출력한다."
   ]
  },
  {
   "cell_type": "code",
   "execution_count": null,
   "metadata": {},
   "outputs": [],
   "source": [
    "def factorial(N):\n",
    "    if N == 1 or N == 0:\n",
    "        return 1\n",
    "    return N*factorial(N-1)\n",
    "\n",
    "\n",
    "print(factorial(int(input())))"
   ]
  },
  {
   "cell_type": "markdown",
   "metadata": {},
   "source": [
    "# 피보나치 수 5 \n",
    "#### 문제\n",
    "피보나치 수는 0과 1로 시작한다. 0번째 피보나치 수는 0이고, 1번째 피보나치 수는 1이다.   \n",
    "그 다음 2번째 부터는 바로 앞 두 피보나치 수의 합이 된다.  \n",
    "\n",
    "이를 식으로 써보면 Fn = Fn-1 + Fn-2 (n ≥ 2)가 된다.  \n",
    "  \n",
    "n=17일때 까지 피보나치 수를 써보면 다음과 같다.  \n",
    "\n",
    "0, 1, 1, 2, 3, 5, 8, 13, 21, 34, 55, 89, 144, 233, 377, 610, 987, 1597  \n",
    "\n",
    "n이 주어졌을 때, n번째 피보나치 수를 구하는 프로그램을 작성하시오.  \n",
    "\n",
    "####  입력\n",
    "첫째 줄에 n이 주어진다. n은 20보다 작거나 같은 자연수 또는 0이다.\n",
    "\n",
    "#### 출력\n",
    "첫째 줄에 n번째 피보나치 수를 출력한다."
   ]
  },
  {
   "cell_type": "code",
   "execution_count": 18,
   "metadata": {},
   "outputs": [
    {
     "name": "stdout",
     "output_type": "stream",
     "text": [
      "4\n",
      "3\n"
     ]
    }
   ],
   "source": [
    "def Fibonacci_numbers(N):\n",
    "    if N == 0:\n",
    "        return 0\n",
    "    nums = [0,1]\n",
    "    for i in range(2, N+1):\n",
    "        nums.append( nums[i-2] + nums[i-1])\n",
    "    return nums[-1]\n",
    "\n",
    "print(Fibonacci_numbers(int(input())))\n"
   ]
  },
  {
   "cell_type": "markdown",
   "metadata": {},
   "source": [
    "# 하노이 탑 이동 순서 \n",
    "\n",
    "#### 문제\n",
    "세 개의 장대가 있고 첫 번째 장대에는 반경이 서로 다른 n개의 원판이 쌓여 있다.   \n",
    "각 원판은 반경이 큰 순서대로 쌓여있다. 이제 수도승들이 다음 규칙에 따라 첫 번째 장대에서 세 번째 장대로 옮기려 한다.  \n",
    "\n",
    "한 번에 한 개의 원판만을 다른 탑으로 옮길 수 있다.  \n",
    "쌓아 놓은 원판은 항상 위의 것이 아래의 것보다 작아야 한다.   \n",
    "이 작업을 수행하는데 필요한 이동 순서를 출력하는 프로그램을 작성하라. 단, 이동 횟수는 최소가 되어야 한다.   \n",
    "\n",
    "아래 그림은 원판이 5개인 경우의 예시이다.   \n",
    "\n",
    "#### 입력\n",
    "첫째 줄에 첫 번째 장대에 쌓인 원판의 개수 N (1 ≤ N ≤ 20)이 주어진다.\n",
    "\n",
    " \n",
    "\n",
    "#### 출력\n",
    "첫째 줄에 옮긴 횟수 K를 출력한다.    \n",
    "\n",
    "두 번째 줄부터 수행 과정을 출력한다.   \n",
    "두 번째 줄부터 K개의 줄에 걸쳐 두 정수 A B를 빈칸을 사이에 두고 출력하는데,   \n",
    "이는 A번째 탑의 가장 위에 있는 원판을 B번째 탑의 가장 위로 옮긴다는 뜻이다.   "
   ]
  },
  {
   "cell_type": "code",
   "execution_count": null,
   "metadata": {},
   "outputs": [],
   "source": [
    "tower1,tower2 ,tower3 = [],[],[]\n",
    "\n",
    "for i in range(int(input()), 0, -1):\n",
    "    tower1.append(i)\n",
    "tower = tower1\n",
    "\n",
    "while tower3 != tower :\n",
    "    if tower2[-1] > tower1.pop() or len(tower2)==0:\n",
    "        tower2.append(tower1.pop())\n",
    "    else : \n",
    "        tower3.append(tower1.pop())\n",
    "    \n"
   ]
  },
  {
   "cell_type": "code",
   "execution_count": null,
   "metadata": {},
   "outputs": [],
   "source": [
    "count = 0\n",
    "def hanoi(n, from_pos, to_pos, aux_pos):\n",
    "    if n == 1:\n",
    "        print(from_pos, to_pos)\n",
    "        count +=1\n",
    "        return\n",
    "    hanoi(n - 1, from_pos, aux_pos, to_pos)\n",
    "    count +=1\n",
    "    print(from_pos,  to_pos)\n",
    "    hanoi(n - 1, aux_pos, to_pos, from_pos)\n",
    "    count +=1\n",
    "     \n",
    "hanoi(int(input()), 1, 3, 2)"
   ]
  }
 ],
 "metadata": {
  "kernelspec": {
   "display_name": "Python 3",
   "language": "python",
   "name": "python3"
  },
  "language_info": {
   "codemirror_mode": {
    "name": "ipython",
    "version": 3
   },
   "file_extension": ".py",
   "mimetype": "text/x-python",
   "name": "python",
   "nbconvert_exporter": "python",
   "pygments_lexer": "ipython3",
   "version": "3.7.6"
  }
 },
 "nbformat": 4,
 "nbformat_minor": 4
}
