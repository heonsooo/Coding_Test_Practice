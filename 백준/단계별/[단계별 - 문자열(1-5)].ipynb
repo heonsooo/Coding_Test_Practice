{
 "cells": [
  {
   "cell_type": "markdown",
   "metadata": {},
   "source": [
    "# 아스키 코드\n",
    "#### 문제\n",
    "알파벳 소문자, 대문자, 숫자 0-9중 하나가 주어졌을 때, 주어진 글자의 아스키 코드값을 출력하는 프로그램을 작성하시오.\n",
    "\n",
    "#### 입력\n",
    "알파벳 소문자, 대문자, 숫자 0-9 중 하나가 첫째 줄에 주어진다.\n",
    "\n",
    "#### 출력\n",
    "입력으로 주어진 글자의 아스키 코드 값을 출력한다."
   ]
  },
  {
   "cell_type": "code",
   "execution_count": 1,
   "metadata": {},
   "outputs": [
    {
     "name": "stdout",
     "output_type": "stream",
     "text": [
      "c\n",
      "99\n"
     ]
    }
   ],
   "source": [
    "print(ord(input()))"
   ]
  },
  {
   "cell_type": "markdown",
   "metadata": {},
   "source": [
    "# 숫자의 합\n",
    "\n",
    "#### 문제\n",
    "N개의 숫자가 공백 없이 쓰여있다. 이 숫자를 모두 합해서 출력하는 프로그램을 작성하시오.\n",
    "\n",
    "#### 입력\n",
    "첫째 줄에 숫자의 개수 N (1 ≤ N ≤ 100)이 주어진다. 둘째 줄에 숫자 N개가 공백없이 주어진다.\n",
    "\n",
    "#### 출력\n",
    "입력으로 주어진 숫자 N개의 합을 출력한다."
   ]
  },
  {
   "cell_type": "code",
   "execution_count": 3,
   "metadata": {},
   "outputs": [
    {
     "name": "stdout",
     "output_type": "stream",
     "text": [
      "3\n",
      "1267\n",
      "16\n"
     ]
    }
   ],
   "source": [
    "N = int(input())\n",
    "answer = 0\n",
    "for i in str(input()):\n",
    "    answer += int(i)\n",
    "    \n",
    "print(answer)"
   ]
  },
  {
   "cell_type": "markdown",
   "metadata": {},
   "source": [
    "# 알파벳 찾기 \n",
    "\n",
    "#### 문제\n",
    "알파벳 소문자로만 이루어진 단어 S가 주어진다.   \n",
    "각각의 알파벳에 대해서, 단어에 포함되어 있는 경우에는 처음 등장하는 위치를,   \n",
    "포함되어 있지 않은 경우에는 -1을 출력하는 프로그램을 작성하시오.  \n",
    "\n",
    "#### 입력\n",
    "첫째 줄에 단어 S가 주어진다. 단어의 길이는 100을 넘지 않으며, 알파벳 소문자로만 이루어져 있다.\n",
    "\n",
    "#### 출력\n",
    "각각의 알파벳에 대해서, a가 처음 등장하는 위치, b가 처음 등장하는 위치, ... z가 처음 등장하는 위치를 공백으로 구분해서 출력한다.   \n",
    "  \n",
    "만약, 어떤 알파벳이 단어에 포함되어 있지 않다면 -1을 출력한다. 단어의 첫 번째 글자는 0번째 위치이고, 두 번째 글자는 1번째 위치이다.  \n",
    "\n",
    "### 알파벳 개수는 26개 "
   ]
  },
  {
   "cell_type": "code",
   "execution_count": null,
   "metadata": {},
   "outputs": [],
   "source": [
    "ord('a') -97 + 26"
   ]
  },
  {
   "cell_type": "code",
   "execution_count": 4,
   "metadata": {},
   "outputs": [
    {
     "name": "stdout",
     "output_type": "stream",
     "text": [
      "dfsken\n",
      "-1 -1 -1 0 4 1 -1 -1 -1 -1 3 -1 -1 5 -1 -1 -1 -1 2 -1 -1 -1 -1 -1 -1 -1 "
     ]
    }
   ],
   "source": [
    "s = input()\n",
    "array = [-1]*26\n",
    "for i,j in zip(s, range(len(s))):\n",
    "    if array[ord(i)-97] == -1:\n",
    "        array[ord(i)-97] = j\n",
    "for k in array:\n",
    "    print(k, end= ' ')"
   ]
  },
  {
   "cell_type": "markdown",
   "metadata": {},
   "source": [
    "# 문자열 반복\n",
    "\n",
    "#### 문제\n",
    "문자열 S를 입력받은 후에, 각 문자를 R번 반복해 새 문자열 P를 만든 후 출력하는 프로그램을 작성하시오.   \n",
    "즉, 첫 번째 문자를 R번 반복하고, 두 번째 문자를 R번 반복하는 식으로 P를 만들면 된다.   \n",
    "S에는 QR Code \"alphanumeric\" 문자만 들어있다.  \n",
    "  \n",
    "QR Code \"alphanumeric\" 문자는 0123456789ABCDEFGHIJKLMNOPQRSTUVWXYZ\\$%*+-./: 이다.  \n",
    "\n",
    "\n",
    "#### 입력\n",
    "첫째 줄에 테스트 케이스의 개수 T(1 ≤ T ≤ 1,000)가 주어진다.   \n",
    "각 테스트 케이스는 반복 횟수 R(1 ≤ R ≤ 8), 문자열 S가 공백으로 구분되어 주어진다.   \n",
    "S의 길이는 적어도 1이며, 20글자를 넘지 않는다. \n",
    "\n",
    "#### 출력\n",
    "각 테스트 케이스에 대해 P를 출력한다."
   ]
  },
  {
   "cell_type": "code",
   "execution_count": 5,
   "metadata": {},
   "outputs": [
    {
     "name": "stdout",
     "output_type": "stream",
     "text": [
      "3\n",
      "3 hello\n",
      "2 hi\n",
      "4 good\n",
      "hhheeellllllooo\n",
      "hhii\n",
      "ggggoooooooodddd\n"
     ]
    }
   ],
   "source": [
    "N = int(input())\n",
    "result = []\n",
    "for i in range(N):\n",
    "    a, b = map(str, input().split())\n",
    "    result.append([int(a), b])\n",
    "    \n",
    "for j in result:\n",
    "    for k in j[1]:\n",
    "        print(k*j[0], end = '')\n",
    "    print('')"
   ]
  },
  {
   "cell_type": "markdown",
   "metadata": {},
   "source": [
    "# 단어 공부 \n",
    "#### 문제\n",
    "알파벳 대소문자로 된 단어가 주어지면, 이 단어에서 가장 많이 사용된 알파벳이 무엇인지 알아내는 프로그램을 작성하시오.    \n",
    " 단, 대문자와 소문자를 구분하지 않는다.   \n",
    "\n",
    "#### 입력\n",
    "첫째 줄에 알파벳 대소문자로 이루어진 단어가 주어진다.    \n",
    "주어지는 단어의 길이는 1,000,000을 넘지 않는다.    \n",
    "  \n",
    "#### 출력\n",
    "첫째 줄에 이 단어에서 가장 많이 사용된 알파벳을 대문자로 출력한다.    \n",
    "단, 가장 많이 사용된 알파벳이 여러 개 존재하는 경우에는 ?를 출력한다."
   ]
  },
  {
   "cell_type": "code",
   "execution_count": 6,
   "metadata": {},
   "outputs": [
    {
     "name": "stdout",
     "output_type": "stream",
     "text": [
      "hellomynameis\n",
      "?\n"
     ]
    }
   ],
   "source": [
    "s = input().lower()\n",
    "counts = []\n",
    "for k in set(s):\n",
    "    counts.append((s.count(k), k))\n",
    "    \n",
    "counts.sort( key = lambda x: x[0], reverse = True)\n",
    "\n",
    "if len(counts) == 1:\n",
    "    print(counts[0][1].upper())\n",
    "\n",
    "elif counts[0][0] ==  counts[1][0]:\n",
    "    print('?')\n",
    "elif counts[0][0] > counts[1][0]:\n",
    "    print(counts[0][1].upper())"
   ]
  },
  {
   "cell_type": "code",
   "execution_count": null,
   "metadata": {},
   "outputs": [],
   "source": []
  }
 ],
 "metadata": {
  "kernelspec": {
   "display_name": "Python 3",
   "language": "python",
   "name": "python3"
  },
  "language_info": {
   "codemirror_mode": {
    "name": "ipython",
    "version": 3
   },
   "file_extension": ".py",
   "mimetype": "text/x-python",
   "name": "python",
   "nbconvert_exporter": "python",
   "pygments_lexer": "ipython3",
   "version": "3.7.6"
  }
 },
 "nbformat": 4,
 "nbformat_minor": 4
}
