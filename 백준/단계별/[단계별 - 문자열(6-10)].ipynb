{
 "cells": [
  {
   "cell_type": "markdown",
   "metadata": {},
   "source": [
    "# 단어의 개수\n",
    "#### 문제\n",
    "영어 대소문자와 띄어쓰기만으로 이루어진 문자열이 주어진다.  \n",
    "이 문자열에는 몇 개의 단어가 있을까? 이를 구하는 프로그램을 작성하시오.  \n",
    "단, 한 단어가 여러 번 등장하면 등장한 횟수만큼 모두 세어야 한다.  \n",
    "\n",
    "#### 입력\n",
    "첫 줄에 영어 대소문자와 띄어쓰기로 이루어진 문자열이 주어진다.   \n",
    "이 문자열의 길이는 1,000,000을 넘지 않는다.   \n",
    "단어는 띄어쓰기 한 개로 구분되며, 공백이 연속해서 나오는 경우는 없다.   \n",
    "또한 문자열의 앞과 뒤에는 공백이 있을 수도 있다.\n",
    "\n",
    "#### 출력\n",
    "첫째 줄에 단어의 개수를 출력한다."
   ]
  },
  {
   "cell_type": "code",
   "execution_count": 1,
   "metadata": {},
   "outputs": [
    {
     "name": "stdout",
     "output_type": "stream",
     "text": [
      "The Curious Case of Benjamin Button\n",
      "6\n"
     ]
    }
   ],
   "source": [
    "s = input().split()\n",
    "\n",
    "print(len(s))"
   ]
  },
  {
   "cell_type": "markdown",
   "metadata": {},
   "source": [
    "# 상수\n",
    "\n",
    "#### 문제\n",
    "상근이의 동생 상수는 수학을 정말 못한다. 상수는 숫자를 읽는데 문제가 있다.   \n",
    "  이렇게 수학을 못하는 상수를 위해서 상근이는 수의 크기를 비교하는 문제를 내주었다.   \n",
    "  상근이는 세 자리 수 두 개를 칠판에 써주었다.  \n",
    "  그 다음에 크기가 큰 수를 말해보라고 했다.  \n",
    "\n",
    "상수는 수를 다른 사람과 다르게 거꾸로 읽는다.   \n",
    "예를 들어, 734와 893을 칠판에 적었다면, 상수는 이 수를 437과 398로 읽는다.   \n",
    "따라서, 상수는 두 수중 큰 수인 437을 큰 수라고 말할 것이다.\n",
    "\n",
    "\n",
    "두 수가 주어졌을 때, 상수의 대답을 출력하는 프로그램을 작성하시오.\n",
    "\n",
    "#### 입력\n",
    "첫째 줄에 상근이가 칠판에 적은 두 수 A와 B가 주어진다.   \n",
    "두 수는 같지 않은 세 자리 수이며, 0이 포함되어 있지 않다.  \n",
    " \n",
    "#### 출력\n",
    "첫째 줄에 상수의 대답을 출력한다."
   ]
  },
  {
   "cell_type": "code",
   "execution_count": 15,
   "metadata": {},
   "outputs": [
    {
     "name": "stdout",
     "output_type": "stream",
     "text": [
      "734 893\n",
      "437\n"
     ]
    }
   ],
   "source": [
    "a1, a2 = map(str, input().split())\n",
    "\n",
    "# 입력받고 거꾸로 저장\n",
    "a1, a2 = a1[::-1] , a2[::-1]\n",
    "a = [int(a1), int(a2)]\n",
    "\n",
    "print(max(a))"
   ]
  },
  {
   "cell_type": "markdown",
   "metadata": {},
   "source": [
    "# 다이얼 \n",
    "#### 문제\n",
    "상근이의 할머니는 아래 그림과 같이 오래된 다이얼 전화기를 사용한다   \n",
    " \n",
    "전화를 걸고 싶은 번호가 있다면, 숫자를 하나를 누른 다음에 금속 핀이 있는 곳 까지 시계방향으로 돌려야 한다.   \n",
    "숫자를 하나 누르면 다이얼이 처음 위치로 돌아가고, 다음 숫자를 누르려면 다이얼을 처음 위치에서 다시 돌려야 한다.  \n",
    "\n",
    "숫자 1을 걸려면 총 2초가 필요하다. 1보다 큰 수를 거는데 걸리는 시간은 이보다 더 걸리며, 한 칸 옆에 있는 숫자를 걸기 위해선 1초씩 더 걸린다.  \n",
    "\n",
    "상근이의 할머니는 전화 번호를 각 숫자에 해당하는 문자로 외운다. 즉, 어떤 단어를 걸 때, 각 알파벳에 해당하는 숫자를 걸면 된다. 예를 들어, UNUCIC는 868242와 같다.  \n",
    "\n",
    "할머니가 외운 단어가 주어졌을 때, 이 전화를 걸기 위해서 필요한 최소 시간을 구하는 프로그램을 작성하시오.  \n",
    "\n",
    "#### 입력\n",
    "첫째 줄에 알파벳 대문자로 이루어진 단어가 주어진다. 단어는 2글자~15글자로 이루어져 있다.\n",
    "\n",
    "#### 출력\n",
    "첫째 줄에 다이얼을 걸기 위해서 필요한 최소 시간을 출력한다."
   ]
  },
  {
   "cell_type": "code",
   "execution_count": 175,
   "metadata": {},
   "outputs": [
    {
     "name": "stdout",
     "output_type": "stream",
     "text": [
      "36\n"
     ]
    }
   ],
   "source": [
    "s = input()\n",
    "answer = 0\n",
    "for i in s:\n",
    "    if ((ord(i)-59)//3) < 7:\n",
    "        answer += ((ord(i)-59)//3)\n",
    "    else :\n",
    "        if 80 <= ord(i) <= 83:\n",
    "            answer += 7\n",
    "        elif 83 < ord(i) <= 86:\n",
    "            answer += 8\n",
    "        elif 87 <= ord(i) <= 90:\n",
    "            answer += 9\n",
    "\n",
    "\n",
    "answer += len(s)\n",
    "print(answer)"
   ]
  },
  {
   "cell_type": "code",
   "execution_count": 173,
   "metadata": {},
   "outputs": [
    {
     "name": "stdout",
     "output_type": "stream",
     "text": [
      "80\n"
     ]
    }
   ],
   "source": [
    "print(ord('P'))\n",
    "\n",
    "80 81 82 83 \n",
    "\n",
    "84 85 86\n",
    "\n",
    "87 88 89 90 "
   ]
  },
  {
   "cell_type": "markdown",
   "metadata": {},
   "source": [
    "# 크로아티아 알파벳"
   ]
  },
  {
   "cell_type": "code",
   "execution_count": 261,
   "metadata": {},
   "outputs": [
    {
     "name": "stdout",
     "output_type": "stream",
     "text": [
      "c=c=\n",
      "2\n"
     ]
    }
   ],
   "source": [
    "code = ['c=', 'c-', 'dz=', 'd-', 'lj', 'nj', 's=', 'z=']\n",
    "s = input()\n",
    "for i in code:\n",
    "    s = s.replace(i, 'H')\n",
    "print(len(s))"
   ]
  },
  {
   "cell_type": "markdown",
   "metadata": {},
   "source": [
    "# 그룹 단어 체커 \n",
    "\n",
    "#### 문제\n",
    "그룹 단어란 단어에 존재하는 모든 문자에 대해서, 각 문자가 연속해서 나타나는 경우만을 말한다.  \n",
    "예를 들면, ccazzzzbb는 c, a, z, b가 모두 연속해서 나타나고, kin도 k, i, n이 연속해서 나타나기 때문에 그룹 단어이지만,   \n",
    "aabbbccb는 b가 떨어져서 나타나기 때문에 그룹 단어가 아니다.\n",
    "\n",
    "단어 N개를 입력으로 받아 그룹 단어의 개수를 출력하는 프로그램을 작성하시오.  \n",
    "\n",
    "#### 입력\n",
    "첫째 줄에 단어의 개수 N이 들어온다. N은 100보다 작거나 같은 자연수이다. 둘째 줄부터 N개의 줄에 단어가 들어온다. 단어는 알파벳 소문자로만 되어있고 중복되지 않으며, 길이는 최대 100이다.\n",
    "\n",
    "#### 출력\n",
    "첫째 줄에 그룹 단어의 개수를 출력한다."
   ]
  },
  {
   "cell_type": "code",
   "execution_count": 284,
   "metadata": {},
   "outputs": [
    {
     "name": "stdout",
     "output_type": "stream",
     "text": [
      "4\n",
      "aba\n",
      "abab\n",
      "ababcab\n",
      "a\n",
      "1\n"
     ]
    }
   ],
   "source": [
    "N = int(input())\n",
    "\n",
    "input_word = []\n",
    "for _ in range(N):\n",
    "    input_word.append(input())\n",
    "    \n",
    "for s in input_word:\n",
    "    word = [0]\n",
    "    for i in s:\n",
    "        if word[-1] == i:\n",
    "            pass\n",
    "        \n",
    "        elif i in word:\n",
    "            N -= 1\n",
    "            break\n",
    "        \n",
    "\n",
    "        else:\n",
    "            word.append(i)\n",
    "\n",
    "print(N)"
   ]
  },
  {
   "cell_type": "code",
   "execution_count": null,
   "metadata": {},
   "outputs": [],
   "source": []
  }
 ],
 "metadata": {
  "kernelspec": {
   "display_name": "Python 3",
   "language": "python",
   "name": "python3"
  },
  "language_info": {
   "codemirror_mode": {
    "name": "ipython",
    "version": 3
   },
   "file_extension": ".py",
   "mimetype": "text/x-python",
   "name": "python",
   "nbconvert_exporter": "python",
   "pygments_lexer": "ipython3",
   "version": "3.7.6"
  }
 },
 "nbformat": 4,
 "nbformat_minor": 4
}
