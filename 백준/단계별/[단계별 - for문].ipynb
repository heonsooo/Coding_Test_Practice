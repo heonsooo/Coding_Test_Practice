{
 "cells": [
  {
   "cell_type": "markdown",
   "metadata": {},
   "source": [
    "# 구구단\n",
    "N을 입력받은 뒤, 구구단 N단을 출력하는 프로그램을 작성하시오.   \n",
    "출력 형식에 맞춰서 출력하면 된다.\n"
   ]
  },
  {
   "cell_type": "code",
   "execution_count": 2,
   "metadata": {},
   "outputs": [
    {
     "name": "stdout",
     "output_type": "stream",
     "text": [
      "7\n",
      "7 * 1 = 7\n",
      "7 * 2 = 14\n",
      "7 * 3 = 21\n",
      "7 * 4 = 28\n",
      "7 * 5 = 35\n",
      "7 * 6 = 42\n",
      "7 * 7 = 49\n",
      "7 * 8 = 56\n",
      "7 * 9 = 63\n"
     ]
    }
   ],
   "source": [
    "N = int(input())\n",
    "\n",
    "for i in range(1,10):\n",
    "    print('{} * {} = {}'.format(N,i,N*i))\n",
    "                        "
   ]
  },
  {
   "cell_type": "markdown",
   "metadata": {},
   "source": [
    "# A+B - 3\n",
    "두 정수 A와 B를 입력받은 다음, A+B를 출력하는 프로그램을 작성하시오."
   ]
  },
  {
   "cell_type": "code",
   "execution_count": 5,
   "metadata": {},
   "outputs": [
    {
     "name": "stdout",
     "output_type": "stream",
     "text": [
      "4\n",
      "1 3\n",
      "2 4\n",
      "5 7\n",
      "9 64\n",
      "4\n",
      "6\n",
      "12\n",
      "73\n"
     ]
    }
   ],
   "source": [
    "n = int(input())\n",
    "\n",
    "nums = [] \n",
    "for _ in range(n):\n",
    "    nums.append(list(map(int,input().split())))\n",
    "\n",
    "for i in nums[:]:\n",
    "    \n",
    "    print(i[0]+i[1])"
   ]
  },
  {
   "cell_type": "markdown",
   "metadata": {},
   "source": [
    "# 합\n",
    "n이 주어졌을 때, 1부터 n까지 합을 구하는 프로그램을 작성하시오."
   ]
  },
  {
   "cell_type": "code",
   "execution_count": 6,
   "metadata": {},
   "outputs": [
    {
     "name": "stdout",
     "output_type": "stream",
     "text": [
      "7\n",
      "28\n"
     ]
    }
   ],
   "source": [
    "N = int(input())\n",
    "answer = 0\n",
    "for j in range(N+1):\n",
    "    answer +=j\n",
    "    \n",
    "print(answer)"
   ]
  },
  {
   "cell_type": "markdown",
   "metadata": {},
   "source": [
    "# 빠른 A+B\n",
    "첫 줄에 테스트케이스의 개수 T가 주어진다.   \n",
    "T는 최대 1,000,000이다.   \n",
    "다음 T줄에는 각각 두 정수 A와 B가 주어진다.   \n",
    "A와 B는 1 이상, 1,000 이하이다.  \n",
    "각 테스트케이스마다 A+B를 한 줄에 하나씩 순서대로 출력한다.  \n",
    "\n",
    "- tip) Python을 사용하고 있다면, input 대신 sys.stdin.readline을 사용할 수 있다.  \n",
    "  단, 이때는 맨 끝의 개행문자까지 같이 입력받기 때문에 문자열을 저장하고 싶을 경우 .rstrip()을 추가로 해 주는 것이 좋다. "
   ]
  },
  {
   "cell_type": "code",
   "execution_count": 27,
   "metadata": {},
   "outputs": [],
   "source": [
    "import sys\n",
    "\n",
    "input = sys.stdin.readline\n",
    "\n",
    "a = list(map(int, input().split()))"
   ]
  },
  {
   "cell_type": "markdown",
   "metadata": {},
   "source": [
    "# N 찍기\n",
    "\n",
    "자연수 N이 주어졌을 때, 1부터 N까지 한 줄에 하나씩 출력하는 프로그램을 작성하시오.\n"
   ]
  },
  {
   "cell_type": "code",
   "execution_count": 1,
   "metadata": {},
   "outputs": [
    {
     "name": "stdout",
     "output_type": "stream",
     "text": [
      "7\n",
      "1\n",
      "2\n",
      "3\n",
      "4\n",
      "5\n",
      "6\n"
     ]
    }
   ],
   "source": [
    "for i in range(1,int(input())):\n",
    "    print(i)"
   ]
  },
  {
   "cell_type": "markdown",
   "metadata": {},
   "source": [
    "# 기찍 N \n",
    "자연수 N이 주어졌을 때, N부터 1까지 한 줄에 하나씩 출력하는 프로그램을 작성하시오."
   ]
  },
  {
   "cell_type": "markdown",
   "metadata": {},
   "source": [
    "# 기찍 N \n",
    "자연수 N이 주어졌을 때, N부터 1까지 한 줄에 하나씩 출력하는 프로그램을 작성하시오."
   ]
  },
  {
   "cell_type": "code",
   "execution_count": 2,
   "metadata": {
    "scrolled": false
   },
   "outputs": [
    {
     "name": "stdout",
     "output_type": "stream",
     "text": [
      "7\n",
      "7\n",
      "6\n",
      "5\n",
      "4\n",
      "3\n",
      "2\n"
     ]
    }
   ],
   "source": [
    "for i in range(int(input()),1,-1):\n",
    "    print(i)"
   ]
  },
  {
   "cell_type": "markdown",
   "metadata": {},
   "source": [
    "# A+B - 7\n",
    "두 정수 A와 B를 입력받은 다음, A+B를 출력하는 프로그램을 작성하시오."
   ]
  },
  {
   "cell_type": "code",
   "execution_count": 5,
   "metadata": {},
   "outputs": [
    {
     "name": "stdout",
     "output_type": "stream",
     "text": [
      "5\n",
      "1 1\n",
      "2 3\n",
      "3 4\n",
      "9 8\n",
      "5 2\n",
      "Case #1: 2\n",
      "Case #2: 5\n",
      "Case #3: 7\n",
      "Case #4: 17\n",
      "Case #5: 7\n"
     ]
    }
   ],
   "source": [
    "N = int(input())\n",
    "num = []\n",
    "for i in range(N):\n",
    "    num.append(list(map(int,input().split())))\n",
    "\n",
    "for j in range(1,N+1):\n",
    "    print('Case #{}: {}'.format(j, num[j-1][0]+num[j-1][1]))\n",
    "    "
   ]
  },
  {
   "cell_type": "markdown",
   "metadata": {
    "scrolled": true
   },
   "source": [
    "# A+B - 8\n",
    "두 정수 A와 B를 입력받은 다음, A+B를 출력하는 프로그램을 작성하시오.\n"
   ]
  },
  {
   "cell_type": "code",
   "execution_count": 6,
   "metadata": {
    "scrolled": false
   },
   "outputs": [
    {
     "name": "stdout",
     "output_type": "stream",
     "text": [
      "5\n",
      "1 1\n",
      "2 3\n",
      "3 4\n",
      "9 8\n",
      "5 2\n",
      "Case #1:1 + 1 = 2\n",
      "Case #2:2 + 3 = 5\n",
      "Case #3:3 + 4 = 7\n",
      "Case #4:9 + 8 = 17\n",
      "Case #5:5 + 2 = 7\n"
     ]
    }
   ],
   "source": [
    "N = int(input())\n",
    "num = []\n",
    "for i in range(N):\n",
    "    num.append(list(map(int,input().split())))\n",
    "\n",
    "for j in range(1,N+1):\n",
    "    print('Case #{}: {} + {} = {}'.format(j, num[j-1][0],num[j-1][1],num[j-1][0]+num[j-1][1]))\n"
   ]
  },
  {
   "cell_type": "markdown",
   "metadata": {},
   "source": [
    "# 별 찍기 -1"
   ]
  },
  {
   "cell_type": "code",
   "execution_count": 7,
   "metadata": {},
   "outputs": [
    {
     "name": "stdout",
     "output_type": "stream",
     "text": [
      "7\n",
      "*\n",
      "**\n",
      "***\n",
      "****\n",
      "*****\n",
      "******\n",
      "*******\n"
     ]
    }
   ],
   "source": [
    "for i in range( 1, int(input())+1):\n",
    "    print('*'*i)"
   ]
  },
  {
   "cell_type": "markdown",
   "metadata": {},
   "source": [
    "# 별 찍기 -2\n",
    "첫째 줄에는 별 1개, 둘째 줄에는 별 2개, N번째 줄에는 별 N개를 찍는 문제  \n",
    "  \n",
    "하지만, 오른쪽을 기준으로 정렬한 별(예제 참고)을 출력하시오."
   ]
  },
  {
   "cell_type": "code",
   "execution_count": 12,
   "metadata": {},
   "outputs": [
    {
     "name": "stdout",
     "output_type": "stream",
     "text": [
      "8\n",
      "       *\n",
      "      **\n",
      "     ***\n",
      "    ****\n",
      "   *****\n",
      "  ******\n",
      " *******\n",
      "********\n"
     ]
    }
   ],
   "source": [
    "n = int(input())\n",
    "for i in range( 1, n+1):\n",
    "    print(' '*(n-i)+'*'*i)"
   ]
  },
  {
   "cell_type": "markdown",
   "metadata": {},
   "source": [
    "# X보다 작은 수 \n",
    "정수 N개로 이루어진 수열 A와 정수 X가 주어진다. 이때, A에서 X보다 작은 수를 모두 출력하는 프로그램을 작성하시오.\n",
    "\n"
   ]
  },
  {
   "cell_type": "code",
   "execution_count": 14,
   "metadata": {},
   "outputs": [
    {
     "ename": "ValueError",
     "evalue": "not enough values to unpack (expected 2, got 0)",
     "output_type": "error",
     "traceback": [
      "\u001b[1;31m---------------------------------------------------------------------------\u001b[0m",
      "\u001b[1;31mValueError\u001b[0m                                Traceback (most recent call last)",
      "\u001b[1;32m<ipython-input-14-5df79520a975>\u001b[0m in \u001b[0;36m<module>\u001b[1;34m\u001b[0m\n\u001b[0;32m      2\u001b[0m \u001b[0minput\u001b[0m \u001b[1;33m=\u001b[0m \u001b[0msys\u001b[0m\u001b[1;33m.\u001b[0m\u001b[0mstdin\u001b[0m\u001b[1;33m.\u001b[0m\u001b[0mreadline\u001b[0m\u001b[1;33m\u001b[0m\u001b[1;33m\u001b[0m\u001b[0m\n\u001b[0;32m      3\u001b[0m \u001b[0manswer\u001b[0m \u001b[1;33m=\u001b[0m \u001b[1;33m[\u001b[0m\u001b[1;33m]\u001b[0m\u001b[1;33m\u001b[0m\u001b[1;33m\u001b[0m\u001b[0m\n\u001b[1;32m----> 4\u001b[1;33m \u001b[0mN\u001b[0m\u001b[1;33m,\u001b[0m \u001b[0mK\u001b[0m \u001b[1;33m=\u001b[0m \u001b[0mlist\u001b[0m\u001b[1;33m(\u001b[0m\u001b[0mmap\u001b[0m\u001b[1;33m(\u001b[0m\u001b[0mint\u001b[0m\u001b[1;33m,\u001b[0m \u001b[0minput\u001b[0m\u001b[1;33m(\u001b[0m\u001b[1;33m)\u001b[0m\u001b[1;33m.\u001b[0m\u001b[0msplit\u001b[0m\u001b[1;33m(\u001b[0m\u001b[1;33m)\u001b[0m\u001b[1;33m)\u001b[0m\u001b[1;33m)\u001b[0m\u001b[1;33m\u001b[0m\u001b[1;33m\u001b[0m\u001b[0m\n\u001b[0m\u001b[0;32m      5\u001b[0m \u001b[0mNum\u001b[0m \u001b[1;33m=\u001b[0m \u001b[0mlist\u001b[0m\u001b[1;33m(\u001b[0m\u001b[0mmap\u001b[0m\u001b[1;33m(\u001b[0m\u001b[0mint\u001b[0m\u001b[1;33m,\u001b[0m \u001b[0minput\u001b[0m\u001b[1;33m(\u001b[0m\u001b[1;33m)\u001b[0m\u001b[1;33m.\u001b[0m\u001b[0msplit\u001b[0m\u001b[1;33m(\u001b[0m\u001b[1;33m)\u001b[0m\u001b[1;33m)\u001b[0m\u001b[1;33m)\u001b[0m\u001b[1;33m\u001b[0m\u001b[1;33m\u001b[0m\u001b[0m\n\u001b[0;32m      6\u001b[0m \u001b[1;33m\u001b[0m\u001b[0m\n",
      "\u001b[1;31mValueError\u001b[0m: not enough values to unpack (expected 2, got 0)"
     ]
    }
   ],
   "source": [
    "import sys\n",
    "input = sys.stdin.readline\n",
    "answer = []\n",
    "N, K = list(map(int, input().split()))\n",
    "Num = list(map(int, input().split()))\n",
    "\n",
    "for i in Num:\n",
    "    if i < K:\n",
    "        answer.append(i)\n",
    "\n",
    "for j in answer:\n",
    "    print(j, end = ' ')"
   ]
  }
 ],
 "metadata": {
  "kernelspec": {
   "display_name": "Python 3",
   "language": "python",
   "name": "python3"
  },
  "language_info": {
   "codemirror_mode": {
    "name": "ipython",
    "version": 3
   },
   "file_extension": ".py",
   "mimetype": "text/x-python",
   "name": "python",
   "nbconvert_exporter": "python",
   "pygments_lexer": "ipython3",
   "version": "3.7.6"
  }
 },
 "nbformat": 4,
 "nbformat_minor": 4
}
